{
  "nbformat": 4,
  "nbformat_minor": 0,
  "metadata": {
    "colab": {
      "provenance": [],
      "authorship_tag": "ABX9TyOuRCC4Sr1SMzTXaUxc7Jpx",
      "include_colab_link": true
    },
    "kernelspec": {
      "name": "python3",
      "display_name": "Python 3"
    },
    "language_info": {
      "name": "python"
    }
  },
  "cells": [
    {
      "cell_type": "markdown",
      "metadata": {
        "id": "view-in-github",
        "colab_type": "text"
      },
      "source": [
        "<a href=\"https://colab.research.google.com/github/pandhare-sneha/sneha/blob/master/solution_5.ipynb\" target=\"_parent\"><img src=\"https://colab.research.google.com/assets/colab-badge.svg\" alt=\"Open In Colab\"/></a>"
      ]
    },
    {
      "cell_type": "markdown",
      "source": [
        "Write a Python function that accepts a string and calculates the number of uppercase letters and lower case letters.\n",
        "\n",
        "\n",
        "\n",
        "Sample String : 'The quick Brow Fox'\n",
        "\n",
        "Expected Output :\n",
        "\n",
        "No. of Upper case characters : 3\n",
        "\n",
        "No. of Lower case Characters : 12"
      ],
      "metadata": {
        "id": "XrRYLCEcb6e3"
      }
    },
    {
      "cell_type": "code",
      "execution_count": null,
      "metadata": {
        "colab": {
          "base_uri": "https://localhost:8080/"
        },
        "id": "OqwBl48VbX_K",
        "outputId": "95f42c80-8a4f-410f-c484-d727ebf56299"
      },
      "outputs": [
        {
          "output_type": "stream",
          "name": "stdout",
          "text": [
            "No. of Upper case characters: 3\n",
            "No. of Lower case characters: 12\n"
          ]
        }
      ],
      "source": [
        "def count_case_characters(input_str):\n",
        "    uppercase_count = sum(1 for char in input_str if char.isupper())\n",
        "    lowercase_count = sum(1 for char in input_str if char.islower())\n",
        "\n",
        "    print(\"No. of Upper case characters:\", uppercase_count)\n",
        "    print(\"No. of Lower case characters:\", lowercase_count)\n",
        "\n",
        "# Sample String\n",
        "input = 'The quick Brow Fox'\n",
        "\n",
        "# Call the function with the sample string\n",
        "count_case_characters(input)\n"
      ]
    }
  ]
}