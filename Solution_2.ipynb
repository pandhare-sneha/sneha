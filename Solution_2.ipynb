{
  "nbformat": 4,
  "nbformat_minor": 0,
  "metadata": {
    "colab": {
      "provenance": [],
      "authorship_tag": "ABX9TyPWHgU3QXcV78PlFJdVTNdK",
      "include_colab_link": true
    },
    "kernelspec": {
      "name": "python3",
      "display_name": "Python 3"
    },
    "language_info": {
      "name": "python"
    }
  },
  "cells": [
    {
      "cell_type": "markdown",
      "metadata": {
        "id": "view-in-github",
        "colab_type": "text"
      },
      "source": [
        "<a href=\"https://colab.research.google.com/github/pandhare-sneha/sneha/blob/master/Solution_2.ipynb\" target=\"_parent\"><img src=\"https://colab.research.google.com/assets/colab-badge.svg\" alt=\"Open In Colab\"/></a>"
      ]
    },
    {
      "cell_type": "markdown",
      "source": [
        "Write a program that prompts the user to input number of calls and calculate the monthly telephone bills as per the following rule:\n",
        "\n",
        "\n",
        "\n",
        "● Minimum Rs. 200 for up to 100 calls.\n",
        "\n",
        "● Plus Rs. 0.60 per call for next 50 calls.\n",
        "\n",
        "● Plus Rs. 0.50 per call for next 50 calls.\n",
        "\n",
        "● Plus Rs. 0.40 per call for any call beyond 200 calls."
      ],
      "metadata": {
        "id": "PETmYk1JXESP"
      }
    },
    {
      "cell_type": "code",
      "source": [
        "def monthly_bill():\n",
        "    num = int(input(\"Please enter the number of calls: \"))\n",
        "    base_charge = 200\n",
        "    call_rate_1 = 0.60  # for calls 101 to 150\n",
        "    call_rate_2 = 0.50  # for calls 151 to 200\n",
        "    call_rate_3 = 0.40  # for calls beyond 200\n",
        "\n",
        "    if num > 200:\n",
        "        bill = base_charge + 50 * call_rate_1 + 50 * call_rate_2 + (num - 200) * call_rate_3\n",
        "    elif num > 150:\n",
        "        bill = base_charge + 50 * call_rate_1 + (num - 150) * call_rate_2\n",
        "    elif num > 100:\n",
        "        bill = base_charge + (num - 100) * call_rate_1\n",
        "    else:\n",
        "        bill = base_charge\n",
        "    print(f\"Monthly Telephone Bill: Rs. {bill:.2f}\")\n",
        "\n",
        "# It Call the function to calculate and print the bill\n",
        "monthly_bill()\n"
      ],
      "metadata": {
        "colab": {
          "base_uri": "https://localhost:8080/"
        },
        "id": "ap4TA_xkXGlb",
        "outputId": "88b16a4d-ccb7-4d5a-d6c5-19e01e7d83fd"
      },
      "execution_count": 1,
      "outputs": [
        {
          "output_type": "stream",
          "name": "stdout",
          "text": [
            "Please enter the number of calls: 55\n",
            "Monthly Telephone Bill: Rs. 200.00\n"
          ]
        }
      ]
    }
  ]
}