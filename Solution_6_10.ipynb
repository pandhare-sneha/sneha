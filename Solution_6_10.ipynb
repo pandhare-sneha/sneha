{
  "nbformat": 4,
  "nbformat_minor": 0,
  "metadata": {
    "colab": {
      "provenance": [],
      "authorship_tag": "ABX9TyMvY+fhMS++VWaVNanIIdDs",
      "include_colab_link": true
    },
    "kernelspec": {
      "name": "python3",
      "display_name": "Python 3"
    },
    "language_info": {
      "name": "python"
    }
  },
  "cells": [
    {
      "cell_type": "markdown",
      "metadata": {
        "id": "view-in-github",
        "colab_type": "text"
      },
      "source": [
        "<a href=\"https://colab.research.google.com/github/pandhare-sneha/sneha/blob/master/Solution_6_10.ipynb\" target=\"_parent\"><img src=\"https://colab.research.google.com/assets/colab-badge.svg\" alt=\"Open In Colab\"/></a>"
      ]
    },
    {
      "cell_type": "markdown",
      "source": [
        "Challenge 1: Square Numbers and Return Their Sum\n"
      ],
      "metadata": {
        "id": "5JhMp3fgcqnd"
      }
    },
    {
      "cell_type": "code",
      "execution_count": 1,
      "metadata": {
        "colab": {
          "base_uri": "https://localhost:8080/"
        },
        "id": "9Xa6CdGMcN3c",
        "outputId": "e1000646-2c1c-4888-e8d5-6aacca64c37f"
      },
      "outputs": [
        {
          "output_type": "stream",
          "name": "stdout",
          "text": [
            "35\n"
          ]
        }
      ],
      "source": [
        "\n",
        "class Point:\n",
        "\n",
        "    def __init__(self, x, y, z):\n",
        "        self.x = x\n",
        "        self.y = y\n",
        "        self.z = z\n",
        "    def sqsum(self):\n",
        "        return(pow(self.x,2)+pow(self.y,2)+pow(self.z,2))\n",
        "a1= Point(1,3,5)\n",
        "print(a1.sqsum())"
      ]
    },
    {
      "cell_type": "markdown",
      "source": [
        "Challenge 2: Implement a Calculator Class"
      ],
      "metadata": {
        "id": "T5i8wRRGdIwJ"
      }
    },
    {
      "cell_type": "code",
      "source": [
        "class Calculator:\n",
        "    def __init__(self,num1, num2):\n",
        "        self.num1= num1\n",
        "        self.num2= num2\n",
        "\n",
        "    def add(self):\n",
        "        return(self.num1+self.num2)\n",
        "\n",
        "    def subtract(self):\n",
        "        return(self.num1-self.num2)\n",
        "\n",
        "    def multiply(self):\n",
        "        return(self.num1*self.num2)\n",
        "\n",
        "    def divide(self):\n",
        "        return(self.num1/self.num2)\n",
        "\n",
        "a1= Calculator(7,5)\n",
        "print(a1.add())\n",
        "print(a1.subtract())\n",
        "print(a1.multiply())\n",
        "print(a1.divide())"
      ],
      "metadata": {
        "colab": {
          "base_uri": "https://localhost:8080/"
        },
        "id": "FbZX1fG9dKYo",
        "outputId": "dc72ddc7-5274-43c0-87e9-668b685f024e"
      },
      "execution_count": 2,
      "outputs": [
        {
          "output_type": "stream",
          "name": "stdout",
          "text": [
            "12\n",
            "2\n",
            "35\n",
            "1.4\n"
          ]
        }
      ]
    },
    {
      "cell_type": "markdown",
      "source": [
        "Challenge 3: Implement the Complete Student Class"
      ],
      "metadata": {
        "id": "kaSmo7aVdl3w"
      }
    },
    {
      "cell_type": "code",
      "source": [
        "class Student:\n",
        "    def __init__(self,name, rollNumber):\n",
        "        self.name= name\n",
        "        self.rn= rollNumber\n",
        "\n",
        "    def get_name(self):\n",
        "        return self.name\n",
        "\n",
        "    def set_name(self,val):\n",
        "        self.name= val\n",
        "\n",
        "\n",
        "    def get_rn(self):\n",
        "        return self.rn\n",
        "\n",
        "    def set_rn(self,val):\n",
        "        self.rn= val\n",
        "\n",
        "\n",
        "a1 = Student('Sneha', 27)\n",
        "print(a1.get_name())\n",
        "print(a1.get_rn())\n",
        "\n",
        "a1.set_name('Ranjit')\n",
        "a1.set_rn(18)\n",
        "print(a1.get_name())\n",
        "print(a1.get_rn())"
      ],
      "metadata": {
        "colab": {
          "base_uri": "https://localhost:8080/"
        },
        "id": "_U0aWA08dnAu",
        "outputId": "ea2c1591-69c7-4ff4-d09a-7089f84ec0e7"
      },
      "execution_count": 4,
      "outputs": [
        {
          "output_type": "stream",
          "name": "stdout",
          "text": [
            "Sneha\n",
            "27\n",
            "Ranjit\n",
            "18\n"
          ]
        }
      ]
    },
    {
      "cell_type": "markdown",
      "source": [
        "Challenge 4: Implement a Banking Account"
      ],
      "metadata": {
        "id": "8Ba4L4QQeO6C"
      }
    },
    {
      "cell_type": "code",
      "source": [
        "class Account:\n",
        "    def __init__(self, title=None, balance=0):\n",
        "        self.title = title\n",
        "        self.Balance = balance\n",
        "\n",
        "class SavingsAccount(Account):\n",
        "    def __init__(self, title, balance, interestRate=0):\n",
        "        super().__init__(title, balance)\n",
        "        self.interestRate = interestRate\n",
        "\n",
        "savings_account = SavingsAccount(\"Sneha\", 5000, 12)\n",
        "print(\"Title:\", savings_account.title)\n",
        "print(\"Balance:\", savings_account.Balance)\n",
        "print(\"Interest Rate:\", savings_account.interestRate)\n",
        "\n",
        ""
      ],
      "metadata": {
        "colab": {
          "base_uri": "https://localhost:8080/"
        },
        "id": "ke-OSGKGecHo",
        "outputId": "384b202c-ba9a-4fca-beba-66b0695ad31b"
      },
      "execution_count": 8,
      "outputs": [
        {
          "output_type": "stream",
          "name": "stdout",
          "text": [
            "Title: Sneha\n",
            "Balance: 5000\n",
            "Interest Rate: 12\n"
          ]
        }
      ]
    },
    {
      "cell_type": "markdown",
      "source": [
        "Challenge 5: Handling a Bank Account\n"
      ],
      "metadata": {
        "id": "mpAV4cx2fRMO"
      }
    },
    {
      "cell_type": "code",
      "source": [
        "class Account:\n",
        "    def __init__(self, title=None, balance=0):\n",
        "        self.title = title\n",
        "        self.balance = balance\n",
        "\n",
        "    def withdrawal(self, amount):\n",
        "        self.balance-= amount\n",
        "\n",
        "\n",
        "    def deposit(self, amount):\n",
        "        self.balance+= amount\n",
        "\n",
        "\n",
        "    def getBalance(self):\n",
        "        return self.balance\n",
        "\n",
        "\n",
        "class SavingsAccount(Account):\n",
        "    def __init__(self, title=None, balance=0, interestRate=0):\n",
        "            super().__init__(title, balance)\n",
        "            self.interestRate = interestRate\n",
        "\n",
        "\n",
        "\n",
        "    def interestAmount(self):\n",
        "        interest_amount = self.balance * (self.interest_rate / 100)\n",
        "\n",
        "\n",
        "#code to test - do not edit this\n",
        "demo1 = SavingsAccount(\"Ashish\", 2000, 5)   # initializing a SavingsAccount object\n"
      ],
      "metadata": {
        "id": "Z0ID1W8SfT2E"
      },
      "execution_count": 13,
      "outputs": []
    }
  ]
}