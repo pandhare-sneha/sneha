{
  "nbformat": 4,
  "nbformat_minor": 0,
  "metadata": {
    "colab": {
      "provenance": [],
      "authorship_tag": "ABX9TyNPypx6roFINTAQwybW4uuU",
      "include_colab_link": true
    },
    "kernelspec": {
      "name": "python3",
      "display_name": "Python 3"
    },
    "language_info": {
      "name": "python"
    }
  },
  "cells": [
    {
      "cell_type": "markdown",
      "metadata": {
        "id": "view-in-github",
        "colab_type": "text"
      },
      "source": [
        "<a href=\"https://colab.research.google.com/github/pandhare-sneha/sneha/blob/master/Solution_1.ipynb\" target=\"_parent\"><img src=\"https://colab.research.google.com/assets/colab-badge.svg\" alt=\"Open In Colab\"/></a>"
      ]
    },
    {
      "cell_type": "markdown",
      "source": [
        "Write a program that computes the net amount of a bank account based on a transaction log from console input. The transaction log / sample input is in the format as shown below:"
      ],
      "metadata": {
        "id": "dEl_vStiX8F8"
      }
    },
    {
      "cell_type": "code",
      "source": [
        "net_amt = 0\n",
        "while True:\n",
        "    log_msg = input(\"Enter transaction: \")\n",
        "    if log_msg == \"\":\n",
        "        break\n",
        "    else:\n",
        "        transactions = log_msg.split(\" \")\n",
        "        for i in transactions:\n",
        "            t = i.split(\":\")\n",
        "            if len(t) == 2:\n",
        "                transaction_type = t[0]\n",
        "                amt = int(t[1])\n",
        "                if transaction_type == \"D\":\n",
        "                    net_amt += amt\n",
        "                elif transaction_type == \"W\":\n",
        "                    net_amt -= amt\n",
        "                else:\n",
        "                    print(f\"Please Ignore invalid transaction type: {transaction_type}\")\n",
        "\n",
        "print(f\"Net Amount: {net_amt}\")\n"
      ],
      "metadata": {
        "id": "rM1dXFUOX_PR",
        "colab": {
          "base_uri": "https://localhost:8080/"
        },
        "outputId": "debaeecc-9501-4655-add3-6cf17a2737eb"
      },
      "execution_count": 6,
      "outputs": [
        {
          "output_type": "stream",
          "name": "stdout",
          "text": [
            "Enter transaction: D:100 W:200 D:400\n",
            "Enter transaction: \n",
            "Net Amount: 300\n"
          ]
        }
      ]
    }
  ]
}