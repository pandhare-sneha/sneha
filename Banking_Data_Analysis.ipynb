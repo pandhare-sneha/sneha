{
  "nbformat": 4,
  "nbformat_minor": 0,
  "metadata": {
    "colab": {
      "provenance": [],
      "authorship_tag": "ABX9TyMIdYmO0b66CMQ+PxAk1y1R",
      "include_colab_link": true
    },
    "kernelspec": {
      "name": "python3",
      "display_name": "Python 3"
    },
    "language_info": {
      "name": "python"
    }
  },
  "cells": [
    {
      "cell_type": "markdown",
      "metadata": {
        "id": "view-in-github",
        "colab_type": "text"
      },
      "source": [
        "<a href=\"https://colab.research.google.com/github/pandhare-sneha/sneha/blob/master/Banking_Data_Analysis.ipynb\" target=\"_parent\"><img src=\"https://colab.research.google.com/assets/colab-badge.svg\" alt=\"Open In Colab\"/></a>"
      ]
    },
    {
      "cell_type": "code",
      "execution_count": null,
      "metadata": {
        "colab": {
          "base_uri": "https://localhost:8080/"
        },
        "id": "RFgfzj3IH7Mn",
        "outputId": "4d644f82-e06c-4982-b263-cf863691874a"
      },
      "outputs": [
        {
          "output_type": "stream",
          "name": "stdout",
          "text": [
            "--2023-12-19 12:10:16--  https://archive.apache.org/dist/spark/spark-3.0.0/spark-3.0.0-bin-hadoop2.7.tgz\n",
            "Resolving archive.apache.org (archive.apache.org)... 65.108.204.189, 2a01:4f9:1a:a084::2\n",
            "Connecting to archive.apache.org (archive.apache.org)|65.108.204.189|:443... connected.\n",
            "HTTP request sent, awaiting response... 200 OK\n",
            "Length: 220272364 (210M) [application/x-gzip]\n",
            "Saving to: ‘spark-3.0.0-bin-hadoop2.7.tgz.1’\n",
            "\n",
            "spark-3.0.0-bin-had 100%[===================>] 210.07M  22.2MB/s    in 10s     \n",
            "\n",
            "2023-12-19 12:10:27 (20.3 MB/s) - ‘spark-3.0.0-bin-hadoop2.7.tgz.1’ saved [220272364/220272364]\n",
            "\n",
            "spark-3.0.0-bin-hadoop2.7/\n",
            "spark-3.0.0-bin-hadoop2.7/NOTICE\n",
            "spark-3.0.0-bin-hadoop2.7/kubernetes/\n",
            "spark-3.0.0-bin-hadoop2.7/kubernetes/tests/\n",
            "spark-3.0.0-bin-hadoop2.7/kubernetes/tests/worker_memory_check.py\n",
            "spark-3.0.0-bin-hadoop2.7/kubernetes/tests/py_container_checks.py\n",
            "spark-3.0.0-bin-hadoop2.7/kubernetes/tests/pyfiles.py\n",
            "spark-3.0.0-bin-hadoop2.7/kubernetes/dockerfiles/\n",
            "spark-3.0.0-bin-hadoop2.7/kubernetes/dockerfiles/spark/\n",
            "spark-3.0.0-bin-hadoop2.7/kubernetes/dockerfiles/spark/entrypoint.sh\n",
            "spark-3.0.0-bin-hadoop2.7/kubernetes/dockerfiles/spark/bindings/\n",
            "spark-3.0.0-bin-hadoop2.7/kubernetes/dockerfiles/spark/bindings/R/\n",
            "spark-3.0.0-bin-hadoop2.7/kubernetes/dockerfiles/spark/bindings/R/Dockerfile\n",
            "spark-3.0.0-bin-hadoop2.7/kubernetes/dockerfiles/spark/bindings/python/\n",
            "spark-3.0.0-bin-hadoop2.7/kubernetes/dockerfiles/spark/bindings/python/Dockerfile\n",
            "spark-3.0.0-bin-hadoop2.7/kubernetes/dockerfiles/spark/Dockerfile\n",
            "spark-3.0.0-bin-hadoop2.7/jars/\n",
            "spark-3.0.0-bin-hadoop2.7/jars/jackson-xc-1.9.13.jar\n",
            "spark-3.0.0-bin-hadoop2.7/jars/commons-digester-1.8.jar\n",
            "spark-3.0.0-bin-hadoop2.7/jars/api-util-1.0.0-M20.jar\n",
            "spark-3.0.0-bin-hadoop2.7/jars/hive-vector-code-gen-2.3.7.jar\n",
            "spark-3.0.0-bin-hadoop2.7/jars/derby-10.12.1.1.jar\n",
            "spark-3.0.0-bin-hadoop2.7/jars/commons-beanutils-1.9.4.jar\n",
            "spark-3.0.0-bin-hadoop2.7/jars/httpcore-4.4.12.jar\n",
            "spark-3.0.0-bin-hadoop2.7/jars/hadoop-yarn-api-2.7.4.jar\n",
            "spark-3.0.0-bin-hadoop2.7/jars/scala-library-2.12.10.jar\n",
            "spark-3.0.0-bin-hadoop2.7/jars/parquet-format-2.4.0.jar\n",
            "spark-3.0.0-bin-hadoop2.7/jars/kryo-shaded-4.0.2.jar\n",
            "spark-3.0.0-bin-hadoop2.7/jars/xercesImpl-2.12.0.jar\n",
            "spark-3.0.0-bin-hadoop2.7/jars/commons-logging-1.1.3.jar\n",
            "spark-3.0.0-bin-hadoop2.7/jars/okio-1.15.0.jar\n",
            "spark-3.0.0-bin-hadoop2.7/jars/commons-compiler-3.0.16.jar\n",
            "spark-3.0.0-bin-hadoop2.7/jars/jdo-api-3.0.1.jar\n",
            "spark-3.0.0-bin-hadoop2.7/jars/spire-macros_2.12-0.17.0-M1.jar\n",
            "spark-3.0.0-bin-hadoop2.7/jars/arrow-memory-0.15.1.jar\n",
            "spark-3.0.0-bin-hadoop2.7/jars/JLargeArrays-1.5.jar\n",
            "spark-3.0.0-bin-hadoop2.7/jars/jsp-api-2.1.jar\n",
            "spark-3.0.0-bin-hadoop2.7/jars/logging-interceptor-3.12.6.jar\n",
            "spark-3.0.0-bin-hadoop2.7/jars/javax.servlet-api-3.1.0.jar\n",
            "spark-3.0.0-bin-hadoop2.7/jars/jcl-over-slf4j-1.7.30.jar\n",
            "spark-3.0.0-bin-hadoop2.7/jars/hive-cli-2.3.7.jar\n",
            "spark-3.0.0-bin-hadoop2.7/jars/apacheds-i18n-2.0.0-M15.jar\n",
            "spark-3.0.0-bin-hadoop2.7/jars/parquet-common-1.10.1.jar\n",
            "spark-3.0.0-bin-hadoop2.7/jars/stax-api-1.0.1.jar\n",
            "spark-3.0.0-bin-hadoop2.7/jars/jackson-dataformat-yaml-2.10.0.jar\n",
            "spark-3.0.0-bin-hadoop2.7/jars/algebra_2.12-2.0.0-M2.jar\n",
            "spark-3.0.0-bin-hadoop2.7/jars/spark-catalyst_2.12-3.0.0.jar\n",
            "spark-3.0.0-bin-hadoop2.7/jars/hadoop-annotations-2.7.4.jar\n",
            "spark-3.0.0-bin-hadoop2.7/jars/guice-servlet-3.0.jar\n",
            "spark-3.0.0-bin-hadoop2.7/jars/kubernetes-client-4.9.2.jar\n",
            "spark-3.0.0-bin-hadoop2.7/jars/spire-util_2.12-0.17.0-M1.jar\n",
            "spark-3.0.0-bin-hadoop2.7/jars/jakarta.activation-api-1.2.1.jar\n",
            "spark-3.0.0-bin-hadoop2.7/jars/spark-kubernetes_2.12-3.0.0.jar\n",
            "spark-3.0.0-bin-hadoop2.7/jars/jline-2.14.6.jar\n",
            "spark-3.0.0-bin-hadoop2.7/jars/breeze_2.12-1.0.jar\n",
            "spark-3.0.0-bin-hadoop2.7/jars/metrics-jvm-4.1.1.jar\n",
            "spark-3.0.0-bin-hadoop2.7/jars/dropwizard-metrics-hadoop-metrics2-reporter-0.1.2.jar\n",
            "spark-3.0.0-bin-hadoop2.7/jars/machinist_2.12-0.6.8.jar\n",
            "spark-3.0.0-bin-hadoop2.7/jars/scala-compiler-2.12.10.jar\n",
            "spark-3.0.0-bin-hadoop2.7/jars/commons-pool-1.5.4.jar\n",
            "spark-3.0.0-bin-hadoop2.7/jars/arrow-format-0.15.1.jar\n",
            "spark-3.0.0-bin-hadoop2.7/jars/spark-kvstore_2.12-3.0.0.jar\n",
            "spark-3.0.0-bin-hadoop2.7/jars/jta-1.1.jar\n",
            "spark-3.0.0-bin-hadoop2.7/jars/istack-commons-runtime-3.0.8.jar\n",
            "spark-3.0.0-bin-hadoop2.7/jars/metrics-graphite-4.1.1.jar\n",
            "spark-3.0.0-bin-hadoop2.7/jars/hadoop-hdfs-2.7.4.jar\n",
            "spark-3.0.0-bin-hadoop2.7/jars/commons-collections-3.2.2.jar\n",
            "spark-3.0.0-bin-hadoop2.7/jars/audience-annotations-0.5.0.jar\n",
            "spark-3.0.0-bin-hadoop2.7/jars/jpam-1.1.jar\n",
            "spark-3.0.0-bin-hadoop2.7/jars/jakarta.annotation-api-1.3.5.jar\n",
            "spark-3.0.0-bin-hadoop2.7/jars/spark-sql_2.12-3.0.0.jar\n",
            "spark-3.0.0-bin-hadoop2.7/jars/xmlenc-0.52.jar\n",
            "spark-3.0.0-bin-hadoop2.7/jars/api-asn1-api-1.0.0-M20.jar\n",
            "spark-3.0.0-bin-hadoop2.7/jars/py4j-0.10.9.jar\n",
            "spark-3.0.0-bin-hadoop2.7/jars/hadoop-mapreduce-client-common-2.7.4.jar\n",
            "spark-3.0.0-bin-hadoop2.7/jars/spire-platform_2.12-0.17.0-M1.jar\n",
            "spark-3.0.0-bin-hadoop2.7/jars/avro-1.8.2.jar\n",
            "spark-3.0.0-bin-hadoop2.7/jars/curator-client-2.7.1.jar\n",
            "spark-3.0.0-bin-hadoop2.7/jars/antlr4-runtime-4.7.1.jar\n",
            "spark-3.0.0-bin-hadoop2.7/jars/javax.inject-1.jar\n",
            "spark-3.0.0-bin-hadoop2.7/jars/jersey-media-jaxb-2.30.jar\n",
            "spark-3.0.0-bin-hadoop2.7/jars/commons-lang3-3.9.jar\n",
            "spark-3.0.0-bin-hadoop2.7/jars/univocity-parsers-2.8.3.jar\n",
            "spark-3.0.0-bin-hadoop2.7/jars/javax.jdo-3.2.0-m3.jar\n",
            "spark-3.0.0-bin-hadoop2.7/jars/hadoop-auth-2.7.4.jar\n",
            "spark-3.0.0-bin-hadoop2.7/jars/commons-io-2.4.jar\n",
            "spark-3.0.0-bin-hadoop2.7/jars/spark-tags_2.12-3.0.0.jar\n",
            "spark-3.0.0-bin-hadoop2.7/jars/objenesis-2.5.1.jar\n",
            "spark-3.0.0-bin-hadoop2.7/jars/paranamer-2.8.jar\n",
            "spark-3.0.0-bin-hadoop2.7/jars/cats-kernel_2.12-2.0.0-M4.jar\n",
            "spark-3.0.0-bin-hadoop2.7/jars/flatbuffers-java-1.9.0.jar\n",
            "spark-3.0.0-bin-hadoop2.7/jars/jersey-server-2.30.jar\n",
            "spark-3.0.0-bin-hadoop2.7/jars/stream-2.9.6.jar\n",
            "spark-3.0.0-bin-hadoop2.7/jars/datanucleus-api-jdo-4.2.4.jar\n",
            "spark-3.0.0-bin-hadoop2.7/jars/gson-2.2.4.jar\n",
            "spark-3.0.0-bin-hadoop2.7/jars/xml-apis-1.4.01.jar\n",
            "spark-3.0.0-bin-hadoop2.7/jars/apacheds-kerberos-codec-2.0.0-M15.jar\n",
            "spark-3.0.0-bin-hadoop2.7/jars/hadoop-mapreduce-client-shuffle-2.7.4.jar\n",
            "spark-3.0.0-bin-hadoop2.7/jars/hive-jdbc-2.3.7.jar\n",
            "spark-3.0.0-bin-hadoop2.7/jars/spark-hive_2.12-3.0.0.jar\n",
            "spark-3.0.0-bin-hadoop2.7/jars/hive-exec-2.3.7-core.jar\n",
            "spark-3.0.0-bin-hadoop2.7/jars/spark-network-common_2.12-3.0.0.jar\n",
            "spark-3.0.0-bin-hadoop2.7/jars/opencsv-2.3.jar\n",
            "spark-3.0.0-bin-hadoop2.7/jars/avro-mapred-1.8.2-hadoop2.jar\n",
            "spark-3.0.0-bin-hadoop2.7/jars/jsr305-3.0.0.jar\n",
            "spark-3.0.0-bin-hadoop2.7/jars/macro-compat_2.12-1.1.1.jar\n",
            "spark-3.0.0-bin-hadoop2.7/jars/spark-mesos_2.12-3.0.0.jar\n",
            "spark-3.0.0-bin-hadoop2.7/jars/commons-dbcp-1.4.jar\n",
            "spark-3.0.0-bin-hadoop2.7/jars/jersey-container-servlet-core-2.30.jar\n",
            "spark-3.0.0-bin-hadoop2.7/jars/orc-core-1.5.10.jar\n",
            "spark-3.0.0-bin-hadoop2.7/jars/hk2-api-2.6.1.jar\n",
            "spark-3.0.0-bin-hadoop2.7/jars/parquet-jackson-1.10.1.jar\n",
            "spark-3.0.0-bin-hadoop2.7/jars/mesos-1.4.0-shaded-protobuf.jar\n",
            "spark-3.0.0-bin-hadoop2.7/jars/spark-streaming_2.12-3.0.0.jar\n",
            "spark-3.0.0-bin-hadoop2.7/jars/chill-java-0.9.5.jar\n",
            "spark-3.0.0-bin-hadoop2.7/jars/automaton-1.11-8.jar\n",
            "spark-3.0.0-bin-hadoop2.7/jars/commons-lang-2.6.jar\n",
            "spark-3.0.0-bin-hadoop2.7/jars/jackson-annotations-2.10.0.jar\n",
            "spark-3.0.0-bin-hadoop2.7/jars/hk2-utils-2.6.1.jar\n",
            "spark-3.0.0-bin-hadoop2.7/jars/velocity-1.5.jar\n",
            "spark-3.0.0-bin-hadoop2.7/jars/htrace-core-3.1.0-incubating.jar\n",
            "spark-3.0.0-bin-hadoop2.7/jars/jul-to-slf4j-1.7.30.jar\n",
            "spark-3.0.0-bin-hadoop2.7/jars/JTransforms-3.1.jar\n",
            "spark-3.0.0-bin-hadoop2.7/jars/json4s-ast_2.12-3.6.6.jar\n",
            "spark-3.0.0-bin-hadoop2.7/jars/jersey-client-2.30.jar\n",
            "spark-3.0.0-bin-hadoop2.7/jars/httpclient-4.5.6.jar\n",
            "spark-3.0.0-bin-hadoop2.7/jars/spark-hive-thriftserver_2.12-3.0.0.jar\n",
            "spark-3.0.0-bin-hadoop2.7/jars/jetty-sslengine-6.1.26.jar\n",
            "spark-3.0.0-bin-hadoop2.7/jars/spark-graphx_2.12-3.0.0.jar\n",
            "spark-3.0.0-bin-hadoop2.7/jars/spark-yarn_2.12-3.0.0.jar\n",
            "spark-3.0.0-bin-hadoop2.7/jars/spire_2.12-0.17.0-M1.jar\n",
            "spark-3.0.0-bin-hadoop2.7/jars/jersey-hk2-2.30.jar\n",
            "spark-3.0.0-bin-hadoop2.7/jars/commons-math3-3.4.1.jar\n",
            "spark-3.0.0-bin-hadoop2.7/jars/xbean-asm7-shaded-4.15.jar\n",
            "spark-3.0.0-bin-hadoop2.7/jars/jakarta.validation-api-2.0.2.jar\n",
            "spark-3.0.0-bin-hadoop2.7/jars/parquet-encoding-1.10.1.jar\n",
            "spark-3.0.0-bin-hadoop2.7/jars/slf4j-log4j12-1.7.30.jar\n",
            "spark-3.0.0-bin-hadoop2.7/jars/hadoop-mapreduce-client-app-2.7.4.jar\n",
            "spark-3.0.0-bin-hadoop2.7/jars/spark-mllib_2.12-3.0.0.jar\n",
            "spark-3.0.0-bin-hadoop2.7/jars/zstd-jni-1.4.4-3.jar\n",
            "spark-3.0.0-bin-hadoop2.7/jars/slf4j-api-1.7.30.jar\n",
            "spark-3.0.0-bin-hadoop2.7/jars/commons-compress-1.8.1.jar\n",
            "spark-3.0.0-bin-hadoop2.7/jars/spark-repl_2.12-3.0.0.jar\n",
            "spark-3.0.0-bin-hadoop2.7/jars/hive-shims-0.23-2.3.7.jar\n",
            "spark-3.0.0-bin-hadoop2.7/jars/guava-14.0.1.jar\n",
            "spark-3.0.0-bin-hadoop2.7/jars/stax-api-1.0-2.jar\n",
            "spark-3.0.0-bin-hadoop2.7/jars/zjsonpatch-0.3.0.jar\n",
            "spark-3.0.0-bin-hadoop2.7/jars/hive-storage-api-2.7.1.jar\n",
            "spark-3.0.0-bin-hadoop2.7/jars/shapeless_2.12-2.3.3.jar\n",
            "spark-3.0.0-bin-hadoop2.7/jars/kubernetes-model-common-4.9.2.jar\n",
            "spark-3.0.0-bin-hadoop2.7/jars/oro-2.0.8.jar\n",
            "spark-3.0.0-bin-hadoop2.7/jars/hadoop-yarn-client-2.7.4.jar\n",
            "spark-3.0.0-bin-hadoop2.7/jars/libfb303-0.9.3.jar\n",
            "spark-3.0.0-bin-hadoop2.7/jars/core-1.1.2.jar\n",
            "spark-3.0.0-bin-hadoop2.7/jars/jersey-container-servlet-2.30.jar\n",
            "spark-3.0.0-bin-hadoop2.7/jars/datanucleus-rdbms-4.1.19.jar\n",
            "spark-3.0.0-bin-hadoop2.7/jars/super-csv-2.2.0.jar\n",
            "spark-3.0.0-bin-hadoop2.7/jars/compress-lzf-1.0.3.jar\n",
            "spark-3.0.0-bin-hadoop2.7/jars/commons-crypto-1.0.0.jar\n",
            "spark-3.0.0-bin-hadoop2.7/jars/jackson-module-paranamer-2.10.0.jar\n",
            "spark-3.0.0-bin-hadoop2.7/jars/aopalliance-1.0.jar\n",
            "spark-3.0.0-bin-hadoop2.7/jars/osgi-resource-locator-1.0.3.jar\n",
            "spark-3.0.0-bin-hadoop2.7/jars/spark-unsafe_2.12-3.0.0.jar\n",
            "spark-3.0.0-bin-hadoop2.7/jars/jackson-module-scala_2.12-2.10.0.jar\n",
            "spark-3.0.0-bin-hadoop2.7/jars/hive-shims-2.3.7.jar\n",
            "spark-3.0.0-bin-hadoop2.7/jars/hadoop-yarn-server-common-2.7.4.jar\n",
            "spark-3.0.0-bin-hadoop2.7/jars/json-1.8.jar\n",
            "spark-3.0.0-bin-hadoop2.7/jars/antlr-runtime-3.5.2.jar\n",
            "spark-3.0.0-bin-hadoop2.7/jars/threeten-extra-1.5.0.jar\n",
            "spark-3.0.0-bin-hadoop2.7/jars/jetty-6.1.26.jar\n",
            "spark-3.0.0-bin-hadoop2.7/jars/jackson-module-jaxb-annotations-2.10.0.jar\n",
            "spark-3.0.0-bin-hadoop2.7/jars/jersey-common-2.30.jar\n",
            "spark-3.0.0-bin-hadoop2.7/jars/aircompressor-0.10.jar\n",
            "spark-3.0.0-bin-hadoop2.7/jars/lz4-java-1.7.1.jar\n",
            "spark-3.0.0-bin-hadoop2.7/jars/hadoop-client-2.7.4.jar\n",
            "spark-3.0.0-bin-hadoop2.7/jars/activation-1.1.1.jar\n",
            "spark-3.0.0-bin-hadoop2.7/jars/shims-0.7.45.jar\n",
            "spark-3.0.0-bin-hadoop2.7/jars/libthrift-0.12.0.jar\n",
            "spark-3.0.0-bin-hadoop2.7/jars/orc-mapreduce-1.5.10.jar\n",
            "spark-3.0.0-bin-hadoop2.7/jars/HikariCP-2.5.1.jar\n",
            "spark-3.0.0-bin-hadoop2.7/jars/generex-1.0.2.jar\n",
            "spark-3.0.0-bin-hadoop2.7/jars/okhttp-3.12.6.jar\n",
            "spark-3.0.0-bin-hadoop2.7/jars/snappy-java-1.1.7.5.jar\n",
            "spark-3.0.0-bin-hadoop2.7/jars/breeze-macros_2.12-1.0.jar\n",
            "spark-3.0.0-bin-hadoop2.7/jars/leveldbjni-all-1.8.jar\n",
            "spark-3.0.0-bin-hadoop2.7/jars/jaxb-runtime-2.3.2.jar\n",
            "spark-3.0.0-bin-hadoop2.7/jars/commons-httpclient-3.1.jar\n",
            "spark-3.0.0-bin-hadoop2.7/jars/jackson-core-asl-1.9.13.jar\n",
            "spark-3.0.0-bin-hadoop2.7/jars/scala-xml_2.12-1.2.0.jar\n",
            "spark-3.0.0-bin-hadoop2.7/jars/hk2-locator-2.6.1.jar\n",
            "spark-3.0.0-bin-hadoop2.7/jars/hadoop-common-2.7.4.jar\n",
            "spark-3.0.0-bin-hadoop2.7/jars/curator-recipes-2.7.1.jar\n",
            "spark-3.0.0-bin-hadoop2.7/jars/jackson-mapper-asl-1.9.13.jar\n",
            "spark-3.0.0-bin-hadoop2.7/jars/hive-common-2.3.7.jar\n",
            "spark-3.0.0-bin-hadoop2.7/jars/xz-1.5.jar\n",
            "spark-3.0.0-bin-hadoop2.7/jars/ST4-4.0.4.jar\n",
            "spark-3.0.0-bin-hadoop2.7/jars/hive-shims-scheduler-2.3.7.jar\n",
            "spark-3.0.0-bin-hadoop2.7/jars/parquet-hadoop-1.10.1.jar\n",
            "spark-3.0.0-bin-hadoop2.7/jars/chill_2.12-0.9.5.jar\n",
            "spark-3.0.0-bin-hadoop2.7/jars/commons-configuration-1.6.jar\n",
            "spark-3.0.0-bin-hadoop2.7/jars/jackson-databind-2.10.0.jar\n",
            "spark-3.0.0-bin-hadoop2.7/jars/scala-reflect-2.12.10.jar\n",
            "spark-3.0.0-bin-hadoop2.7/jars/joda-time-2.10.5.jar\n",
            "spark-3.0.0-bin-hadoop2.7/jars/spark-network-shuffle_2.12-3.0.0.jar\n",
            "spark-3.0.0-bin-hadoop2.7/jars/minlog-1.3.0.jar\n",
            "spark-3.0.0-bin-hadoop2.7/jars/jakarta.ws.rs-api-2.1.6.jar\n",
            "spark-3.0.0-bin-hadoop2.7/jars/orc-shims-1.5.10.jar\n",
            "spark-3.0.0-bin-hadoop2.7/jars/aopalliance-repackaged-2.6.1.jar\n",
            "spark-3.0.0-bin-hadoop2.7/jars/bonecp-0.8.0.RELEASE.jar\n",
            "spark-3.0.0-bin-hadoop2.7/jars/jodd-core-3.5.2.jar\n",
            "spark-3.0.0-bin-hadoop2.7/jars/hadoop-yarn-server-web-proxy-2.7.4.jar\n",
            "spark-3.0.0-bin-hadoop2.7/jars/jackson-core-2.10.0.jar\n",
            "spark-3.0.0-bin-hadoop2.7/jars/protobuf-java-2.5.0.jar\n",
            "spark-3.0.0-bin-hadoop2.7/jars/commons-net-3.1.jar\n",
            "spark-3.0.0-bin-hadoop2.7/jars/hadoop-mapreduce-client-jobclient-2.7.4.jar\n",
            "spark-3.0.0-bin-hadoop2.7/jars/datanucleus-core-4.1.17.jar\n",
            "spark-3.0.0-bin-hadoop2.7/jars/jackson-jaxrs-1.9.13.jar\n",
            "spark-3.0.0-bin-hadoop2.7/jars/janino-3.0.16.jar\n",
            "spark-3.0.0-bin-hadoop2.7/jars/spark-sketch_2.12-3.0.0.jar\n",
            "spark-3.0.0-bin-hadoop2.7/jars/hive-shims-common-2.3.7.jar\n",
            "spark-3.0.0-bin-hadoop2.7/jars/javolution-5.5.1.jar\n",
            "spark-3.0.0-bin-hadoop2.7/jars/transaction-api-1.1.jar\n",
            "spark-3.0.0-bin-hadoop2.7/jars/jackson-datatype-jsr310-2.10.3.jar\n",
            "spark-3.0.0-bin-hadoop2.7/jars/spark-mllib-local_2.12-3.0.0.jar\n",
            "spark-3.0.0-bin-hadoop2.7/jars/jaxb-api-2.2.2.jar\n",
            "spark-3.0.0-bin-hadoop2.7/jars/commons-cli-1.2.jar\n",
            "spark-3.0.0-bin-hadoop2.7/jars/jakarta.inject-2.6.1.jar\n",
            "spark-3.0.0-bin-hadoop2.7/jars/metrics-jmx-4.1.1.jar\n",
            "spark-3.0.0-bin-hadoop2.7/jars/arrow-vector-0.15.1.jar\n",
            "spark-3.0.0-bin-hadoop2.7/jars/jakarta.xml.bind-api-2.3.2.jar\n",
            "spark-3.0.0-bin-hadoop2.7/jars/commons-codec-1.10.jar\n",
            "spark-3.0.0-bin-hadoop2.7/jars/hadoop-yarn-common-2.7.4.jar\n",
            "spark-3.0.0-bin-hadoop2.7/jars/curator-framework-2.7.1.jar\n",
            "spark-3.0.0-bin-hadoop2.7/jars/arpack_combined_all-0.1.jar\n",
            "spark-3.0.0-bin-hadoop2.7/jars/hive-metastore-2.3.7.jar\n",
            "spark-3.0.0-bin-hadoop2.7/jars/hive-beeline-2.3.7.jar\n",
            "spark-3.0.0-bin-hadoop2.7/jars/metrics-core-4.1.1.jar\n",
            "spark-3.0.0-bin-hadoop2.7/jars/hive-llap-common-2.3.7.jar\n",
            "spark-3.0.0-bin-hadoop2.7/jars/netty-all-4.1.47.Final.jar\n",
            "spark-3.0.0-bin-hadoop2.7/jars/javassist-3.25.0-GA.jar\n",
            "spark-3.0.0-bin-hadoop2.7/jars/scala-collection-compat_2.12-2.1.1.jar\n",
            "spark-3.0.0-bin-hadoop2.7/jars/parquet-column-1.10.1.jar\n",
            "spark-3.0.0-bin-hadoop2.7/jars/jetty-util-6.1.26.jar\n",
            "spark-3.0.0-bin-hadoop2.7/jars/kubernetes-model-4.9.2.jar\n",
            "spark-3.0.0-bin-hadoop2.7/jars/avro-ipc-1.8.2.jar\n",
            "spark-3.0.0-bin-hadoop2.7/jars/spark-core_2.12-3.0.0.jar\n",
            "spark-3.0.0-bin-hadoop2.7/jars/guice-3.0.jar\n",
            "spark-3.0.0-bin-hadoop2.7/jars/commons-text-1.6.jar\n",
            "spark-3.0.0-bin-hadoop2.7/jars/json4s-scalap_2.12-3.6.6.jar\n",
            "spark-3.0.0-bin-hadoop2.7/jars/metrics-json-4.1.1.jar\n",
            "spark-3.0.0-bin-hadoop2.7/jars/snakeyaml-1.24.jar\n",
            "spark-3.0.0-bin-hadoop2.7/jars/json4s-jackson_2.12-3.6.6.jar\n",
            "spark-3.0.0-bin-hadoop2.7/jars/ivy-2.4.0.jar\n",
            "spark-3.0.0-bin-hadoop2.7/jars/hadoop-mapreduce-client-core-2.7.4.jar\n",
            "spark-3.0.0-bin-hadoop2.7/jars/json4s-core_2.12-3.6.6.jar\n",
            "spark-3.0.0-bin-hadoop2.7/jars/spark-tags_2.12-3.0.0-tests.jar\n",
            "spark-3.0.0-bin-hadoop2.7/jars/pyrolite-4.30.jar\n",
            "spark-3.0.0-bin-hadoop2.7/jars/spark-launcher_2.12-3.0.0.jar\n",
            "spark-3.0.0-bin-hadoop2.7/jars/log4j-1.2.17.jar\n",
            "spark-3.0.0-bin-hadoop2.7/jars/hive-serde-2.3.7.jar\n",
            "spark-3.0.0-bin-hadoop2.7/jars/scala-parser-combinators_2.12-1.1.2.jar\n",
            "spark-3.0.0-bin-hadoop2.7/jars/RoaringBitmap-0.7.45.jar\n",
            "spark-3.0.0-bin-hadoop2.7/jars/zookeeper-3.4.14.jar\n",
            "spark-3.0.0-bin-hadoop2.7/data/\n",
            "spark-3.0.0-bin-hadoop2.7/data/mllib/\n",
            "spark-3.0.0-bin-hadoop2.7/data/mllib/sample_lda_data.txt\n",
            "spark-3.0.0-bin-hadoop2.7/data/mllib/sample_libsvm_data.txt\n",
            "spark-3.0.0-bin-hadoop2.7/data/mllib/sample_svm_data.txt\n",
            "spark-3.0.0-bin-hadoop2.7/data/mllib/sample_multiclass_classification_data.txt\n",
            "spark-3.0.0-bin-hadoop2.7/data/mllib/sample_linear_regression_data.txt\n",
            "spark-3.0.0-bin-hadoop2.7/data/mllib/sample_lda_libsvm_data.txt\n",
            "spark-3.0.0-bin-hadoop2.7/data/mllib/sample_fpgrowth.txt\n",
            "spark-3.0.0-bin-hadoop2.7/data/mllib/sample_binary_classification_data.txt\n",
            "spark-3.0.0-bin-hadoop2.7/data/mllib/sample_isotonic_regression_libsvm_data.txt\n",
            "spark-3.0.0-bin-hadoop2.7/data/mllib/iris_libsvm.txt\n",
            "spark-3.0.0-bin-hadoop2.7/data/mllib/sample_movielens_data.txt\n",
            "spark-3.0.0-bin-hadoop2.7/data/mllib/als/\n",
            "spark-3.0.0-bin-hadoop2.7/data/mllib/als/test.data\n",
            "spark-3.0.0-bin-hadoop2.7/data/mllib/als/sample_movielens_ratings.txt\n",
            "spark-3.0.0-bin-hadoop2.7/data/mllib/sample_kmeans_data.txt\n",
            "spark-3.0.0-bin-hadoop2.7/data/mllib/pic_data.txt\n",
            "spark-3.0.0-bin-hadoop2.7/data/mllib/images/\n",
            "spark-3.0.0-bin-hadoop2.7/data/mllib/images/origin/\n",
            "spark-3.0.0-bin-hadoop2.7/data/mllib/images/origin/kittens/\n",
            "spark-3.0.0-bin-hadoop2.7/data/mllib/images/origin/kittens/54893.jpg\n",
            "spark-3.0.0-bin-hadoop2.7/data/mllib/images/origin/kittens/not-image.txt\n",
            "spark-3.0.0-bin-hadoop2.7/data/mllib/images/origin/kittens/DP802813.jpg\n",
            "spark-3.0.0-bin-hadoop2.7/data/mllib/images/origin/kittens/29.5.a_b_EGDP022204.jpg\n",
            "spark-3.0.0-bin-hadoop2.7/data/mllib/images/origin/kittens/DP153539.jpg\n",
            "spark-3.0.0-bin-hadoop2.7/data/mllib/images/origin/license.txt\n",
            "spark-3.0.0-bin-hadoop2.7/data/mllib/images/origin/multi-channel/\n",
            "spark-3.0.0-bin-hadoop2.7/data/mllib/images/origin/multi-channel/BGRA.png\n",
            "spark-3.0.0-bin-hadoop2.7/data/mllib/images/origin/multi-channel/BGRA_alpha_60.png\n",
            "spark-3.0.0-bin-hadoop2.7/data/mllib/images/origin/multi-channel/grayscale.jpg\n",
            "spark-3.0.0-bin-hadoop2.7/data/mllib/images/origin/multi-channel/chr30.4.184.jpg\n",
            "spark-3.0.0-bin-hadoop2.7/data/mllib/images/partitioned/\n",
            "spark-3.0.0-bin-hadoop2.7/data/mllib/images/partitioned/cls=multichannel/\n",
            "spark-3.0.0-bin-hadoop2.7/data/mllib/images/partitioned/cls=multichannel/date=2018-01/\n",
            "spark-3.0.0-bin-hadoop2.7/data/mllib/images/partitioned/cls=multichannel/date=2018-01/BGRA.png\n",
            "spark-3.0.0-bin-hadoop2.7/data/mllib/images/partitioned/cls=multichannel/date=2018-01/BGRA_alpha_60.png\n",
            "spark-3.0.0-bin-hadoop2.7/data/mllib/images/partitioned/cls=multichannel/date=2018-02/\n",
            "spark-3.0.0-bin-hadoop2.7/data/mllib/images/partitioned/cls=multichannel/date=2018-02/grayscale.jpg\n",
            "spark-3.0.0-bin-hadoop2.7/data/mllib/images/partitioned/cls=multichannel/date=2018-02/chr30.4.184.jpg\n",
            "spark-3.0.0-bin-hadoop2.7/data/mllib/images/partitioned/cls=kittens/\n",
            "spark-3.0.0-bin-hadoop2.7/data/mllib/images/partitioned/cls=kittens/date=2018-01/\n",
            "spark-3.0.0-bin-hadoop2.7/data/mllib/images/partitioned/cls=kittens/date=2018-01/not-image.txt\n",
            "spark-3.0.0-bin-hadoop2.7/data/mllib/images/partitioned/cls=kittens/date=2018-01/29.5.a_b_EGDP022204.jpg\n",
            "spark-3.0.0-bin-hadoop2.7/data/mllib/images/partitioned/cls=kittens/date=2018-02/\n",
            "spark-3.0.0-bin-hadoop2.7/data/mllib/images/partitioned/cls=kittens/date=2018-02/54893.jpg\n",
            "spark-3.0.0-bin-hadoop2.7/data/mllib/images/partitioned/cls=kittens/date=2018-02/DP802813.jpg\n",
            "spark-3.0.0-bin-hadoop2.7/data/mllib/images/partitioned/cls=kittens/date=2018-02/DP153539.jpg\n",
            "spark-3.0.0-bin-hadoop2.7/data/mllib/images/license.txt\n",
            "spark-3.0.0-bin-hadoop2.7/data/mllib/ridge-data/\n",
            "spark-3.0.0-bin-hadoop2.7/data/mllib/ridge-data/lpsa.data\n",
            "spark-3.0.0-bin-hadoop2.7/data/mllib/kmeans_data.txt\n",
            "spark-3.0.0-bin-hadoop2.7/data/mllib/streaming_kmeans_data_test.txt\n",
            "spark-3.0.0-bin-hadoop2.7/data/mllib/pagerank_data.txt\n",
            "spark-3.0.0-bin-hadoop2.7/data/mllib/gmm_data.txt\n",
            "spark-3.0.0-bin-hadoop2.7/data/graphx/\n",
            "spark-3.0.0-bin-hadoop2.7/data/graphx/users.txt\n",
            "spark-3.0.0-bin-hadoop2.7/data/graphx/followers.txt\n",
            "spark-3.0.0-bin-hadoop2.7/data/streaming/\n",
            "spark-3.0.0-bin-hadoop2.7/data/streaming/AFINN-111.txt\n",
            "spark-3.0.0-bin-hadoop2.7/R/\n",
            "spark-3.0.0-bin-hadoop2.7/R/lib/\n",
            "spark-3.0.0-bin-hadoop2.7/R/lib/sparkr.zip\n",
            "spark-3.0.0-bin-hadoop2.7/R/lib/SparkR/\n",
            "spark-3.0.0-bin-hadoop2.7/R/lib/SparkR/tests/\n",
            "spark-3.0.0-bin-hadoop2.7/R/lib/SparkR/tests/testthat/\n",
            "spark-3.0.0-bin-hadoop2.7/R/lib/SparkR/tests/testthat/test_basic.R\n",
            "spark-3.0.0-bin-hadoop2.7/R/lib/SparkR/DESCRIPTION\n",
            "spark-3.0.0-bin-hadoop2.7/R/lib/SparkR/profile/\n",
            "spark-3.0.0-bin-hadoop2.7/R/lib/SparkR/profile/shell.R\n",
            "spark-3.0.0-bin-hadoop2.7/R/lib/SparkR/profile/general.R\n",
            "spark-3.0.0-bin-hadoop2.7/R/lib/SparkR/INDEX\n",
            "spark-3.0.0-bin-hadoop2.7/R/lib/SparkR/Meta/\n",
            "spark-3.0.0-bin-hadoop2.7/R/lib/SparkR/Meta/features.rds\n",
            "spark-3.0.0-bin-hadoop2.7/R/lib/SparkR/Meta/links.rds\n",
            "spark-3.0.0-bin-hadoop2.7/R/lib/SparkR/Meta/nsInfo.rds\n",
            "spark-3.0.0-bin-hadoop2.7/R/lib/SparkR/Meta/package.rds\n",
            "spark-3.0.0-bin-hadoop2.7/R/lib/SparkR/Meta/vignette.rds\n",
            "spark-3.0.0-bin-hadoop2.7/R/lib/SparkR/Meta/Rd.rds\n",
            "spark-3.0.0-bin-hadoop2.7/R/lib/SparkR/Meta/hsearch.rds\n",
            "spark-3.0.0-bin-hadoop2.7/R/lib/SparkR/help/\n",
            "spark-3.0.0-bin-hadoop2.7/R/lib/SparkR/help/SparkR.rdb\n",
            "spark-3.0.0-bin-hadoop2.7/R/lib/SparkR/help/aliases.rds\n",
            "spark-3.0.0-bin-hadoop2.7/R/lib/SparkR/help/SparkR.rdx\n",
            "spark-3.0.0-bin-hadoop2.7/R/lib/SparkR/help/AnIndex\n",
            "spark-3.0.0-bin-hadoop2.7/R/lib/SparkR/help/paths.rds\n",
            "spark-3.0.0-bin-hadoop2.7/R/lib/SparkR/R/\n",
            "spark-3.0.0-bin-hadoop2.7/R/lib/SparkR/R/SparkR.rdb\n",
            "spark-3.0.0-bin-hadoop2.7/R/lib/SparkR/R/SparkR.rdx\n",
            "spark-3.0.0-bin-hadoop2.7/R/lib/SparkR/R/SparkR\n",
            "spark-3.0.0-bin-hadoop2.7/R/lib/SparkR/NAMESPACE\n",
            "spark-3.0.0-bin-hadoop2.7/R/lib/SparkR/doc/\n",
            "spark-3.0.0-bin-hadoop2.7/R/lib/SparkR/doc/sparkr-vignettes.Rmd\n",
            "spark-3.0.0-bin-hadoop2.7/R/lib/SparkR/doc/index.html\n",
            "spark-3.0.0-bin-hadoop2.7/R/lib/SparkR/doc/sparkr-vignettes.html\n",
            "spark-3.0.0-bin-hadoop2.7/R/lib/SparkR/doc/sparkr-vignettes.R\n",
            "spark-3.0.0-bin-hadoop2.7/R/lib/SparkR/html/\n",
            "spark-3.0.0-bin-hadoop2.7/R/lib/SparkR/html/00Index.html\n",
            "spark-3.0.0-bin-hadoop2.7/R/lib/SparkR/html/R.css\n",
            "spark-3.0.0-bin-hadoop2.7/R/lib/SparkR/worker/\n",
            "spark-3.0.0-bin-hadoop2.7/R/lib/SparkR/worker/worker.R\n",
            "spark-3.0.0-bin-hadoop2.7/R/lib/SparkR/worker/daemon.R\n",
            "spark-3.0.0-bin-hadoop2.7/README.md\n",
            "spark-3.0.0-bin-hadoop2.7/RELEASE\n",
            "spark-3.0.0-bin-hadoop2.7/yarn/\n",
            "spark-3.0.0-bin-hadoop2.7/yarn/spark-3.0.0-yarn-shuffle.jar\n",
            "spark-3.0.0-bin-hadoop2.7/LICENSE\n",
            "spark-3.0.0-bin-hadoop2.7/sbin/\n",
            "spark-3.0.0-bin-hadoop2.7/sbin/stop-mesos-shuffle-service.sh\n",
            "spark-3.0.0-bin-hadoop2.7/sbin/start-master.sh\n",
            "spark-3.0.0-bin-hadoop2.7/sbin/spark-config.sh\n",
            "spark-3.0.0-bin-hadoop2.7/sbin/start-history-server.sh\n",
            "spark-3.0.0-bin-hadoop2.7/sbin/start-slaves.sh\n",
            "spark-3.0.0-bin-hadoop2.7/sbin/spark-daemon.sh\n",
            "spark-3.0.0-bin-hadoop2.7/sbin/stop-mesos-dispatcher.sh\n",
            "spark-3.0.0-bin-hadoop2.7/sbin/start-mesos-shuffle-service.sh\n",
            "spark-3.0.0-bin-hadoop2.7/sbin/slaves.sh\n",
            "spark-3.0.0-bin-hadoop2.7/sbin/stop-history-server.sh\n",
            "spark-3.0.0-bin-hadoop2.7/sbin/start-thriftserver.sh\n",
            "spark-3.0.0-bin-hadoop2.7/sbin/stop-thriftserver.sh\n",
            "spark-3.0.0-bin-hadoop2.7/sbin/start-slave.sh\n",
            "spark-3.0.0-bin-hadoop2.7/sbin/start-all.sh\n",
            "spark-3.0.0-bin-hadoop2.7/sbin/stop-slave.sh\n",
            "spark-3.0.0-bin-hadoop2.7/sbin/spark-daemons.sh\n",
            "spark-3.0.0-bin-hadoop2.7/sbin/stop-slaves.sh\n",
            "spark-3.0.0-bin-hadoop2.7/sbin/stop-all.sh\n",
            "spark-3.0.0-bin-hadoop2.7/sbin/start-mesos-dispatcher.sh\n",
            "spark-3.0.0-bin-hadoop2.7/sbin/stop-master.sh\n",
            "spark-3.0.0-bin-hadoop2.7/examples/\n",
            "spark-3.0.0-bin-hadoop2.7/examples/src/\n",
            "spark-3.0.0-bin-hadoop2.7/examples/src/main/\n",
            "spark-3.0.0-bin-hadoop2.7/examples/src/main/r/\n",
            "spark-3.0.0-bin-hadoop2.7/examples/src/main/r/ml/\n",
            "spark-3.0.0-bin-hadoop2.7/examples/src/main/r/ml/survreg.R\n",
            "spark-3.0.0-bin-hadoop2.7/examples/src/main/r/ml/glm.R\n",
            "spark-3.0.0-bin-hadoop2.7/examples/src/main/r/ml/prefixSpan.R\n",
            "spark-3.0.0-bin-hadoop2.7/examples/src/main/r/ml/powerIterationClustering.R\n",
            "spark-3.0.0-bin-hadoop2.7/examples/src/main/r/ml/lda.R\n",
            "spark-3.0.0-bin-hadoop2.7/examples/src/main/r/ml/kstest.R\n",
            "spark-3.0.0-bin-hadoop2.7/examples/src/main/r/ml/isoreg.R\n",
            "spark-3.0.0-bin-hadoop2.7/examples/src/main/r/ml/ml.R\n",
            "spark-3.0.0-bin-hadoop2.7/examples/src/main/r/ml/naiveBayes.R\n",
            "spark-3.0.0-bin-hadoop2.7/examples/src/main/r/ml/mlp.R\n",
            "spark-3.0.0-bin-hadoop2.7/examples/src/main/r/ml/als.R\n",
            "spark-3.0.0-bin-hadoop2.7/examples/src/main/r/ml/kmeans.R\n",
            "spark-3.0.0-bin-hadoop2.7/examples/src/main/r/ml/svmLinear.R\n",
            "spark-3.0.0-bin-hadoop2.7/examples/src/main/r/ml/logit.R\n",
            "spark-3.0.0-bin-hadoop2.7/examples/src/main/r/ml/randomForest.R\n",
            "spark-3.0.0-bin-hadoop2.7/examples/src/main/r/ml/gbt.R\n",
            "spark-3.0.0-bin-hadoop2.7/examples/src/main/r/ml/decisionTree.R\n",
            "spark-3.0.0-bin-hadoop2.7/examples/src/main/r/ml/gaussianMixture.R\n",
            "spark-3.0.0-bin-hadoop2.7/examples/src/main/r/ml/bisectingKmeans.R\n",
            "spark-3.0.0-bin-hadoop2.7/examples/src/main/r/ml/fpm.R\n",
            "spark-3.0.0-bin-hadoop2.7/examples/src/main/r/dataframe.R\n",
            "spark-3.0.0-bin-hadoop2.7/examples/src/main/r/RSparkSQLExample.R\n",
            "spark-3.0.0-bin-hadoop2.7/examples/src/main/r/data-manipulation.R\n",
            "spark-3.0.0-bin-hadoop2.7/examples/src/main/r/streaming/\n",
            "spark-3.0.0-bin-hadoop2.7/examples/src/main/r/streaming/structured_network_wordcount.R\n",
            "spark-3.0.0-bin-hadoop2.7/examples/src/main/scala/\n",
            "spark-3.0.0-bin-hadoop2.7/examples/src/main/scala/org/\n",
            "spark-3.0.0-bin-hadoop2.7/examples/src/main/scala/org/apache/\n",
            "spark-3.0.0-bin-hadoop2.7/examples/src/main/scala/org/apache/spark/\n",
            "spark-3.0.0-bin-hadoop2.7/examples/src/main/scala/org/apache/spark/examples/\n",
            "spark-3.0.0-bin-hadoop2.7/examples/src/main/scala/org/apache/spark/examples/SparkPageRank.scala\n",
            "spark-3.0.0-bin-hadoop2.7/examples/src/main/scala/org/apache/spark/examples/SkewedGroupByTest.scala\n",
            "spark-3.0.0-bin-hadoop2.7/examples/src/main/scala/org/apache/spark/examples/AccumulatorMetricsTest.scala\n",
            "spark-3.0.0-bin-hadoop2.7/examples/src/main/scala/org/apache/spark/examples/HdfsTest.scala\n",
            "spark-3.0.0-bin-hadoop2.7/examples/src/main/scala/org/apache/spark/examples/ml/\n",
            "spark-3.0.0-bin-hadoop2.7/examples/src/main/scala/org/apache/spark/examples/ml/Word2VecExample.scala\n",
            "spark-3.0.0-bin-hadoop2.7/examples/src/main/scala/org/apache/spark/examples/ml/DeveloperApiExample.scala\n",
            "spark-3.0.0-bin-hadoop2.7/examples/src/main/scala/org/apache/spark/examples/ml/MinHashLSHExample.scala\n",
            "spark-3.0.0-bin-hadoop2.7/examples/src/main/scala/org/apache/spark/examples/ml/IndexToStringExample.scala\n",
            "spark-3.0.0-bin-hadoop2.7/examples/src/main/scala/org/apache/spark/examples/ml/BisectingKMeansExample.scala\n",
            "spark-3.0.0-bin-hadoop2.7/examples/src/main/scala/org/apache/spark/examples/ml/CorrelationExample.scala\n",
            "spark-3.0.0-bin-hadoop2.7/examples/src/main/scala/org/apache/spark/examples/ml/MulticlassLogisticRegressionWithElasticNetExample.scala\n",
            "spark-3.0.0-bin-hadoop2.7/examples/src/main/scala/org/apache/spark/examples/ml/VectorSizeHintExample.scala\n",
            "spark-3.0.0-bin-hadoop2.7/examples/src/main/scala/org/apache/spark/examples/ml/NGramExample.scala\n",
            "spark-3.0.0-bin-hadoop2.7/examples/src/main/scala/org/apache/spark/examples/ml/BucketedRandomProjectionLSHExample.scala\n",
            "spark-3.0.0-bin-hadoop2.7/examples/src/main/scala/org/apache/spark/examples/ml/BinarizerExample.scala\n",
            "spark-3.0.0-bin-hadoop2.7/examples/src/main/scala/org/apache/spark/examples/ml/RandomForestExample.scala\n",
            "spark-3.0.0-bin-hadoop2.7/examples/src/main/scala/org/apache/spark/examples/ml/StandardScalerExample.scala\n",
            "spark-3.0.0-bin-hadoop2.7/examples/src/main/scala/org/apache/spark/examples/ml/LogisticRegressionExample.scala\n",
            "spark-3.0.0-bin-hadoop2.7/examples/src/main/scala/org/apache/spark/examples/ml/FeatureHasherExample.scala\n",
            "spark-3.0.0-bin-hadoop2.7/examples/src/main/scala/org/apache/spark/examples/ml/OneVsRestExample.scala\n",
            "spark-3.0.0-bin-hadoop2.7/examples/src/main/scala/org/apache/spark/examples/ml/StopWordsRemoverExample.scala\n",
            "spark-3.0.0-bin-hadoop2.7/examples/src/main/scala/org/apache/spark/examples/ml/LinearSVCExample.scala\n",
            "spark-3.0.0-bin-hadoop2.7/examples/src/main/scala/org/apache/spark/examples/ml/GaussianMixtureExample.scala\n",
            "spark-3.0.0-bin-hadoop2.7/examples/src/main/scala/org/apache/spark/examples/ml/MaxAbsScalerExample.scala\n",
            "spark-3.0.0-bin-hadoop2.7/examples/src/main/scala/org/apache/spark/examples/ml/GBTExample.scala\n",
            "spark-3.0.0-bin-hadoop2.7/examples/src/main/scala/org/apache/spark/examples/ml/IsotonicRegressionExample.scala\n",
            "spark-3.0.0-bin-hadoop2.7/examples/src/main/scala/org/apache/spark/examples/ml/ModelSelectionViaCrossValidationExample.scala\n",
            "spark-3.0.0-bin-hadoop2.7/examples/src/main/scala/org/apache/spark/examples/ml/EstimatorTransformerParamExample.scala\n",
            "spark-3.0.0-bin-hadoop2.7/examples/src/main/scala/org/apache/spark/examples/ml/DecisionTreeRegressionExample.scala\n",
            "spark-3.0.0-bin-hadoop2.7/examples/src/main/scala/org/apache/spark/examples/ml/RandomForestRegressorExample.scala\n",
            "spark-3.0.0-bin-hadoop2.7/examples/src/main/scala/org/apache/spark/examples/ml/PrefixSpanExample.scala\n",
            "spark-3.0.0-bin-hadoop2.7/examples/src/main/scala/org/apache/spark/examples/ml/KMeansExample.scala\n",
            "spark-3.0.0-bin-hadoop2.7/examples/src/main/scala/org/apache/spark/examples/ml/ModelSelectionViaTrainValidationSplitExample.scala\n",
            "spark-3.0.0-bin-hadoop2.7/examples/src/main/scala/org/apache/spark/examples/ml/LogisticRegressionSummaryExample.scala\n",
            "spark-3.0.0-bin-hadoop2.7/examples/src/main/scala/org/apache/spark/examples/ml/MultilayerPerceptronClassifierExample.scala\n",
            "spark-3.0.0-bin-hadoop2.7/examples/src/main/scala/org/apache/spark/examples/ml/PCAExample.scala\n",
            "spark-3.0.0-bin-hadoop2.7/examples/src/main/scala/org/apache/spark/examples/ml/DCTExample.scala\n",
            "spark-3.0.0-bin-hadoop2.7/examples/src/main/scala/org/apache/spark/examples/ml/FPGrowthExample.scala\n",
            "spark-3.0.0-bin-hadoop2.7/examples/src/main/scala/org/apache/spark/examples/ml/ElementwiseProductExample.scala\n",
            "spark-3.0.0-bin-hadoop2.7/examples/src/main/scala/org/apache/spark/examples/ml/GeneralizedLinearRegressionExample.scala\n",
            "spark-3.0.0-bin-hadoop2.7/examples/src/main/scala/org/apache/spark/examples/ml/CountVectorizerExample.scala\n",
            "spark-3.0.0-bin-hadoop2.7/examples/src/main/scala/org/apache/spark/examples/ml/MinMaxScalerExample.scala\n",
            "spark-3.0.0-bin-hadoop2.7/examples/src/main/scala/org/apache/spark/examples/ml/ChiSquareTestExample.scala\n",
            "spark-3.0.0-bin-hadoop2.7/examples/src/main/scala/org/apache/spark/examples/ml/LogisticRegressionWithElasticNetExample.scala\n",
            "spark-3.0.0-bin-hadoop2.7/examples/src/main/scala/org/apache/spark/examples/ml/FMRegressorExample.scala\n",
            "spark-3.0.0-bin-hadoop2.7/examples/src/main/scala/org/apache/spark/examples/ml/VectorSlicerExample.scala\n",
            "spark-3.0.0-bin-hadoop2.7/examples/src/main/scala/org/apache/spark/examples/ml/LinearRegressionExample.scala\n",
            "spark-3.0.0-bin-hadoop2.7/examples/src/main/scala/org/apache/spark/examples/ml/StringIndexerExample.scala\n",
            "spark-3.0.0-bin-hadoop2.7/examples/src/main/scala/org/apache/spark/examples/ml/GradientBoostedTreeRegressorExample.scala\n",
            "spark-3.0.0-bin-hadoop2.7/examples/src/main/scala/org/apache/spark/examples/ml/ALSExample.scala\n",
            "spark-3.0.0-bin-hadoop2.7/examples/src/main/scala/org/apache/spark/examples/ml/DecisionTreeClassificationExample.scala\n",
            "spark-3.0.0-bin-hadoop2.7/examples/src/main/scala/org/apache/spark/examples/ml/PolynomialExpansionExample.scala\n",
            "spark-3.0.0-bin-hadoop2.7/examples/src/main/scala/org/apache/spark/examples/ml/FMClassifierExample.scala\n",
            "spark-3.0.0-bin-hadoop2.7/examples/src/main/scala/org/apache/spark/examples/ml/UnaryTransformerExample.scala\n",
            "spark-3.0.0-bin-hadoop2.7/examples/src/main/scala/org/apache/spark/examples/ml/ImputerExample.scala\n",
            "spark-3.0.0-bin-hadoop2.7/examples/src/main/scala/org/apache/spark/examples/ml/TokenizerExample.scala\n",
            "spark-3.0.0-bin-hadoop2.7/examples/src/main/scala/org/apache/spark/examples/ml/DecisionTreeExample.scala\n",
            "spark-3.0.0-bin-hadoop2.7/examples/src/main/scala/org/apache/spark/examples/ml/GradientBoostedTreeClassifierExample.scala\n",
            "spark-3.0.0-bin-hadoop2.7/examples/src/main/scala/org/apache/spark/examples/ml/PowerIterationClusteringExample.scala\n",
            "spark-3.0.0-bin-hadoop2.7/examples/src/main/scala/org/apache/spark/examples/ml/SQLTransformerExample.scala\n",
            "spark-3.0.0-bin-hadoop2.7/examples/src/main/scala/org/apache/spark/examples/ml/SummarizerExample.scala\n",
            "spark-3.0.0-bin-hadoop2.7/examples/src/main/scala/org/apache/spark/examples/ml/DataFrameExample.scala\n",
            "spark-3.0.0-bin-hadoop2.7/examples/src/main/scala/org/apache/spark/examples/ml/BucketizerExample.scala\n",
            "spark-3.0.0-bin-hadoop2.7/examples/src/main/scala/org/apache/spark/examples/ml/TfIdfExample.scala\n",
            "spark-3.0.0-bin-hadoop2.7/examples/src/main/scala/org/apache/spark/examples/ml/AFTSurvivalRegressionExample.scala\n",
            "spark-3.0.0-bin-hadoop2.7/examples/src/main/scala/org/apache/spark/examples/ml/QuantileDiscretizerExample.scala\n",
            "spark-3.0.0-bin-hadoop2.7/examples/src/main/scala/org/apache/spark/examples/ml/OneHotEncoderExample.scala\n",
            "spark-3.0.0-bin-hadoop2.7/examples/src/main/scala/org/apache/spark/examples/ml/PipelineExample.scala\n",
            "spark-3.0.0-bin-hadoop2.7/examples/src/main/scala/org/apache/spark/examples/ml/InteractionExample.scala\n",
            "spark-3.0.0-bin-hadoop2.7/examples/src/main/scala/org/apache/spark/examples/ml/LDAExample.scala\n",
            "spark-3.0.0-bin-hadoop2.7/examples/src/main/scala/org/apache/spark/examples/ml/RFormulaExample.scala\n",
            "spark-3.0.0-bin-hadoop2.7/examples/src/main/scala/org/apache/spark/examples/ml/VectorIndexerExample.scala\n",
            "spark-3.0.0-bin-hadoop2.7/examples/src/main/scala/org/apache/spark/examples/ml/VectorAssemblerExample.scala\n",
            "spark-3.0.0-bin-hadoop2.7/examples/src/main/scala/org/apache/spark/examples/ml/NormalizerExample.scala\n",
            "spark-3.0.0-bin-hadoop2.7/examples/src/main/scala/org/apache/spark/examples/ml/ChiSqSelectorExample.scala\n",
            "spark-3.0.0-bin-hadoop2.7/examples/src/main/scala/org/apache/spark/examples/ml/NaiveBayesExample.scala\n",
            "spark-3.0.0-bin-hadoop2.7/examples/src/main/scala/org/apache/spark/examples/ml/RandomForestClassifierExample.scala\n",
            "spark-3.0.0-bin-hadoop2.7/examples/src/main/scala/org/apache/spark/examples/ml/LinearRegressionWithElasticNetExample.scala\n",
            "spark-3.0.0-bin-hadoop2.7/examples/src/main/scala/org/apache/spark/examples/ml/RobustScalerExample.scala\n",
            "spark-3.0.0-bin-hadoop2.7/examples/src/main/scala/org/apache/spark/examples/LogQuery.scala\n",
            "spark-3.0.0-bin-hadoop2.7/examples/src/main/scala/org/apache/spark/examples/SparkRemoteFileTest.scala\n",
            "spark-3.0.0-bin-hadoop2.7/examples/src/main/scala/org/apache/spark/examples/ExceptionHandlingTest.scala\n",
            "spark-3.0.0-bin-hadoop2.7/examples/src/main/scala/org/apache/spark/examples/pythonconverters/\n",
            "spark-3.0.0-bin-hadoop2.7/examples/src/main/scala/org/apache/spark/examples/pythonconverters/AvroConverters.scala\n",
            "spark-3.0.0-bin-hadoop2.7/examples/src/main/scala/org/apache/spark/examples/BroadcastTest.scala\n",
            "spark-3.0.0-bin-hadoop2.7/examples/src/main/scala/org/apache/spark/examples/SparkHdfsLR.scala\n",
            "spark-3.0.0-bin-hadoop2.7/examples/src/main/scala/org/apache/spark/examples/mllib/\n",
            "spark-3.0.0-bin-hadoop2.7/examples/src/main/scala/org/apache/spark/examples/mllib/Word2VecExample.scala\n",
            "spark-3.0.0-bin-hadoop2.7/examples/src/main/scala/org/apache/spark/examples/mllib/GradientBoostedTreesRunner.scala\n",
            "spark-3.0.0-bin-hadoop2.7/examples/src/main/scala/org/apache/spark/examples/mllib/RandomRDDGeneration.scala\n",
            "spark-3.0.0-bin-hadoop2.7/examples/src/main/scala/org/apache/spark/examples/mllib/PMMLModelExportExample.scala\n",
            "spark-3.0.0-bin-hadoop2.7/examples/src/main/scala/org/apache/spark/examples/mllib/BisectingKMeansExample.scala\n",
            "spark-3.0.0-bin-hadoop2.7/examples/src/main/scala/org/apache/spark/examples/mllib/DecisionTreeRunner.scala\n",
            "spark-3.0.0-bin-hadoop2.7/examples/src/main/scala/org/apache/spark/examples/mllib/MultiLabelMetricsExample.scala\n",
            "spark-3.0.0-bin-hadoop2.7/examples/src/main/scala/org/apache/spark/examples/mllib/CorrelationsExample.scala\n",
            "spark-3.0.0-bin-hadoop2.7/examples/src/main/scala/org/apache/spark/examples/mllib/LBFGSExample.scala\n",
            "spark-3.0.0-bin-hadoop2.7/examples/src/main/scala/org/apache/spark/examples/mllib/TFIDFExample.scala\n",
            "spark-3.0.0-bin-hadoop2.7/examples/src/main/scala/org/apache/spark/examples/mllib/StandardScalerExample.scala\n",
            "spark-3.0.0-bin-hadoop2.7/examples/src/main/scala/org/apache/spark/examples/mllib/LogisticRegressionWithLBFGSExample.scala\n",
            "spark-3.0.0-bin-hadoop2.7/examples/src/main/scala/org/apache/spark/examples/mllib/StreamingTestExample.scala\n",
            "spark-3.0.0-bin-hadoop2.7/examples/src/main/scala/org/apache/spark/examples/mllib/BinaryClassification.scala\n",
            "spark-3.0.0-bin-hadoop2.7/examples/src/main/scala/org/apache/spark/examples/mllib/DenseKMeans.scala\n",
            "spark-3.0.0-bin-hadoop2.7/examples/src/main/scala/org/apache/spark/examples/mllib/GradientBoostingClassificationExample.scala\n",
            "spark-3.0.0-bin-hadoop2.7/examples/src/main/scala/org/apache/spark/examples/mllib/RankingMetricsExample.scala\n",
            "spark-3.0.0-bin-hadoop2.7/examples/src/main/scala/org/apache/spark/examples/mllib/GaussianMixtureExample.scala\n",
            "spark-3.0.0-bin-hadoop2.7/examples/src/main/scala/org/apache/spark/examples/mllib/MultivariateSummarizer.scala\n",
            "spark-3.0.0-bin-hadoop2.7/examples/src/main/scala/org/apache/spark/examples/mllib/IsotonicRegressionExample.scala\n",
            "spark-3.0.0-bin-hadoop2.7/examples/src/main/scala/org/apache/spark/examples/mllib/PCAOnSourceVectorExample.scala\n",
            "spark-3.0.0-bin-hadoop2.7/examples/src/main/scala/org/apache/spark/examples/mllib/Correlations.scala\n",
            "spark-3.0.0-bin-hadoop2.7/examples/src/main/scala/org/apache/spark/examples/mllib/HypothesisTestingExample.scala\n",
            "spark-3.0.0-bin-hadoop2.7/examples/src/main/scala/org/apache/spark/examples/mllib/DecisionTreeRegressionExample.scala\n",
            "spark-3.0.0-bin-hadoop2.7/examples/src/main/scala/org/apache/spark/examples/mllib/AssociationRulesExample.scala\n",
            "spark-3.0.0-bin-hadoop2.7/examples/src/main/scala/org/apache/spark/examples/mllib/StreamingLogisticRegression.scala\n",
            "spark-3.0.0-bin-hadoop2.7/examples/src/main/scala/org/apache/spark/examples/mllib/SVDExample.scala\n",
            "spark-3.0.0-bin-hadoop2.7/examples/src/main/scala/org/apache/spark/examples/mllib/PrefixSpanExample.scala\n",
            "spark-3.0.0-bin-hadoop2.7/examples/src/main/scala/org/apache/spark/examples/mllib/KMeansExample.scala\n",
            "spark-3.0.0-bin-hadoop2.7/examples/src/main/scala/org/apache/spark/examples/mllib/SparseNaiveBayes.scala\n",
            "spark-3.0.0-bin-hadoop2.7/examples/src/main/scala/org/apache/spark/examples/mllib/AbstractParams.scala\n",
            "spark-3.0.0-bin-hadoop2.7/examples/src/main/scala/org/apache/spark/examples/mllib/BinaryClassificationMetricsExample.scala\n",
            "spark-3.0.0-bin-hadoop2.7/examples/src/main/scala/org/apache/spark/examples/mllib/SampledRDDs.scala\n",
            "spark-3.0.0-bin-hadoop2.7/examples/src/main/scala/org/apache/spark/examples/mllib/FPGrowthExample.scala\n",
            "spark-3.0.0-bin-hadoop2.7/examples/src/main/scala/org/apache/spark/examples/mllib/ElementwiseProductExample.scala\n",
            "spark-3.0.0-bin-hadoop2.7/examples/src/main/scala/org/apache/spark/examples/mllib/RecommendationExample.scala\n",
            "spark-3.0.0-bin-hadoop2.7/examples/src/main/scala/org/apache/spark/examples/mllib/TallSkinnySVD.scala\n",
            "spark-3.0.0-bin-hadoop2.7/examples/src/main/scala/org/apache/spark/examples/mllib/HypothesisTestingKolmogorovSmirnovTestExample.scala\n",
            "spark-3.0.0-bin-hadoop2.7/examples/src/main/scala/org/apache/spark/examples/mllib/GradientBoostingRegressionExample.scala\n",
            "spark-3.0.0-bin-hadoop2.7/examples/src/main/scala/org/apache/spark/examples/mllib/StreamingKMeansExample.scala\n",
            "spark-3.0.0-bin-hadoop2.7/examples/src/main/scala/org/apache/spark/examples/mllib/CosineSimilarity.scala\n",
            "spark-3.0.0-bin-hadoop2.7/examples/src/main/scala/org/apache/spark/examples/mllib/RandomForestRegressionExample.scala\n",
            "spark-3.0.0-bin-hadoop2.7/examples/src/main/scala/org/apache/spark/examples/mllib/StreamingLinearRegressionExample.scala\n",
            "spark-3.0.0-bin-hadoop2.7/examples/src/main/scala/org/apache/spark/examples/mllib/StratifiedSamplingExample.scala\n",
            "spark-3.0.0-bin-hadoop2.7/examples/src/main/scala/org/apache/spark/examples/mllib/DecisionTreeClassificationExample.scala\n",
            "spark-3.0.0-bin-hadoop2.7/examples/src/main/scala/org/apache/spark/examples/mllib/TallSkinnyPCA.scala\n",
            "spark-3.0.0-bin-hadoop2.7/examples/src/main/scala/org/apache/spark/examples/mllib/RandomForestClassificationExample.scala\n",
            "spark-3.0.0-bin-hadoop2.7/examples/src/main/scala/org/apache/spark/examples/mllib/SimpleFPGrowth.scala\n",
            "spark-3.0.0-bin-hadoop2.7/examples/src/main/scala/org/apache/spark/examples/mllib/LatentDirichletAllocationExample.scala\n",
            "spark-3.0.0-bin-hadoop2.7/examples/src/main/scala/org/apache/spark/examples/mllib/KernelDensityEstimationExample.scala\n",
            "spark-3.0.0-bin-hadoop2.7/examples/src/main/scala/org/apache/spark/examples/mllib/PowerIterationClusteringExample.scala\n",
            "spark-3.0.0-bin-hadoop2.7/examples/src/main/scala/org/apache/spark/examples/mllib/SVMWithSGDExample.scala\n",
            "spark-3.0.0-bin-hadoop2.7/examples/src/main/scala/org/apache/spark/examples/mllib/LDAExample.scala\n",
            "spark-3.0.0-bin-hadoop2.7/examples/src/main/scala/org/apache/spark/examples/mllib/MovieLensALS.scala\n",
            "spark-3.0.0-bin-hadoop2.7/examples/src/main/scala/org/apache/spark/examples/mllib/NormalizerExample.scala\n",
            "spark-3.0.0-bin-hadoop2.7/examples/src/main/scala/org/apache/spark/examples/mllib/MulticlassMetricsExample.scala\n",
            "spark-3.0.0-bin-hadoop2.7/examples/src/main/scala/org/apache/spark/examples/mllib/ChiSqSelectorExample.scala\n",
            "spark-3.0.0-bin-hadoop2.7/examples/src/main/scala/org/apache/spark/examples/mllib/SummaryStatisticsExample.scala\n",
            "spark-3.0.0-bin-hadoop2.7/examples/src/main/scala/org/apache/spark/examples/mllib/PCAOnRowMatrixExample.scala\n",
            "spark-3.0.0-bin-hadoop2.7/examples/src/main/scala/org/apache/spark/examples/mllib/NaiveBayesExample.scala\n",
            "spark-3.0.0-bin-hadoop2.7/examples/src/main/scala/org/apache/spark/examples/SparkTC.scala\n",
            "spark-3.0.0-bin-hadoop2.7/examples/src/main/scala/org/apache/spark/examples/DriverSubmissionTest.scala\n",
            "spark-3.0.0-bin-hadoop2.7/examples/src/main/scala/org/apache/spark/examples/MultiBroadcastTest.scala\n",
            "spark-3.0.0-bin-hadoop2.7/examples/src/main/scala/org/apache/spark/examples/SparkLR.scala\n",
            "spark-3.0.0-bin-hadoop2.7/examples/src/main/scala/org/apache/spark/examples/SparkPi.scala\n",
            "spark-3.0.0-bin-hadoop2.7/examples/src/main/scala/org/apache/spark/examples/graphx/\n",
            "spark-3.0.0-bin-hadoop2.7/examples/src/main/scala/org/apache/spark/examples/graphx/ConnectedComponentsExample.scala\n",
            "spark-3.0.0-bin-hadoop2.7/examples/src/main/scala/org/apache/spark/examples/graphx/LiveJournalPageRank.scala\n",
            "spark-3.0.0-bin-hadoop2.7/examples/src/main/scala/org/apache/spark/examples/graphx/AggregateMessagesExample.scala\n",
            "spark-3.0.0-bin-hadoop2.7/examples/src/main/scala/org/apache/spark/examples/graphx/SSSPExample.scala\n",
            "spark-3.0.0-bin-hadoop2.7/examples/src/main/scala/org/apache/spark/examples/graphx/SynthBenchmark.scala\n",
            "spark-3.0.0-bin-hadoop2.7/examples/src/main/scala/org/apache/spark/examples/graphx/TriangleCountingExample.scala\n",
            "spark-3.0.0-bin-hadoop2.7/examples/src/main/scala/org/apache/spark/examples/graphx/PageRankExample.scala\n",
            "spark-3.0.0-bin-hadoop2.7/examples/src/main/scala/org/apache/spark/examples/graphx/ComprehensiveExample.scala\n",
            "spark-3.0.0-bin-hadoop2.7/examples/src/main/scala/org/apache/spark/examples/graphx/Analytics.scala\n",
            "spark-3.0.0-bin-hadoop2.7/examples/src/main/scala/org/apache/spark/examples/SparkKMeans.scala\n",
            "spark-3.0.0-bin-hadoop2.7/examples/src/main/scala/org/apache/spark/examples/streaming/\n",
            "spark-3.0.0-bin-hadoop2.7/examples/src/main/scala/org/apache/spark/examples/streaming/clickstream/\n",
            "spark-3.0.0-bin-hadoop2.7/examples/src/main/scala/org/apache/spark/examples/streaming/clickstream/PageViewGenerator.scala\n",
            "spark-3.0.0-bin-hadoop2.7/examples/src/main/scala/org/apache/spark/examples/streaming/clickstream/PageViewStream.scala\n",
            "spark-3.0.0-bin-hadoop2.7/examples/src/main/scala/org/apache/spark/examples/streaming/DirectKafkaWordCount.scala\n",
            "spark-3.0.0-bin-hadoop2.7/examples/src/main/scala/org/apache/spark/examples/streaming/HdfsWordCount.scala\n",
            "spark-3.0.0-bin-hadoop2.7/examples/src/main/scala/org/apache/spark/examples/streaming/DirectKerberizedKafkaWordCount.scala\n",
            "spark-3.0.0-bin-hadoop2.7/examples/src/main/scala/org/apache/spark/examples/streaming/RecoverableNetworkWordCount.scala\n",
            "spark-3.0.0-bin-hadoop2.7/examples/src/main/scala/org/apache/spark/examples/streaming/NetworkWordCount.scala\n",
            "spark-3.0.0-bin-hadoop2.7/examples/src/main/scala/org/apache/spark/examples/streaming/QueueStream.scala\n",
            "spark-3.0.0-bin-hadoop2.7/examples/src/main/scala/org/apache/spark/examples/streaming/SqlNetworkWordCount.scala\n",
            "spark-3.0.0-bin-hadoop2.7/examples/src/main/scala/org/apache/spark/examples/streaming/CustomReceiver.scala\n",
            "spark-3.0.0-bin-hadoop2.7/examples/src/main/scala/org/apache/spark/examples/streaming/RawNetworkGrep.scala\n",
            "spark-3.0.0-bin-hadoop2.7/examples/src/main/scala/org/apache/spark/examples/streaming/StatefulNetworkWordCount.scala\n",
            "spark-3.0.0-bin-hadoop2.7/examples/src/main/scala/org/apache/spark/examples/streaming/StreamingExamples.scala\n",
            "spark-3.0.0-bin-hadoop2.7/examples/src/main/scala/org/apache/spark/examples/LocalLR.scala\n",
            "spark-3.0.0-bin-hadoop2.7/examples/src/main/scala/org/apache/spark/examples/LocalKMeans.scala\n",
            "spark-3.0.0-bin-hadoop2.7/examples/src/main/scala/org/apache/spark/examples/GroupByTest.scala\n",
            "spark-3.0.0-bin-hadoop2.7/examples/src/main/scala/org/apache/spark/examples/LocalALS.scala\n",
            "spark-3.0.0-bin-hadoop2.7/examples/src/main/scala/org/apache/spark/examples/sql/\n",
            "spark-3.0.0-bin-hadoop2.7/examples/src/main/scala/org/apache/spark/examples/sql/SimpleTypedAggregator.scala\n",
            "spark-3.0.0-bin-hadoop2.7/examples/src/main/scala/org/apache/spark/examples/sql/UserDefinedUntypedAggregation.scala\n",
            "spark-3.0.0-bin-hadoop2.7/examples/src/main/scala/org/apache/spark/examples/sql/hive/\n",
            "spark-3.0.0-bin-hadoop2.7/examples/src/main/scala/org/apache/spark/examples/sql/hive/SparkHiveExample.scala\n",
            "spark-3.0.0-bin-hadoop2.7/examples/src/main/scala/org/apache/spark/examples/sql/RDDRelation.scala\n",
            "spark-3.0.0-bin-hadoop2.7/examples/src/main/scala/org/apache/spark/examples/sql/SparkSQLExample.scala\n",
            "spark-3.0.0-bin-hadoop2.7/examples/src/main/scala/org/apache/spark/examples/sql/SQLDataSourceExample.scala\n",
            "spark-3.0.0-bin-hadoop2.7/examples/src/main/scala/org/apache/spark/examples/sql/streaming/\n",
            "spark-3.0.0-bin-hadoop2.7/examples/src/main/scala/org/apache/spark/examples/sql/streaming/StructuredKerberizedKafkaWordCount.scala\n",
            "spark-3.0.0-bin-hadoop2.7/examples/src/main/scala/org/apache/spark/examples/sql/streaming/StructuredNetworkWordCount.scala\n",
            "spark-3.0.0-bin-hadoop2.7/examples/src/main/scala/org/apache/spark/examples/sql/streaming/StructuredNetworkWordCountWindowed.scala\n",
            "spark-3.0.0-bin-hadoop2.7/examples/src/main/scala/org/apache/spark/examples/sql/streaming/StructuredKafkaWordCount.scala\n",
            "spark-3.0.0-bin-hadoop2.7/examples/src/main/scala/org/apache/spark/examples/sql/streaming/StructuredSessionization.scala\n",
            "spark-3.0.0-bin-hadoop2.7/examples/src/main/scala/org/apache/spark/examples/sql/UserDefinedTypedAggregation.scala\n",
            "spark-3.0.0-bin-hadoop2.7/examples/src/main/scala/org/apache/spark/examples/sql/UserDefinedScalar.scala\n",
            "spark-3.0.0-bin-hadoop2.7/examples/src/main/scala/org/apache/spark/examples/SimpleSkewedGroupByTest.scala\n",
            "spark-3.0.0-bin-hadoop2.7/examples/src/main/scala/org/apache/spark/examples/LocalFileLR.scala\n",
            "spark-3.0.0-bin-hadoop2.7/examples/src/main/scala/org/apache/spark/examples/LocalPi.scala\n",
            "spark-3.0.0-bin-hadoop2.7/examples/src/main/scala/org/apache/spark/examples/DFSReadWriteTest.scala\n",
            "spark-3.0.0-bin-hadoop2.7/examples/src/main/scala/org/apache/spark/examples/SparkALS.scala\n",
            "spark-3.0.0-bin-hadoop2.7/examples/src/main/resources/\n",
            "spark-3.0.0-bin-hadoop2.7/examples/src/main/resources/people.json\n",
            "spark-3.0.0-bin-hadoop2.7/examples/src/main/resources/users.avro\n",
            "spark-3.0.0-bin-hadoop2.7/examples/src/main/resources/people.csv\n",
            "spark-3.0.0-bin-hadoop2.7/examples/src/main/resources/users.parquet\n",
            "spark-3.0.0-bin-hadoop2.7/examples/src/main/resources/users.orc\n",
            "spark-3.0.0-bin-hadoop2.7/examples/src/main/resources/dir1/\n",
            "spark-3.0.0-bin-hadoop2.7/examples/src/main/resources/dir1/file1.parquet\n",
            "spark-3.0.0-bin-hadoop2.7/examples/src/main/resources/dir1/dir2/\n",
            "spark-3.0.0-bin-hadoop2.7/examples/src/main/resources/dir1/dir2/file2.parquet\n",
            "spark-3.0.0-bin-hadoop2.7/examples/src/main/resources/dir1/file3.json\n",
            "spark-3.0.0-bin-hadoop2.7/examples/src/main/resources/user.avsc\n",
            "spark-3.0.0-bin-hadoop2.7/examples/src/main/resources/full_user.avsc\n",
            "spark-3.0.0-bin-hadoop2.7/examples/src/main/resources/kv1.txt\n",
            "spark-3.0.0-bin-hadoop2.7/examples/src/main/resources/people.txt\n",
            "spark-3.0.0-bin-hadoop2.7/examples/src/main/resources/employees.json\n",
            "spark-3.0.0-bin-hadoop2.7/examples/src/main/java/\n",
            "spark-3.0.0-bin-hadoop2.7/examples/src/main/java/org/\n",
            "spark-3.0.0-bin-hadoop2.7/examples/src/main/java/org/apache/\n",
            "spark-3.0.0-bin-hadoop2.7/examples/src/main/java/org/apache/spark/\n",
            "spark-3.0.0-bin-hadoop2.7/examples/src/main/java/org/apache/spark/examples/\n",
            "spark-3.0.0-bin-hadoop2.7/examples/src/main/java/org/apache/spark/examples/ml/\n",
            "spark-3.0.0-bin-hadoop2.7/examples/src/main/java/org/apache/spark/examples/ml/JavaStringIndexerExample.java\n",
            "spark-3.0.0-bin-hadoop2.7/examples/src/main/java/org/apache/spark/examples/ml/JavaChiSqSelectorExample.java\n",
            "spark-3.0.0-bin-hadoop2.7/examples/src/main/java/org/apache/spark/examples/ml/JavaLabeledDocument.java\n",
            "spark-3.0.0-bin-hadoop2.7/examples/src/main/java/org/apache/spark/examples/ml/JavaLogisticRegressionWithElasticNetExample.java\n",
            "spark-3.0.0-bin-hadoop2.7/examples/src/main/java/org/apache/spark/examples/ml/JavaPolynomialExpansionExample.java\n",
            "spark-3.0.0-bin-hadoop2.7/examples/src/main/java/org/apache/spark/examples/ml/JavaTfIdfExample.java\n",
            "spark-3.0.0-bin-hadoop2.7/examples/src/main/java/org/apache/spark/examples/ml/JavaBucketizerExample.java\n",
            "spark-3.0.0-bin-hadoop2.7/examples/src/main/java/org/apache/spark/examples/ml/JavaLogisticRegressionSummaryExample.java\n",
            "spark-3.0.0-bin-hadoop2.7/examples/src/main/java/org/apache/spark/examples/ml/JavaSummarizerExample.java\n",
            "spark-3.0.0-bin-hadoop2.7/examples/src/main/java/org/apache/spark/examples/ml/JavaQuantileDiscretizerExample.java\n",
            "spark-3.0.0-bin-hadoop2.7/examples/src/main/java/org/apache/spark/examples/ml/JavaBinarizerExample.java\n",
            "spark-3.0.0-bin-hadoop2.7/examples/src/main/java/org/apache/spark/examples/ml/JavaOneHotEncoderExample.java\n",
            "spark-3.0.0-bin-hadoop2.7/examples/src/main/java/org/apache/spark/examples/ml/JavaStandardScalerExample.java\n",
            "spark-3.0.0-bin-hadoop2.7/examples/src/main/java/org/apache/spark/examples/ml/JavaDCTExample.java\n",
            "spark-3.0.0-bin-hadoop2.7/examples/src/main/java/org/apache/spark/examples/ml/JavaDecisionTreeRegressionExample.java\n",
            "spark-3.0.0-bin-hadoop2.7/examples/src/main/java/org/apache/spark/examples/ml/JavaRandomForestClassifierExample.java\n",
            "spark-3.0.0-bin-hadoop2.7/examples/src/main/java/org/apache/spark/examples/ml/JavaOneVsRestExample.java\n",
            "spark-3.0.0-bin-hadoop2.7/examples/src/main/java/org/apache/spark/examples/ml/JavaGeneralizedLinearRegressionExample.java\n",
            "spark-3.0.0-bin-hadoop2.7/examples/src/main/java/org/apache/spark/examples/ml/JavaGaussianMixtureExample.java\n",
            "spark-3.0.0-bin-hadoop2.7/examples/src/main/java/org/apache/spark/examples/ml/JavaWord2VecExample.java\n",
            "spark-3.0.0-bin-hadoop2.7/examples/src/main/java/org/apache/spark/examples/ml/JavaNormalizerExample.java\n",
            "spark-3.0.0-bin-hadoop2.7/examples/src/main/java/org/apache/spark/examples/ml/JavaLDAExample.java\n",
            "spark-3.0.0-bin-hadoop2.7/examples/src/main/java/org/apache/spark/examples/ml/JavaCountVectorizerExample.java\n",
            "spark-3.0.0-bin-hadoop2.7/examples/src/main/java/org/apache/spark/examples/ml/JavaMultilayerPerceptronClassifierExample.java\n",
            "spark-3.0.0-bin-hadoop2.7/examples/src/main/java/org/apache/spark/examples/ml/JavaMinMaxScalerExample.java\n",
            "spark-3.0.0-bin-hadoop2.7/examples/src/main/java/org/apache/spark/examples/ml/JavaCorrelationExample.java\n",
            "spark-3.0.0-bin-hadoop2.7/examples/src/main/java/org/apache/spark/examples/ml/JavaNGramExample.java\n",
            "spark-3.0.0-bin-hadoop2.7/examples/src/main/java/org/apache/spark/examples/ml/JavaImputerExample.java\n",
            "spark-3.0.0-bin-hadoop2.7/examples/src/main/java/org/apache/spark/examples/ml/JavaMinHashLSHExample.java\n",
            "spark-3.0.0-bin-hadoop2.7/examples/src/main/java/org/apache/spark/examples/ml/JavaVectorSizeHintExample.java\n",
            "spark-3.0.0-bin-hadoop2.7/examples/src/main/java/org/apache/spark/examples/ml/JavaFMClassifierExample.java\n",
            "spark-3.0.0-bin-hadoop2.7/examples/src/main/java/org/apache/spark/examples/ml/JavaFeatureHasherExample.java\n",
            "spark-3.0.0-bin-hadoop2.7/examples/src/main/java/org/apache/spark/examples/ml/JavaModelSelectionViaTrainValidationSplitExample.java\n",
            "spark-3.0.0-bin-hadoop2.7/examples/src/main/java/org/apache/spark/examples/ml/JavaSQLTransformerExample.java\n",
            "spark-3.0.0-bin-hadoop2.7/examples/src/main/java/org/apache/spark/examples/ml/JavaKMeansExample.java\n",
            "spark-3.0.0-bin-hadoop2.7/examples/src/main/java/org/apache/spark/examples/ml/JavaVectorAssemblerExample.java\n",
            "spark-3.0.0-bin-hadoop2.7/examples/src/main/java/org/apache/spark/examples/ml/JavaGradientBoostedTreeRegressorExample.java\n",
            "spark-3.0.0-bin-hadoop2.7/examples/src/main/java/org/apache/spark/examples/ml/JavaPrefixSpanExample.java\n",
            "spark-3.0.0-bin-hadoop2.7/examples/src/main/java/org/apache/spark/examples/ml/JavaFMRegressorExample.java\n",
            "spark-3.0.0-bin-hadoop2.7/examples/src/main/java/org/apache/spark/examples/ml/JavaNaiveBayesExample.java\n",
            "spark-3.0.0-bin-hadoop2.7/examples/src/main/java/org/apache/spark/examples/ml/JavaMulticlassLogisticRegressionWithElasticNetExample.java\n",
            "spark-3.0.0-bin-hadoop2.7/examples/src/main/java/org/apache/spark/examples/ml/JavaModelSelectionViaCrossValidationExample.java\n",
            "spark-3.0.0-bin-hadoop2.7/examples/src/main/java/org/apache/spark/examples/ml/JavaDocument.java\n",
            "spark-3.0.0-bin-hadoop2.7/examples/src/main/java/org/apache/spark/examples/ml/JavaGradientBoostedTreeClassifierExample.java\n",
            "spark-3.0.0-bin-hadoop2.7/examples/src/main/java/org/apache/spark/examples/ml/JavaRandomForestRegressorExample.java\n",
            "spark-3.0.0-bin-hadoop2.7/examples/src/main/java/org/apache/spark/examples/ml/JavaAFTSurvivalRegressionExample.java\n",
            "spark-3.0.0-bin-hadoop2.7/examples/src/main/java/org/apache/spark/examples/ml/JavaIsotonicRegressionExample.java\n",
            "spark-3.0.0-bin-hadoop2.7/examples/src/main/java/org/apache/spark/examples/ml/JavaElementwiseProductExample.java\n",
            "spark-3.0.0-bin-hadoop2.7/examples/src/main/java/org/apache/spark/examples/ml/JavaALSExample.java\n",
            "spark-3.0.0-bin-hadoop2.7/examples/src/main/java/org/apache/spark/examples/ml/JavaBucketedRandomProjectionLSHExample.java\n",
            "spark-3.0.0-bin-hadoop2.7/examples/src/main/java/org/apache/spark/examples/ml/JavaVectorSlicerExample.java\n",
            "spark-3.0.0-bin-hadoop2.7/examples/src/main/java/org/apache/spark/examples/ml/JavaTokenizerExample.java\n",
            "spark-3.0.0-bin-hadoop2.7/examples/src/main/java/org/apache/spark/examples/ml/JavaRFormulaExample.java\n",
            "spark-3.0.0-bin-hadoop2.7/examples/src/main/java/org/apache/spark/examples/ml/JavaEstimatorTransformerParamExample.java\n",
            "spark-3.0.0-bin-hadoop2.7/examples/src/main/java/org/apache/spark/examples/ml/JavaPowerIterationClusteringExample.java\n",
            "spark-3.0.0-bin-hadoop2.7/examples/src/main/java/org/apache/spark/examples/ml/JavaBisectingKMeansExample.java\n",
            "spark-3.0.0-bin-hadoop2.7/examples/src/main/java/org/apache/spark/examples/ml/JavaMaxAbsScalerExample.java\n",
            "spark-3.0.0-bin-hadoop2.7/examples/src/main/java/org/apache/spark/examples/ml/JavaDecisionTreeClassificationExample.java\n",
            "spark-3.0.0-bin-hadoop2.7/examples/src/main/java/org/apache/spark/examples/ml/JavaPCAExample.java\n",
            "spark-3.0.0-bin-hadoop2.7/examples/src/main/java/org/apache/spark/examples/ml/JavaPipelineExample.java\n",
            "spark-3.0.0-bin-hadoop2.7/examples/src/main/java/org/apache/spark/examples/ml/JavaStopWordsRemoverExample.java\n",
            "spark-3.0.0-bin-hadoop2.7/examples/src/main/java/org/apache/spark/examples/ml/JavaIndexToStringExample.java\n",
            "spark-3.0.0-bin-hadoop2.7/examples/src/main/java/org/apache/spark/examples/ml/JavaFPGrowthExample.java\n",
            "spark-3.0.0-bin-hadoop2.7/examples/src/main/java/org/apache/spark/examples/ml/JavaVectorIndexerExample.java\n",
            "spark-3.0.0-bin-hadoop2.7/examples/src/main/java/org/apache/spark/examples/ml/JavaInteractionExample.java\n",
            "spark-3.0.0-bin-hadoop2.7/examples/src/main/java/org/apache/spark/examples/ml/JavaChiSquareTestExample.java\n",
            "spark-3.0.0-bin-hadoop2.7/examples/src/main/java/org/apache/spark/examples/ml/JavaRobustScalerExample.java\n",
            "spark-3.0.0-bin-hadoop2.7/examples/src/main/java/org/apache/spark/examples/ml/JavaLinearRegressionWithElasticNetExample.java\n",
            "spark-3.0.0-bin-hadoop2.7/examples/src/main/java/org/apache/spark/examples/ml/JavaLinearSVCExample.java\n",
            "spark-3.0.0-bin-hadoop2.7/examples/src/main/java/org/apache/spark/examples/JavaWordCount.java\n",
            "spark-3.0.0-bin-hadoop2.7/examples/src/main/java/org/apache/spark/examples/JavaHdfsLR.java\n",
            "spark-3.0.0-bin-hadoop2.7/examples/src/main/java/org/apache/spark/examples/JavaStatusTrackerDemo.java\n",
            "spark-3.0.0-bin-hadoop2.7/examples/src/main/java/org/apache/spark/examples/mllib/\n",
            "spark-3.0.0-bin-hadoop2.7/examples/src/main/java/org/apache/spark/examples/mllib/JavaChiSqSelectorExample.java\n",
            "spark-3.0.0-bin-hadoop2.7/examples/src/main/java/org/apache/spark/examples/mllib/JavaHypothesisTestingKolmogorovSmirnovTestExample.java\n",
            "spark-3.0.0-bin-hadoop2.7/examples/src/main/java/org/apache/spark/examples/mllib/JavaRandomForestRegressionExample.java\n",
            "spark-3.0.0-bin-hadoop2.7/examples/src/main/java/org/apache/spark/examples/mllib/JavaSimpleFPGrowth.java\n",
            "spark-3.0.0-bin-hadoop2.7/examples/src/main/java/org/apache/spark/examples/mllib/JavaRandomForestClassificationExample.java\n",
            "spark-3.0.0-bin-hadoop2.7/examples/src/main/java/org/apache/spark/examples/mllib/JavaMulticlassClassificationMetricsExample.java\n",
            "spark-3.0.0-bin-hadoop2.7/examples/src/main/java/org/apache/spark/examples/mllib/JavaKernelDensityEstimationExample.java\n",
            "spark-3.0.0-bin-hadoop2.7/examples/src/main/java/org/apache/spark/examples/mllib/JavaSummaryStatisticsExample.java\n",
            "spark-3.0.0-bin-hadoop2.7/examples/src/main/java/org/apache/spark/examples/mllib/JavaDecisionTreeRegressionExample.java\n",
            "spark-3.0.0-bin-hadoop2.7/examples/src/main/java/org/apache/spark/examples/mllib/JavaGradientBoostingClassificationExample.java\n",
            "spark-3.0.0-bin-hadoop2.7/examples/src/main/java/org/apache/spark/examples/mllib/JavaGaussianMixtureExample.java\n",
            "spark-3.0.0-bin-hadoop2.7/examples/src/main/java/org/apache/spark/examples/mllib/JavaStratifiedSamplingExample.java\n",
            "spark-3.0.0-bin-hadoop2.7/examples/src/main/java/org/apache/spark/examples/mllib/JavaSVDExample.java\n",
            "spark-3.0.0-bin-hadoop2.7/examples/src/main/java/org/apache/spark/examples/mllib/JavaAssociationRulesExample.java\n",
            "spark-3.0.0-bin-hadoop2.7/examples/src/main/java/org/apache/spark/examples/mllib/JavaALS.java\n",
            "spark-3.0.0-bin-hadoop2.7/examples/src/main/java/org/apache/spark/examples/mllib/JavaKMeansExample.java\n",
            "spark-3.0.0-bin-hadoop2.7/examples/src/main/java/org/apache/spark/examples/mllib/JavaSVMWithSGDExample.java\n",
            "spark-3.0.0-bin-hadoop2.7/examples/src/main/java/org/apache/spark/examples/mllib/JavaPrefixSpanExample.java\n",
            "spark-3.0.0-bin-hadoop2.7/examples/src/main/java/org/apache/spark/examples/mllib/JavaNaiveBayesExample.java\n",
            "spark-3.0.0-bin-hadoop2.7/examples/src/main/java/org/apache/spark/examples/mllib/JavaLogisticRegressionWithLBFGSExample.java\n",
            "spark-3.0.0-bin-hadoop2.7/examples/src/main/java/org/apache/spark/examples/mllib/JavaLBFGSExample.java\n",
            "spark-3.0.0-bin-hadoop2.7/examples/src/main/java/org/apache/spark/examples/mllib/JavaGradientBoostingRegressionExample.java\n",
            "spark-3.0.0-bin-hadoop2.7/examples/src/main/java/org/apache/spark/examples/mllib/JavaRankingMetricsExample.java\n",
            "spark-3.0.0-bin-hadoop2.7/examples/src/main/java/org/apache/spark/examples/mllib/JavaIsotonicRegressionExample.java\n",
            "spark-3.0.0-bin-hadoop2.7/examples/src/main/java/org/apache/spark/examples/mllib/JavaElementwiseProductExample.java\n",
            "spark-3.0.0-bin-hadoop2.7/examples/src/main/java/org/apache/spark/examples/mllib/JavaCorrelationsExample.java\n",
            "spark-3.0.0-bin-hadoop2.7/examples/src/main/java/org/apache/spark/examples/mllib/JavaPowerIterationClusteringExample.java\n",
            "spark-3.0.0-bin-hadoop2.7/examples/src/main/java/org/apache/spark/examples/mllib/JavaBisectingKMeansExample.java\n",
            "spark-3.0.0-bin-hadoop2.7/examples/src/main/java/org/apache/spark/examples/mllib/JavaDecisionTreeClassificationExample.java\n",
            "spark-3.0.0-bin-hadoop2.7/examples/src/main/java/org/apache/spark/examples/mllib/JavaPCAExample.java\n",
            "spark-3.0.0-bin-hadoop2.7/examples/src/main/java/org/apache/spark/examples/mllib/JavaRecommendationExample.java\n",
            "spark-3.0.0-bin-hadoop2.7/examples/src/main/java/org/apache/spark/examples/mllib/JavaLatentDirichletAllocationExample.java\n",
            "spark-3.0.0-bin-hadoop2.7/examples/src/main/java/org/apache/spark/examples/mllib/JavaHypothesisTestingExample.java\n",
            "spark-3.0.0-bin-hadoop2.7/examples/src/main/java/org/apache/spark/examples/mllib/JavaMultiLabelClassificationMetricsExample.java\n",
            "spark-3.0.0-bin-hadoop2.7/examples/src/main/java/org/apache/spark/examples/mllib/JavaBinaryClassificationMetricsExample.java\n",
            "spark-3.0.0-bin-hadoop2.7/examples/src/main/java/org/apache/spark/examples/mllib/JavaStreamingTestExample.java\n",
            "spark-3.0.0-bin-hadoop2.7/examples/src/main/java/org/apache/spark/examples/JavaPageRank.java\n",
            "spark-3.0.0-bin-hadoop2.7/examples/src/main/java/org/apache/spark/examples/JavaLogQuery.java\n",
            "spark-3.0.0-bin-hadoop2.7/examples/src/main/java/org/apache/spark/examples/streaming/\n",
            "spark-3.0.0-bin-hadoop2.7/examples/src/main/java/org/apache/spark/examples/streaming/JavaStatefulNetworkWordCount.java\n",
            "spark-3.0.0-bin-hadoop2.7/examples/src/main/java/org/apache/spark/examples/streaming/JavaCustomReceiver.java\n",
            "spark-3.0.0-bin-hadoop2.7/examples/src/main/java/org/apache/spark/examples/streaming/JavaRecord.java\n",
            "spark-3.0.0-bin-hadoop2.7/examples/src/main/java/org/apache/spark/examples/streaming/JavaNetworkWordCount.java\n",
            "spark-3.0.0-bin-hadoop2.7/examples/src/main/java/org/apache/spark/examples/streaming/JavaDirectKerberizedKafkaWordCount.java\n",
            "spark-3.0.0-bin-hadoop2.7/examples/src/main/java/org/apache/spark/examples/streaming/JavaDirectKafkaWordCount.java\n",
            "spark-3.0.0-bin-hadoop2.7/examples/src/main/java/org/apache/spark/examples/streaming/JavaSqlNetworkWordCount.java\n",
            "spark-3.0.0-bin-hadoop2.7/examples/src/main/java/org/apache/spark/examples/streaming/JavaRecoverableNetworkWordCount.java\n",
            "spark-3.0.0-bin-hadoop2.7/examples/src/main/java/org/apache/spark/examples/streaming/JavaQueueStream.java\n",
            "spark-3.0.0-bin-hadoop2.7/examples/src/main/java/org/apache/spark/examples/JavaSparkPi.java\n",
            "spark-3.0.0-bin-hadoop2.7/examples/src/main/java/org/apache/spark/examples/sql/\n",
            "spark-3.0.0-bin-hadoop2.7/examples/src/main/java/org/apache/spark/examples/sql/JavaUserDefinedScalar.java\n",
            "spark-3.0.0-bin-hadoop2.7/examples/src/main/java/org/apache/spark/examples/sql/hive/\n",
            "spark-3.0.0-bin-hadoop2.7/examples/src/main/java/org/apache/spark/examples/sql/hive/JavaSparkHiveExample.java\n",
            "spark-3.0.0-bin-hadoop2.7/examples/src/main/java/org/apache/spark/examples/sql/JavaUserDefinedTypedAggregation.java\n",
            "spark-3.0.0-bin-hadoop2.7/examples/src/main/java/org/apache/spark/examples/sql/JavaSQLDataSourceExample.java\n",
            "spark-3.0.0-bin-hadoop2.7/examples/src/main/java/org/apache/spark/examples/sql/JavaSparkSQLExample.java\n",
            "spark-3.0.0-bin-hadoop2.7/examples/src/main/java/org/apache/spark/examples/sql/JavaUserDefinedUntypedAggregation.java\n",
            "spark-3.0.0-bin-hadoop2.7/examples/src/main/java/org/apache/spark/examples/sql/streaming/\n",
            "spark-3.0.0-bin-hadoop2.7/examples/src/main/java/org/apache/spark/examples/sql/streaming/JavaStructuredKafkaWordCount.java\n",
            "spark-3.0.0-bin-hadoop2.7/examples/src/main/java/org/apache/spark/examples/sql/streaming/JavaStructuredNetworkWordCountWindowed.java\n",
            "spark-3.0.0-bin-hadoop2.7/examples/src/main/java/org/apache/spark/examples/sql/streaming/JavaStructuredSessionization.java\n",
            "spark-3.0.0-bin-hadoop2.7/examples/src/main/java/org/apache/spark/examples/sql/streaming/JavaStructuredNetworkWordCount.java\n",
            "spark-3.0.0-bin-hadoop2.7/examples/src/main/java/org/apache/spark/examples/sql/streaming/JavaStructuredKerberizedKafkaWordCount.java\n",
            "spark-3.0.0-bin-hadoop2.7/examples/src/main/java/org/apache/spark/examples/JavaTC.java\n",
            "spark-3.0.0-bin-hadoop2.7/examples/src/main/scripts/\n",
            "spark-3.0.0-bin-hadoop2.7/examples/src/main/scripts/getGpusResources.sh\n",
            "spark-3.0.0-bin-hadoop2.7/examples/src/main/python/\n",
            "spark-3.0.0-bin-hadoop2.7/examples/src/main/python/kmeans.py\n",
            "spark-3.0.0-bin-hadoop2.7/examples/src/main/python/ml/\n",
            "spark-3.0.0-bin-hadoop2.7/examples/src/main/python/ml/dct_example.py\n",
            "spark-3.0.0-bin-hadoop2.7/examples/src/main/python/ml/count_vectorizer_example.py\n",
            "spark-3.0.0-bin-hadoop2.7/examples/src/main/python/ml/chisq_selector_example.py\n",
            "spark-3.0.0-bin-hadoop2.7/examples/src/main/python/ml/gradient_boosted_tree_regressor_example.py\n",
            "spark-3.0.0-bin-hadoop2.7/examples/src/main/python/ml/tf_idf_example.py\n",
            "spark-3.0.0-bin-hadoop2.7/examples/src/main/python/ml/cross_validator.py\n",
            "spark-3.0.0-bin-hadoop2.7/examples/src/main/python/ml/linear_regression_with_elastic_net.py\n",
            "spark-3.0.0-bin-hadoop2.7/examples/src/main/python/ml/normalizer_example.py\n",
            "spark-3.0.0-bin-hadoop2.7/examples/src/main/python/ml/fm_regressor_example.py\n",
            "spark-3.0.0-bin-hadoop2.7/examples/src/main/python/ml/polynomial_expansion_example.py\n",
            "spark-3.0.0-bin-hadoop2.7/examples/src/main/python/ml/pipeline_example.py\n",
            "spark-3.0.0-bin-hadoop2.7/examples/src/main/python/ml/generalized_linear_regression_example.py\n",
            "spark-3.0.0-bin-hadoop2.7/examples/src/main/python/ml/multilayer_perceptron_classification.py\n",
            "spark-3.0.0-bin-hadoop2.7/examples/src/main/python/ml/bisecting_k_means_example.py\n",
            "spark-3.0.0-bin-hadoop2.7/examples/src/main/python/ml/chi_square_test_example.py\n",
            "spark-3.0.0-bin-hadoop2.7/examples/src/main/python/ml/train_validation_split.py\n",
            "spark-3.0.0-bin-hadoop2.7/examples/src/main/python/ml/stopwords_remover_example.py\n",
            "spark-3.0.0-bin-hadoop2.7/examples/src/main/python/ml/linearsvc.py\n",
            "spark-3.0.0-bin-hadoop2.7/examples/src/main/python/ml/lda_example.py\n",
            "spark-3.0.0-bin-hadoop2.7/examples/src/main/python/ml/random_forest_regressor_example.py\n",
            "spark-3.0.0-bin-hadoop2.7/examples/src/main/python/ml/vector_assembler_example.py\n",
            "spark-3.0.0-bin-hadoop2.7/examples/src/main/python/ml/word2vec_example.py\n",
            "spark-3.0.0-bin-hadoop2.7/examples/src/main/python/ml/string_indexer_example.py\n",
            "spark-3.0.0-bin-hadoop2.7/examples/src/main/python/ml/decision_tree_classification_example.py\n",
            "spark-3.0.0-bin-hadoop2.7/examples/src/main/python/ml/index_to_string_example.py\n",
            "spark-3.0.0-bin-hadoop2.7/examples/src/main/python/ml/bucketizer_example.py\n",
            "spark-3.0.0-bin-hadoop2.7/examples/src/main/python/ml/vector_size_hint_example.py\n",
            "spark-3.0.0-bin-hadoop2.7/examples/src/main/python/ml/vector_indexer_example.py\n",
            "spark-3.0.0-bin-hadoop2.7/examples/src/main/python/ml/tokenizer_example.py\n",
            "spark-3.0.0-bin-hadoop2.7/examples/src/main/python/ml/robust_scaler_example.py\n",
            "spark-3.0.0-bin-hadoop2.7/examples/src/main/python/ml/standard_scaler_example.py\n",
            "spark-3.0.0-bin-hadoop2.7/examples/src/main/python/ml/kmeans_example.py\n",
            "spark-3.0.0-bin-hadoop2.7/examples/src/main/python/ml/power_iteration_clustering_example.py\n",
            "spark-3.0.0-bin-hadoop2.7/examples/src/main/python/ml/naive_bayes_example.py\n",
            "spark-3.0.0-bin-hadoop2.7/examples/src/main/python/ml/pca_example.py\n",
            "spark-3.0.0-bin-hadoop2.7/examples/src/main/python/ml/aft_survival_regression.py\n",
            "spark-3.0.0-bin-hadoop2.7/examples/src/main/python/ml/min_max_scaler_example.py\n",
            "spark-3.0.0-bin-hadoop2.7/examples/src/main/python/ml/elementwise_product_example.py\n",
            "spark-3.0.0-bin-hadoop2.7/examples/src/main/python/ml/dataframe_example.py\n",
            "spark-3.0.0-bin-hadoop2.7/examples/src/main/python/ml/n_gram_example.py\n",
            "spark-3.0.0-bin-hadoop2.7/examples/src/main/python/ml/rformula_example.py\n",
            "spark-3.0.0-bin-hadoop2.7/examples/src/main/python/ml/one_vs_rest_example.py\n",
            "spark-3.0.0-bin-hadoop2.7/examples/src/main/python/ml/als_example.py\n",
            "spark-3.0.0-bin-hadoop2.7/examples/src/main/python/ml/onehot_encoder_example.py\n",
            "spark-3.0.0-bin-hadoop2.7/examples/src/main/python/ml/vector_slicer_example.py\n",
            "spark-3.0.0-bin-hadoop2.7/examples/src/main/python/ml/logistic_regression_with_elastic_net.py\n",
            "spark-3.0.0-bin-hadoop2.7/examples/src/main/python/ml/sql_transformer.py\n",
            "spark-3.0.0-bin-hadoop2.7/examples/src/main/python/ml/multiclass_logistic_regression_with_elastic_net.py\n",
            "spark-3.0.0-bin-hadoop2.7/examples/src/main/python/ml/summarizer_example.py\n",
            "spark-3.0.0-bin-hadoop2.7/examples/src/main/python/ml/quantile_discretizer_example.py\n",
            "spark-3.0.0-bin-hadoop2.7/examples/src/main/python/ml/feature_hasher_example.py\n",
            "spark-3.0.0-bin-hadoop2.7/examples/src/main/python/ml/imputer_example.py\n",
            "spark-3.0.0-bin-hadoop2.7/examples/src/main/python/ml/bucketed_random_projection_lsh_example.py\n",
            "spark-3.0.0-bin-hadoop2.7/examples/src/main/python/ml/estimator_transformer_param_example.py\n",
            "spark-3.0.0-bin-hadoop2.7/examples/src/main/python/ml/gradient_boosted_tree_classifier_example.py\n",
            "spark-3.0.0-bin-hadoop2.7/examples/src/main/python/ml/logistic_regression_summary_example.py\n",
            "spark-3.0.0-bin-hadoop2.7/examples/src/main/python/ml/decision_tree_regression_example.py\n",
            "spark-3.0.0-bin-hadoop2.7/examples/src/main/python/ml/fm_classifier_example.py\n",
            "spark-3.0.0-bin-hadoop2.7/examples/src/main/python/ml/gaussian_mixture_example.py\n",
            "spark-3.0.0-bin-hadoop2.7/examples/src/main/python/ml/fpgrowth_example.py\n",
            "spark-3.0.0-bin-hadoop2.7/examples/src/main/python/ml/random_forest_classifier_example.py\n",
            "spark-3.0.0-bin-hadoop2.7/examples/src/main/python/ml/correlation_example.py\n",
            "spark-3.0.0-bin-hadoop2.7/examples/src/main/python/ml/min_hash_lsh_example.py\n",
            "spark-3.0.0-bin-hadoop2.7/examples/src/main/python/ml/binarizer_example.py\n",
            "spark-3.0.0-bin-hadoop2.7/examples/src/main/python/ml/prefixspan_example.py\n",
            "spark-3.0.0-bin-hadoop2.7/examples/src/main/python/ml/max_abs_scaler_example.py\n",
            "spark-3.0.0-bin-hadoop2.7/examples/src/main/python/ml/isotonic_regression_example.py\n",
            "spark-3.0.0-bin-hadoop2.7/examples/src/main/python/ml/interaction_example.py\n",
            "spark-3.0.0-bin-hadoop2.7/examples/src/main/python/logistic_regression.py\n",
            "spark-3.0.0-bin-hadoop2.7/examples/src/main/python/als.py\n",
            "spark-3.0.0-bin-hadoop2.7/examples/src/main/python/mllib/\n",
            "spark-3.0.0-bin-hadoop2.7/examples/src/main/python/mllib/word2vec.py\n",
            "spark-3.0.0-bin-hadoop2.7/examples/src/main/python/mllib/correlations_example.py\n",
            "spark-3.0.0-bin-hadoop2.7/examples/src/main/python/mllib/gradient_boosting_classification_example.py\n",
            "spark-3.0.0-bin-hadoop2.7/examples/src/main/python/mllib/kernel_density_estimation_example.py\n",
            "spark-3.0.0-bin-hadoop2.7/examples/src/main/python/mllib/hypothesis_testing_example.py\n",
            "spark-3.0.0-bin-hadoop2.7/examples/src/main/python/mllib/svd_example.py\n",
            "spark-3.0.0-bin-hadoop2.7/examples/src/main/python/mllib/kmeans.py\n",
            "spark-3.0.0-bin-hadoop2.7/examples/src/main/python/mllib/latent_dirichlet_allocation_example.py\n",
            "spark-3.0.0-bin-hadoop2.7/examples/src/main/python/mllib/tf_idf_example.py\n",
            "spark-3.0.0-bin-hadoop2.7/examples/src/main/python/mllib/correlations.py\n",
            "spark-3.0.0-bin-hadoop2.7/examples/src/main/python/mllib/random_forest_regression_example.py\n",
            "spark-3.0.0-bin-hadoop2.7/examples/src/main/python/mllib/normalizer_example.py\n",
            "spark-3.0.0-bin-hadoop2.7/examples/src/main/python/mllib/logistic_regression.py\n",
            "spark-3.0.0-bin-hadoop2.7/examples/src/main/python/mllib/multi_label_metrics_example.py\n",
            "spark-3.0.0-bin-hadoop2.7/examples/src/main/python/mllib/gradient_boosting_regression_example.py\n",
            "spark-3.0.0-bin-hadoop2.7/examples/src/main/python/mllib/random_forest_classification_example.py\n",
            "spark-3.0.0-bin-hadoop2.7/examples/src/main/python/mllib/streaming_linear_regression_example.py\n",
            "spark-3.0.0-bin-hadoop2.7/examples/src/main/python/mllib/sampled_rdds.py\n",
            "spark-3.0.0-bin-hadoop2.7/examples/src/main/python/mllib/bisecting_k_means_example.py\n",
            "spark-3.0.0-bin-hadoop2.7/examples/src/main/python/mllib/logistic_regression_with_lbfgs_example.py\n",
            "spark-3.0.0-bin-hadoop2.7/examples/src/main/python/mllib/k_means_example.py\n",
            "spark-3.0.0-bin-hadoop2.7/examples/src/main/python/mllib/streaming_k_means_example.py\n",
            "spark-3.0.0-bin-hadoop2.7/examples/src/main/python/mllib/word2vec_example.py\n",
            "spark-3.0.0-bin-hadoop2.7/examples/src/main/python/mllib/multi_class_metrics_example.py\n",
            "spark-3.0.0-bin-hadoop2.7/examples/src/main/python/mllib/decision_tree_classification_example.py\n",
            "spark-3.0.0-bin-hadoop2.7/examples/src/main/python/mllib/summary_statistics_example.py\n",
            "spark-3.0.0-bin-hadoop2.7/examples/src/main/python/mllib/binary_classification_metrics_example.py\n",
            "spark-3.0.0-bin-hadoop2.7/examples/src/main/python/mllib/standard_scaler_example.py\n",
            "spark-3.0.0-bin-hadoop2.7/examples/src/main/python/mllib/power_iteration_clustering_example.py\n",
            "spark-3.0.0-bin-hadoop2.7/examples/src/main/python/mllib/gaussian_mixture_model.py\n",
            "spark-3.0.0-bin-hadoop2.7/examples/src/main/python/mllib/regression_metrics_example.py\n",
            "spark-3.0.0-bin-hadoop2.7/examples/src/main/python/mllib/naive_bayes_example.py\n",
            "spark-3.0.0-bin-hadoop2.7/examples/src/main/python/mllib/elementwise_product_example.py\n",
            "spark-3.0.0-bin-hadoop2.7/examples/src/main/python/mllib/linear_regression_with_sgd_example.py\n",
            "spark-3.0.0-bin-hadoop2.7/examples/src/main/python/mllib/pca_rowmatrix_example.py\n",
            "spark-3.0.0-bin-hadoop2.7/examples/src/main/python/mllib/hypothesis_testing_kolmogorov_smirnov_test_example.py\n",
            "spark-3.0.0-bin-hadoop2.7/examples/src/main/python/mllib/random_rdd_generation.py\n",
            "spark-3.0.0-bin-hadoop2.7/examples/src/main/python/mllib/decision_tree_regression_example.py\n",
            "spark-3.0.0-bin-hadoop2.7/examples/src/main/python/mllib/gaussian_mixture_example.py\n",
            "spark-3.0.0-bin-hadoop2.7/examples/src/main/python/mllib/recommendation_example.py\n",
            "spark-3.0.0-bin-hadoop2.7/examples/src/main/python/mllib/fpgrowth_example.py\n",
            "spark-3.0.0-bin-hadoop2.7/examples/src/main/python/mllib/ranking_metrics_example.py\n",
            "spark-3.0.0-bin-hadoop2.7/examples/src/main/python/mllib/svm_with_sgd_example.py\n",
            "spark-3.0.0-bin-hadoop2.7/examples/src/main/python/mllib/isotonic_regression_example.py\n",
            "spark-3.0.0-bin-hadoop2.7/examples/src/main/python/mllib/stratified_sampling_example.py\n",
            "spark-3.0.0-bin-hadoop2.7/examples/src/main/python/wordcount.py\n",
            "spark-3.0.0-bin-hadoop2.7/examples/src/main/python/status_api_demo.py\n",
            "spark-3.0.0-bin-hadoop2.7/examples/src/main/python/pagerank.py\n",
            "spark-3.0.0-bin-hadoop2.7/examples/src/main/python/sort.py\n",
            "spark-3.0.0-bin-hadoop2.7/examples/src/main/python/transitive_closure.py\n",
            "spark-3.0.0-bin-hadoop2.7/examples/src/main/python/avro_inputformat.py\n",
            "spark-3.0.0-bin-hadoop2.7/examples/src/main/python/pi.py\n",
            "spark-3.0.0-bin-hadoop2.7/examples/src/main/python/streaming/\n",
            "spark-3.0.0-bin-hadoop2.7/examples/src/main/python/streaming/queue_stream.py\n",
            "spark-3.0.0-bin-hadoop2.7/examples/src/main/python/streaming/stateful_network_wordcount.py\n",
            "spark-3.0.0-bin-hadoop2.7/examples/src/main/python/streaming/network_wordjoinsentiments.py\n",
            "spark-3.0.0-bin-hadoop2.7/examples/src/main/python/streaming/sql_network_wordcount.py\n",
            "spark-3.0.0-bin-hadoop2.7/examples/src/main/python/streaming/network_wordcount.py\n",
            "spark-3.0.0-bin-hadoop2.7/examples/src/main/python/streaming/hdfs_wordcount.py\n",
            "spark-3.0.0-bin-hadoop2.7/examples/src/main/python/streaming/recoverable_network_wordcount.py\n",
            "spark-3.0.0-bin-hadoop2.7/examples/src/main/python/sql/\n",
            "spark-3.0.0-bin-hadoop2.7/examples/src/main/python/sql/datasource.py\n",
            "spark-3.0.0-bin-hadoop2.7/examples/src/main/python/sql/hive.py\n",
            "spark-3.0.0-bin-hadoop2.7/examples/src/main/python/sql/arrow.py\n",
            "spark-3.0.0-bin-hadoop2.7/examples/src/main/python/sql/streaming/\n",
            "spark-3.0.0-bin-hadoop2.7/examples/src/main/python/sql/streaming/structured_network_wordcount_windowed.py\n",
            "spark-3.0.0-bin-hadoop2.7/examples/src/main/python/sql/streaming/structured_network_wordcount.py\n",
            "spark-3.0.0-bin-hadoop2.7/examples/src/main/python/sql/streaming/structured_kafka_wordcount.py\n",
            "spark-3.0.0-bin-hadoop2.7/examples/src/main/python/sql/basic.py\n",
            "spark-3.0.0-bin-hadoop2.7/examples/src/main/python/parquet_inputformat.py\n",
            "spark-3.0.0-bin-hadoop2.7/examples/jars/\n",
            "spark-3.0.0-bin-hadoop2.7/examples/jars/spark-examples_2.12-3.0.0.jar\n",
            "spark-3.0.0-bin-hadoop2.7/examples/jars/scopt_2.12-3.7.1.jar\n",
            "spark-3.0.0-bin-hadoop2.7/conf/\n",
            "spark-3.0.0-bin-hadoop2.7/conf/slaves.template\n",
            "spark-3.0.0-bin-hadoop2.7/conf/metrics.properties.template\n",
            "spark-3.0.0-bin-hadoop2.7/conf/fairscheduler.xml.template\n",
            "spark-3.0.0-bin-hadoop2.7/conf/log4j.properties.template\n",
            "spark-3.0.0-bin-hadoop2.7/conf/spark-defaults.conf.template\n",
            "spark-3.0.0-bin-hadoop2.7/conf/spark-env.sh.template\n",
            "spark-3.0.0-bin-hadoop2.7/bin/\n",
            "spark-3.0.0-bin-hadoop2.7/bin/sparkR.cmd\n",
            "spark-3.0.0-bin-hadoop2.7/bin/sparkR\n",
            "spark-3.0.0-bin-hadoop2.7/bin/spark-submit\n",
            "spark-3.0.0-bin-hadoop2.7/bin/pyspark2.cmd\n",
            "spark-3.0.0-bin-hadoop2.7/bin/spark-class\n",
            "spark-3.0.0-bin-hadoop2.7/bin/pyspark.cmd\n",
            "spark-3.0.0-bin-hadoop2.7/bin/spark-submit2.cmd\n",
            "spark-3.0.0-bin-hadoop2.7/bin/load-spark-env.cmd\n",
            "spark-3.0.0-bin-hadoop2.7/bin/spark-sql\n",
            "spark-3.0.0-bin-hadoop2.7/bin/docker-image-tool.sh\n",
            "spark-3.0.0-bin-hadoop2.7/bin/find-spark-home.cmd\n",
            "spark-3.0.0-bin-hadoop2.7/bin/load-spark-env.sh\n",
            "spark-3.0.0-bin-hadoop2.7/bin/pyspark\n",
            "spark-3.0.0-bin-hadoop2.7/bin/spark-shell.cmd\n",
            "spark-3.0.0-bin-hadoop2.7/bin/spark-shell2.cmd\n",
            "spark-3.0.0-bin-hadoop2.7/bin/spark-submit.cmd\n",
            "spark-3.0.0-bin-hadoop2.7/bin/beeline.cmd\n",
            "spark-3.0.0-bin-hadoop2.7/bin/find-spark-home\n",
            "spark-3.0.0-bin-hadoop2.7/bin/spark-class.cmd\n",
            "spark-3.0.0-bin-hadoop2.7/bin/sparkR2.cmd\n",
            "spark-3.0.0-bin-hadoop2.7/bin/beeline\n",
            "spark-3.0.0-bin-hadoop2.7/bin/spark-class2.cmd\n",
            "spark-3.0.0-bin-hadoop2.7/bin/spark-sql.cmd\n",
            "spark-3.0.0-bin-hadoop2.7/bin/run-example\n",
            "spark-3.0.0-bin-hadoop2.7/bin/spark-shell\n",
            "spark-3.0.0-bin-hadoop2.7/bin/run-example.cmd\n",
            "spark-3.0.0-bin-hadoop2.7/bin/spark-sql2.cmd\n",
            "spark-3.0.0-bin-hadoop2.7/python/\n",
            "spark-3.0.0-bin-hadoop2.7/python/.gitignore\n",
            "spark-3.0.0-bin-hadoop2.7/python/run-tests-with-coverage\n",
            "spark-3.0.0-bin-hadoop2.7/python/pylintrc\n",
            "spark-3.0.0-bin-hadoop2.7/python/MANIFEST.in\n",
            "spark-3.0.0-bin-hadoop2.7/python/README.md\n",
            "spark-3.0.0-bin-hadoop2.7/python/test_coverage/\n",
            "spark-3.0.0-bin-hadoop2.7/python/test_coverage/coverage_daemon.py\n",
            "spark-3.0.0-bin-hadoop2.7/python/test_coverage/conf/\n",
            "spark-3.0.0-bin-hadoop2.7/python/test_coverage/conf/spark-defaults.conf\n",
            "spark-3.0.0-bin-hadoop2.7/python/test_coverage/sitecustomize.py\n",
            "spark-3.0.0-bin-hadoop2.7/python/run-tests.py\n",
            "spark-3.0.0-bin-hadoop2.7/python/setup.py\n",
            "spark-3.0.0-bin-hadoop2.7/python/test_support/\n",
            "spark-3.0.0-bin-hadoop2.7/python/test_support/userlibrary.py\n",
            "spark-3.0.0-bin-hadoop2.7/python/test_support/hello/\n",
            "spark-3.0.0-bin-hadoop2.7/python/test_support/hello/sub_hello/\n",
            "spark-3.0.0-bin-hadoop2.7/python/test_support/hello/sub_hello/sub_hello.txt\n",
            "spark-3.0.0-bin-hadoop2.7/python/test_support/hello/hello.txt\n",
            "spark-3.0.0-bin-hadoop2.7/python/test_support/userlib-0.1.zip\n",
            "spark-3.0.0-bin-hadoop2.7/python/test_support/SimpleHTTPServer.py\n",
            "spark-3.0.0-bin-hadoop2.7/python/test_support/sql/\n",
            "spark-3.0.0-bin-hadoop2.7/python/test_support/sql/people.json\n",
            "spark-3.0.0-bin-hadoop2.7/python/test_support/sql/people_array.json\n",
            "spark-3.0.0-bin-hadoop2.7/python/test_support/sql/people_array_utf16le.json\n",
            "spark-3.0.0-bin-hadoop2.7/python/test_support/sql/text-test.txt\n",
            "spark-3.0.0-bin-hadoop2.7/python/test_support/sql/ages.csv\n",
            "spark-3.0.0-bin-hadoop2.7/python/test_support/sql/parquet_partitioned/\n",
            "spark-3.0.0-bin-hadoop2.7/python/test_support/sql/parquet_partitioned/year=2015/\n",
            "spark-3.0.0-bin-hadoop2.7/python/test_support/sql/parquet_partitioned/year=2015/month=10/\n",
            "spark-3.0.0-bin-hadoop2.7/python/test_support/sql/parquet_partitioned/year=2015/month=10/day=26/\n",
            "spark-3.0.0-bin-hadoop2.7/python/test_support/sql/parquet_partitioned/year=2015/month=10/day=26/.part-r-00005.gz.parquet.crc\n",
            "spark-3.0.0-bin-hadoop2.7/python/test_support/sql/parquet_partitioned/year=2015/month=10/day=26/part-r-00005.gz.parquet\n",
            "spark-3.0.0-bin-hadoop2.7/python/test_support/sql/parquet_partitioned/year=2015/month=10/day=25/\n",
            "spark-3.0.0-bin-hadoop2.7/python/test_support/sql/parquet_partitioned/year=2015/month=10/day=25/.part-r-00002.gz.parquet.crc\n",
            "spark-3.0.0-bin-hadoop2.7/python/test_support/sql/parquet_partitioned/year=2015/month=10/day=25/.part-r-00004.gz.parquet.crc\n",
            "spark-3.0.0-bin-hadoop2.7/python/test_support/sql/parquet_partitioned/year=2015/month=10/day=25/part-r-00004.gz.parquet\n",
            "spark-3.0.0-bin-hadoop2.7/python/test_support/sql/parquet_partitioned/year=2015/month=10/day=25/part-r-00002.gz.parquet\n",
            "spark-3.0.0-bin-hadoop2.7/python/test_support/sql/parquet_partitioned/year=2015/month=9/\n",
            "spark-3.0.0-bin-hadoop2.7/python/test_support/sql/parquet_partitioned/year=2015/month=9/day=1/\n",
            "spark-3.0.0-bin-hadoop2.7/python/test_support/sql/parquet_partitioned/year=2015/month=9/day=1/.part-r-00007.gz.parquet.crc\n",
            "spark-3.0.0-bin-hadoop2.7/python/test_support/sql/parquet_partitioned/year=2015/month=9/day=1/part-r-00007.gz.parquet\n",
            "spark-3.0.0-bin-hadoop2.7/python/test_support/sql/parquet_partitioned/_metadata\n",
            "spark-3.0.0-bin-hadoop2.7/python/test_support/sql/parquet_partitioned/year=2014/\n",
            "spark-3.0.0-bin-hadoop2.7/python/test_support/sql/parquet_partitioned/year=2014/month=9/\n",
            "spark-3.0.0-bin-hadoop2.7/python/test_support/sql/parquet_partitioned/year=2014/month=9/day=1/\n",
            "spark-3.0.0-bin-hadoop2.7/python/test_support/sql/parquet_partitioned/year=2014/month=9/day=1/.part-r-00008.gz.parquet.crc\n",
            "spark-3.0.0-bin-hadoop2.7/python/test_support/sql/parquet_partitioned/year=2014/month=9/day=1/part-r-00008.gz.parquet\n",
            "spark-3.0.0-bin-hadoop2.7/python/test_support/sql/parquet_partitioned/_common_metadata\n",
            "spark-3.0.0-bin-hadoop2.7/python/test_support/sql/parquet_partitioned/_SUCCESS\n",
            "spark-3.0.0-bin-hadoop2.7/python/test_support/sql/orc_partitioned/\n",
            "spark-3.0.0-bin-hadoop2.7/python/test_support/sql/orc_partitioned/b=1/\n",
            "spark-3.0.0-bin-hadoop2.7/python/test_support/sql/orc_partitioned/b=1/c=1/\n",
            "spark-3.0.0-bin-hadoop2.7/python/test_support/sql/orc_partitioned/b=1/c=1/part-r-00000-829af031-b970-49d6-ad39-30460a0be2c8.orc\n",
            "spark-3.0.0-bin-hadoop2.7/python/test_support/sql/orc_partitioned/b=1/c=1/.part-r-00000-829af031-b970-49d6-ad39-30460a0be2c8.orc.crc\n",
            "spark-3.0.0-bin-hadoop2.7/python/test_support/sql/orc_partitioned/b=0/\n",
            "spark-3.0.0-bin-hadoop2.7/python/test_support/sql/orc_partitioned/b=0/c=0/\n",
            "spark-3.0.0-bin-hadoop2.7/python/test_support/sql/orc_partitioned/b=0/c=0/part-r-00000-829af031-b970-49d6-ad39-30460a0be2c8.orc\n",
            "spark-3.0.0-bin-hadoop2.7/python/test_support/sql/orc_partitioned/b=0/c=0/.part-r-00000-829af031-b970-49d6-ad39-30460a0be2c8.orc.crc\n",
            "spark-3.0.0-bin-hadoop2.7/python/test_support/sql/orc_partitioned/_SUCCESS\n",
            "spark-3.0.0-bin-hadoop2.7/python/test_support/sql/ages_newlines.csv\n",
            "spark-3.0.0-bin-hadoop2.7/python/test_support/sql/streaming/\n",
            "spark-3.0.0-bin-hadoop2.7/python/test_support/sql/streaming/text-test.txt\n",
            "spark-3.0.0-bin-hadoop2.7/python/test_support/sql/people1.json\n",
            "spark-3.0.0-bin-hadoop2.7/python/pyspark/\n",
            "spark-3.0.0-bin-hadoop2.7/python/pyspark/tests/\n",
            "spark-3.0.0-bin-hadoop2.7/python/pyspark/tests/test_rddbarrier.py\n",
            "spark-3.0.0-bin-hadoop2.7/python/pyspark/tests/test_worker.py\n",
            "spark-3.0.0-bin-hadoop2.7/python/pyspark/tests/test_serializers.py\n",
            "spark-3.0.0-bin-hadoop2.7/python/pyspark/tests/test_util.py\n",
            "spark-3.0.0-bin-hadoop2.7/python/pyspark/tests/test_rdd.py\n",
            "spark-3.0.0-bin-hadoop2.7/python/pyspark/tests/__init__.py\n",
            "spark-3.0.0-bin-hadoop2.7/python/pyspark/tests/test_broadcast.py\n",
            "spark-3.0.0-bin-hadoop2.7/python/pyspark/tests/test_appsubmit.py\n",
            "spark-3.0.0-bin-hadoop2.7/python/pyspark/tests/test_profiler.py\n",
            "spark-3.0.0-bin-hadoop2.7/python/pyspark/tests/test_pin_thread.py\n",
            "spark-3.0.0-bin-hadoop2.7/python/pyspark/tests/test_shuffle.py\n",
            "spark-3.0.0-bin-hadoop2.7/python/pyspark/tests/test_join.py\n",
            "spark-3.0.0-bin-hadoop2.7/python/pyspark/tests/test_taskcontext.py\n",
            "spark-3.0.0-bin-hadoop2.7/python/pyspark/tests/test_context.py\n",
            "spark-3.0.0-bin-hadoop2.7/python/pyspark/tests/test_readwrite.py\n",
            "spark-3.0.0-bin-hadoop2.7/python/pyspark/tests/test_conf.py\n",
            "spark-3.0.0-bin-hadoop2.7/python/pyspark/tests/test_daemon.py\n",
            "spark-3.0.0-bin-hadoop2.7/python/pyspark/testing/\n",
            "spark-3.0.0-bin-hadoop2.7/python/pyspark/testing/mlutils.py\n",
            "spark-3.0.0-bin-hadoop2.7/python/pyspark/testing/__init__.py\n",
            "spark-3.0.0-bin-hadoop2.7/python/pyspark/testing/mllibutils.py\n",
            "spark-3.0.0-bin-hadoop2.7/python/pyspark/testing/utils.py\n",
            "spark-3.0.0-bin-hadoop2.7/python/pyspark/testing/sqlutils.py\n",
            "spark-3.0.0-bin-hadoop2.7/python/pyspark/testing/streamingutils.py\n",
            "spark-3.0.0-bin-hadoop2.7/python/pyspark/accumulators.py\n",
            "spark-3.0.0-bin-hadoop2.7/python/pyspark/rddsampler.py\n",
            "spark-3.0.0-bin-hadoop2.7/python/pyspark/ml/\n",
            "spark-3.0.0-bin-hadoop2.7/python/pyspark/ml/tests/\n",
            "spark-3.0.0-bin-hadoop2.7/python/pyspark/ml/tests/test_algorithms.py\n",
            "spark-3.0.0-bin-hadoop2.7/python/pyspark/ml/tests/test_evaluation.py\n",
            "spark-3.0.0-bin-hadoop2.7/python/pyspark/ml/tests/test_feature.py\n",
            "spark-3.0.0-bin-hadoop2.7/python/pyspark/ml/tests/test_pipeline.py\n",
            "spark-3.0.0-bin-hadoop2.7/python/pyspark/ml/tests/test_wrapper.py\n",
            "spark-3.0.0-bin-hadoop2.7/python/pyspark/ml/tests/__init__.py\n",
            "spark-3.0.0-bin-hadoop2.7/python/pyspark/ml/tests/test_tuning.py\n",
            "spark-3.0.0-bin-hadoop2.7/python/pyspark/ml/tests/test_persistence.py\n",
            "spark-3.0.0-bin-hadoop2.7/python/pyspark/ml/tests/test_param.py\n",
            "spark-3.0.0-bin-hadoop2.7/python/pyspark/ml/tests/test_training_summary.py\n",
            "spark-3.0.0-bin-hadoop2.7/python/pyspark/ml/tests/test_linalg.py\n",
            "spark-3.0.0-bin-hadoop2.7/python/pyspark/ml/tests/test_image.py\n",
            "spark-3.0.0-bin-hadoop2.7/python/pyspark/ml/tests/test_stat.py\n",
            "spark-3.0.0-bin-hadoop2.7/python/pyspark/ml/tests/test_base.py\n",
            "spark-3.0.0-bin-hadoop2.7/python/pyspark/ml/functions.py\n",
            "spark-3.0.0-bin-hadoop2.7/python/pyspark/ml/tuning.py\n",
            "spark-3.0.0-bin-hadoop2.7/python/pyspark/ml/pipeline.py\n",
            "spark-3.0.0-bin-hadoop2.7/python/pyspark/ml/base.py\n",
            "spark-3.0.0-bin-hadoop2.7/python/pyspark/ml/feature.py\n",
            "spark-3.0.0-bin-hadoop2.7/python/pyspark/ml/__init__.py\n",
            "spark-3.0.0-bin-hadoop2.7/python/pyspark/ml/stat.py\n",
            "spark-3.0.0-bin-hadoop2.7/python/pyspark/ml/image.py\n",
            "spark-3.0.0-bin-hadoop2.7/python/pyspark/ml/classification.py\n",
            "spark-3.0.0-bin-hadoop2.7/python/pyspark/ml/recommendation.py\n",
            "spark-3.0.0-bin-hadoop2.7/python/pyspark/ml/regression.py\n",
            "spark-3.0.0-bin-hadoop2.7/python/pyspark/ml/param/\n",
            "spark-3.0.0-bin-hadoop2.7/python/pyspark/ml/param/_shared_params_code_gen.py\n",
            "spark-3.0.0-bin-hadoop2.7/python/pyspark/ml/param/__init__.py\n",
            "spark-3.0.0-bin-hadoop2.7/python/pyspark/ml/param/shared.py\n",
            "spark-3.0.0-bin-hadoop2.7/python/pyspark/ml/tree.py\n",
            "spark-3.0.0-bin-hadoop2.7/python/pyspark/ml/fpm.py\n",
            "spark-3.0.0-bin-hadoop2.7/python/pyspark/ml/wrapper.py\n",
            "spark-3.0.0-bin-hadoop2.7/python/pyspark/ml/clustering.py\n",
            "spark-3.0.0-bin-hadoop2.7/python/pyspark/ml/common.py\n",
            "spark-3.0.0-bin-hadoop2.7/python/pyspark/ml/linalg/\n",
            "spark-3.0.0-bin-hadoop2.7/python/pyspark/ml/linalg/__init__.py\n",
            "spark-3.0.0-bin-hadoop2.7/python/pyspark/ml/evaluation.py\n",
            "spark-3.0.0-bin-hadoop2.7/python/pyspark/ml/util.py\n",
            "spark-3.0.0-bin-hadoop2.7/python/pyspark/find_spark_home.py\n",
            "spark-3.0.0-bin-hadoop2.7/python/pyspark/heapq3.py\n",
            "spark-3.0.0-bin-hadoop2.7/python/pyspark/serializers.py\n",
            "spark-3.0.0-bin-hadoop2.7/python/pyspark/java_gateway.py\n",
            "spark-3.0.0-bin-hadoop2.7/python/pyspark/traceback_utils.py\n",
            "spark-3.0.0-bin-hadoop2.7/python/pyspark/conf.py\n",
            "spark-3.0.0-bin-hadoop2.7/python/pyspark/__init__.py\n",
            "spark-3.0.0-bin-hadoop2.7/python/pyspark/mllib/\n",
            "spark-3.0.0-bin-hadoop2.7/python/pyspark/mllib/tests/\n",
            "spark-3.0.0-bin-hadoop2.7/python/pyspark/mllib/tests/test_algorithms.py\n",
            "spark-3.0.0-bin-hadoop2.7/python/pyspark/mllib/tests/test_streaming_algorithms.py\n",
            "spark-3.0.0-bin-hadoop2.7/python/pyspark/mllib/tests/test_util.py\n",
            "spark-3.0.0-bin-hadoop2.7/python/pyspark/mllib/tests/test_feature.py\n",
            "spark-3.0.0-bin-hadoop2.7/python/pyspark/mllib/tests/__init__.py\n",
            "spark-3.0.0-bin-hadoop2.7/python/pyspark/mllib/tests/test_linalg.py\n",
            "spark-3.0.0-bin-hadoop2.7/python/pyspark/mllib/tests/test_stat.py\n",
            "spark-3.0.0-bin-hadoop2.7/python/pyspark/mllib/feature.py\n",
            "spark-3.0.0-bin-hadoop2.7/python/pyspark/mllib/__init__.py\n",
            "spark-3.0.0-bin-hadoop2.7/python/pyspark/mllib/classification.py\n",
            "spark-3.0.0-bin-hadoop2.7/python/pyspark/mllib/recommendation.py\n",
            "spark-3.0.0-bin-hadoop2.7/python/pyspark/mllib/regression.py\n",
            "spark-3.0.0-bin-hadoop2.7/python/pyspark/mllib/tree.py\n",
            "spark-3.0.0-bin-hadoop2.7/python/pyspark/mllib/fpm.py\n",
            "spark-3.0.0-bin-hadoop2.7/python/pyspark/mllib/random.py\n",
            "spark-3.0.0-bin-hadoop2.7/python/pyspark/mllib/stat/\n",
            "spark-3.0.0-bin-hadoop2.7/python/pyspark/mllib/stat/distribution.py\n",
            "spark-3.0.0-bin-hadoop2.7/python/pyspark/mllib/stat/__init__.py\n",
            "spark-3.0.0-bin-hadoop2.7/python/pyspark/mllib/stat/KernelDensity.py\n",
            "spark-3.0.0-bin-hadoop2.7/python/pyspark/mllib/stat/test.py\n",
            "spark-3.0.0-bin-hadoop2.7/python/pyspark/mllib/stat/_statistics.py\n",
            "spark-3.0.0-bin-hadoop2.7/python/pyspark/mllib/clustering.py\n",
            "spark-3.0.0-bin-hadoop2.7/python/pyspark/mllib/common.py\n",
            "spark-3.0.0-bin-hadoop2.7/python/pyspark/mllib/linalg/\n",
            "spark-3.0.0-bin-hadoop2.7/python/pyspark/mllib/linalg/__init__.py\n",
            "spark-3.0.0-bin-hadoop2.7/python/pyspark/mllib/linalg/distributed.py\n",
            "spark-3.0.0-bin-hadoop2.7/python/pyspark/mllib/evaluation.py\n",
            "spark-3.0.0-bin-hadoop2.7/python/pyspark/mllib/util.py\n",
            "spark-3.0.0-bin-hadoop2.7/python/pyspark/resultiterable.py\n",
            "spark-3.0.0-bin-hadoop2.7/python/pyspark/profiler.py\n",
            "spark-3.0.0-bin-hadoop2.7/python/pyspark/statcounter.py\n",
            "spark-3.0.0-bin-hadoop2.7/python/pyspark/join.py\n",
            "spark-3.0.0-bin-hadoop2.7/python/pyspark/daemon.py\n",
            "spark-3.0.0-bin-hadoop2.7/python/pyspark/rdd.py\n",
            "spark-3.0.0-bin-hadoop2.7/python/pyspark/context.py\n",
            "spark-3.0.0-bin-hadoop2.7/python/pyspark/cloudpickle.py\n",
            "spark-3.0.0-bin-hadoop2.7/python/pyspark/version.py\n",
            "spark-3.0.0-bin-hadoop2.7/python/pyspark/resource.py\n",
            "spark-3.0.0-bin-hadoop2.7/python/pyspark/files.py\n",
            "spark-3.0.0-bin-hadoop2.7/python/pyspark/worker.py\n",
            "spark-3.0.0-bin-hadoop2.7/python/pyspark/shell.py\n",
            "spark-3.0.0-bin-hadoop2.7/python/pyspark/streaming/\n",
            "spark-3.0.0-bin-hadoop2.7/python/pyspark/streaming/tests/\n",
            "spark-3.0.0-bin-hadoop2.7/python/pyspark/streaming/tests/test_listener.py\n",
            "spark-3.0.0-bin-hadoop2.7/python/pyspark/streaming/tests/test_kinesis.py\n",
            "spark-3.0.0-bin-hadoop2.7/python/pyspark/streaming/tests/__init__.py\n",
            "spark-3.0.0-bin-hadoop2.7/python/pyspark/streaming/tests/test_dstream.py\n",
            "spark-3.0.0-bin-hadoop2.7/python/pyspark/streaming/tests/test_context.py\n",
            "spark-3.0.0-bin-hadoop2.7/python/pyspark/streaming/dstream.py\n",
            "spark-3.0.0-bin-hadoop2.7/python/pyspark/streaming/__init__.py\n",
            "spark-3.0.0-bin-hadoop2.7/python/pyspark/streaming/kinesis.py\n",
            "spark-3.0.0-bin-hadoop2.7/python/pyspark/streaming/listener.py\n",
            "spark-3.0.0-bin-hadoop2.7/python/pyspark/streaming/context.py\n",
            "spark-3.0.0-bin-hadoop2.7/python/pyspark/streaming/util.py\n",
            "spark-3.0.0-bin-hadoop2.7/python/pyspark/status.py\n",
            "spark-3.0.0-bin-hadoop2.7/python/pyspark/sql/\n",
            "spark-3.0.0-bin-hadoop2.7/python/pyspark/sql/tests/\n",
            "spark-3.0.0-bin-hadoop2.7/python/pyspark/sql/tests/test_functions.py\n",
            "spark-3.0.0-bin-hadoop2.7/python/pyspark/sql/tests/test_readwriter.py\n",
            "spark-3.0.0-bin-hadoop2.7/python/pyspark/sql/tests/test_utils.py\n",
            "spark-3.0.0-bin-hadoop2.7/python/pyspark/sql/tests/test_pandas_grouped_map.py\n",
            "spark-3.0.0-bin-hadoop2.7/python/pyspark/sql/tests/test_dataframe.py\n",
            "spark-3.0.0-bin-hadoop2.7/python/pyspark/sql/tests/test_pandas_map.py\n",
            "spark-3.0.0-bin-hadoop2.7/python/pyspark/sql/tests/test_udf.py\n",
            "spark-3.0.0-bin-hadoop2.7/python/pyspark/sql/tests/test_streaming.py\n",
            "spark-3.0.0-bin-hadoop2.7/python/pyspark/sql/tests/__init__.py\n",
            "spark-3.0.0-bin-hadoop2.7/python/pyspark/sql/tests/test_serde.py\n",
            "spark-3.0.0-bin-hadoop2.7/python/pyspark/sql/tests/test_pandas_udf_window.py\n",
            "spark-3.0.0-bin-hadoop2.7/python/pyspark/sql/tests/test_group.py\n",
            "spark-3.0.0-bin-hadoop2.7/python/pyspark/sql/tests/test_pandas_udf.py\n",
            "spark-3.0.0-bin-hadoop2.7/python/pyspark/sql/tests/test_pandas_cogrouped_map.py\n",
            "spark-3.0.0-bin-hadoop2.7/python/pyspark/sql/tests/test_pandas_udf_grouped_agg.py\n",
            "spark-3.0.0-bin-hadoop2.7/python/pyspark/sql/tests/test_pandas_udf_scalar.py\n",
            "spark-3.0.0-bin-hadoop2.7/python/pyspark/sql/tests/test_catalog.py\n",
            "spark-3.0.0-bin-hadoop2.7/python/pyspark/sql/tests/test_datasources.py\n",
            "spark-3.0.0-bin-hadoop2.7/python/pyspark/sql/tests/test_pandas_udf_typehints.py\n",
            "spark-3.0.0-bin-hadoop2.7/python/pyspark/sql/tests/test_types.py\n",
            "spark-3.0.0-bin-hadoop2.7/python/pyspark/sql/tests/test_column.py\n",
            "spark-3.0.0-bin-hadoop2.7/python/pyspark/sql/tests/test_context.py\n",
            "spark-3.0.0-bin-hadoop2.7/python/pyspark/sql/tests/test_conf.py\n",
            "spark-3.0.0-bin-hadoop2.7/python/pyspark/sql/tests/test_arrow.py\n",
            "spark-3.0.0-bin-hadoop2.7/python/pyspark/sql/tests/test_session.py\n",
            "spark-3.0.0-bin-hadoop2.7/python/pyspark/sql/pandas/\n",
            "spark-3.0.0-bin-hadoop2.7/python/pyspark/sql/pandas/functions.py\n",
            "spark-3.0.0-bin-hadoop2.7/python/pyspark/sql/pandas/serializers.py\n",
            "spark-3.0.0-bin-hadoop2.7/python/pyspark/sql/pandas/__init__.py\n",
            "spark-3.0.0-bin-hadoop2.7/python/pyspark/sql/pandas/typehints.py\n",
            "spark-3.0.0-bin-hadoop2.7/python/pyspark/sql/pandas/map_ops.py\n",
            "spark-3.0.0-bin-hadoop2.7/python/pyspark/sql/pandas/types.py\n",
            "spark-3.0.0-bin-hadoop2.7/python/pyspark/sql/pandas/group_ops.py\n",
            "spark-3.0.0-bin-hadoop2.7/python/pyspark/sql/pandas/utils.py\n",
            "spark-3.0.0-bin-hadoop2.7/python/pyspark/sql/pandas/conversion.py\n",
            "spark-3.0.0-bin-hadoop2.7/python/pyspark/sql/functions.py\n",
            "spark-3.0.0-bin-hadoop2.7/python/pyspark/sql/readwriter.py\n",
            "spark-3.0.0-bin-hadoop2.7/python/pyspark/sql/catalog.py\n",
            "spark-3.0.0-bin-hadoop2.7/python/pyspark/sql/window.py\n",
            "spark-3.0.0-bin-hadoop2.7/python/pyspark/sql/udf.py\n",
            "spark-3.0.0-bin-hadoop2.7/python/pyspark/sql/conf.py\n",
            "spark-3.0.0-bin-hadoop2.7/python/pyspark/sql/__init__.py\n",
            "spark-3.0.0-bin-hadoop2.7/python/pyspark/sql/session.py\n",
            "spark-3.0.0-bin-hadoop2.7/python/pyspark/sql/column.py\n",
            "spark-3.0.0-bin-hadoop2.7/python/pyspark/sql/group.py\n",
            "spark-3.0.0-bin-hadoop2.7/python/pyspark/sql/context.py\n",
            "spark-3.0.0-bin-hadoop2.7/python/pyspark/sql/types.py\n",
            "spark-3.0.0-bin-hadoop2.7/python/pyspark/sql/dataframe.py\n",
            "spark-3.0.0-bin-hadoop2.7/python/pyspark/sql/avro/\n",
            "spark-3.0.0-bin-hadoop2.7/python/pyspark/sql/avro/functions.py\n",
            "spark-3.0.0-bin-hadoop2.7/python/pyspark/sql/avro/__init__.py\n",
            "spark-3.0.0-bin-hadoop2.7/python/pyspark/sql/utils.py\n",
            "spark-3.0.0-bin-hadoop2.7/python/pyspark/sql/streaming.py\n",
            "spark-3.0.0-bin-hadoop2.7/python/pyspark/python/\n",
            "spark-3.0.0-bin-hadoop2.7/python/pyspark/python/pyspark/\n",
            "spark-3.0.0-bin-hadoop2.7/python/pyspark/python/pyspark/shell.py\n",
            "spark-3.0.0-bin-hadoop2.7/python/pyspark/shuffle.py\n",
            "spark-3.0.0-bin-hadoop2.7/python/pyspark/taskcontext.py\n",
            "spark-3.0.0-bin-hadoop2.7/python/pyspark/_globals.py\n",
            "spark-3.0.0-bin-hadoop2.7/python/pyspark/broadcast.py\n",
            "spark-3.0.0-bin-hadoop2.7/python/pyspark/util.py\n",
            "spark-3.0.0-bin-hadoop2.7/python/pyspark/storagelevel.py\n",
            "spark-3.0.0-bin-hadoop2.7/python/.coveragerc\n",
            "spark-3.0.0-bin-hadoop2.7/python/docs/\n",
            "spark-3.0.0-bin-hadoop2.7/python/docs/index.rst\n",
            "spark-3.0.0-bin-hadoop2.7/python/docs/conf.py\n",
            "spark-3.0.0-bin-hadoop2.7/python/docs/pyspark.ml.rst\n",
            "spark-3.0.0-bin-hadoop2.7/python/docs/pyspark.rst\n",
            "spark-3.0.0-bin-hadoop2.7/python/docs/_templates/\n",
            "spark-3.0.0-bin-hadoop2.7/python/docs/_templates/layout.html\n",
            "spark-3.0.0-bin-hadoop2.7/python/docs/_static/\n",
            "spark-3.0.0-bin-hadoop2.7/python/docs/_static/pyspark.css\n",
            "spark-3.0.0-bin-hadoop2.7/python/docs/_static/copybutton.js\n",
            "spark-3.0.0-bin-hadoop2.7/python/docs/_static/pyspark.js\n",
            "spark-3.0.0-bin-hadoop2.7/python/docs/pyspark.mllib.rst\n",
            "spark-3.0.0-bin-hadoop2.7/python/docs/make2.bat\n",
            "spark-3.0.0-bin-hadoop2.7/python/docs/pyspark.streaming.rst\n",
            "spark-3.0.0-bin-hadoop2.7/python/docs/pyspark.sql.rst\n",
            "spark-3.0.0-bin-hadoop2.7/python/docs/make.bat\n",
            "spark-3.0.0-bin-hadoop2.7/python/docs/Makefile\n",
            "spark-3.0.0-bin-hadoop2.7/python/docs/pyspark.resource.rst\n",
            "spark-3.0.0-bin-hadoop2.7/python/lib/\n",
            "spark-3.0.0-bin-hadoop2.7/python/lib/PY4J_LICENSE.txt\n",
            "spark-3.0.0-bin-hadoop2.7/python/lib/py4j-0.10.9-src.zip\n",
            "spark-3.0.0-bin-hadoop2.7/python/lib/pyspark.zip\n",
            "spark-3.0.0-bin-hadoop2.7/python/run-tests\n",
            "spark-3.0.0-bin-hadoop2.7/python/setup.cfg\n",
            "spark-3.0.0-bin-hadoop2.7/python/dist/\n",
            "spark-3.0.0-bin-hadoop2.7/python/pyspark.egg-info/\n",
            "spark-3.0.0-bin-hadoop2.7/python/pyspark.egg-info/dependency_links.txt\n",
            "spark-3.0.0-bin-hadoop2.7/python/pyspark.egg-info/PKG-INFO\n",
            "spark-3.0.0-bin-hadoop2.7/python/pyspark.egg-info/top_level.txt\n",
            "spark-3.0.0-bin-hadoop2.7/python/pyspark.egg-info/requires.txt\n",
            "spark-3.0.0-bin-hadoop2.7/python/pyspark.egg-info/SOURCES.txt\n",
            "spark-3.0.0-bin-hadoop2.7/licenses/\n",
            "spark-3.0.0-bin-hadoop2.7/licenses/LICENSE-respond.txt\n",
            "spark-3.0.0-bin-hadoop2.7/licenses/LICENSE-sbt-launch-lib.txt\n",
            "spark-3.0.0-bin-hadoop2.7/licenses/LICENSE-antlr.txt\n",
            "spark-3.0.0-bin-hadoop2.7/licenses/LICENSE-dagre-d3.txt\n",
            "spark-3.0.0-bin-hadoop2.7/licenses/LICENSE-pyrolite.txt\n",
            "spark-3.0.0-bin-hadoop2.7/licenses/LICENSE-sorttable.js.txt\n",
            "spark-3.0.0-bin-hadoop2.7/licenses/LICENSE-janino.txt\n",
            "spark-3.0.0-bin-hadoop2.7/licenses/LICENSE-protobuf.txt\n",
            "spark-3.0.0-bin-hadoop2.7/licenses/LICENSE-jquery.txt\n",
            "spark-3.0.0-bin-hadoop2.7/licenses/LICENSE-scopt.txt\n",
            "spark-3.0.0-bin-hadoop2.7/licenses/LICENSE-netlib.txt\n",
            "spark-3.0.0-bin-hadoop2.7/licenses/LICENSE-d3.min.js.txt\n",
            "spark-3.0.0-bin-hadoop2.7/licenses/LICENSE-graphlib-dot.txt\n",
            "spark-3.0.0-bin-hadoop2.7/licenses/LICENSE-AnchorJS.txt\n",
            "spark-3.0.0-bin-hadoop2.7/licenses/LICENSE-datatables.txt\n",
            "spark-3.0.0-bin-hadoop2.7/licenses/LICENSE-pmml-model.txt\n",
            "spark-3.0.0-bin-hadoop2.7/licenses/LICENSE-paranamer.txt\n",
            "spark-3.0.0-bin-hadoop2.7/licenses/LICENSE-jakarta-ws-rs-api\n",
            "spark-3.0.0-bin-hadoop2.7/licenses/LICENSE-dnsjava.txt\n",
            "spark-3.0.0-bin-hadoop2.7/licenses/LICENSE-jakarta.xml.bind-api.txt\n",
            "spark-3.0.0-bin-hadoop2.7/licenses/LICENSE-jakarta-annotation-api\n",
            "spark-3.0.0-bin-hadoop2.7/licenses/LICENSE-CC0.txt\n",
            "spark-3.0.0-bin-hadoop2.7/licenses/LICENSE-jodd.txt\n",
            "spark-3.0.0-bin-hadoop2.7/licenses/LICENSE-f2j.txt\n",
            "spark-3.0.0-bin-hadoop2.7/licenses/LICENSE-heapq.txt\n",
            "spark-3.0.0-bin-hadoop2.7/licenses/LICENSE-machinist.txt\n",
            "spark-3.0.0-bin-hadoop2.7/licenses/LICENSE-javolution.txt\n",
            "spark-3.0.0-bin-hadoop2.7/licenses/LICENSE-modernizr.txt\n",
            "spark-3.0.0-bin-hadoop2.7/licenses/LICENSE-spire.txt\n",
            "spark-3.0.0-bin-hadoop2.7/licenses/LICENSE-leveldbjni.txt\n",
            "spark-3.0.0-bin-hadoop2.7/licenses/LICENSE-join.txt\n",
            "spark-3.0.0-bin-hadoop2.7/licenses/LICENSE-zstd-jni.txt\n",
            "spark-3.0.0-bin-hadoop2.7/licenses/LICENSE-slf4j.txt\n",
            "spark-3.0.0-bin-hadoop2.7/licenses/LICENSE-arpack.txt\n",
            "spark-3.0.0-bin-hadoop2.7/licenses/LICENSE-jsp-api.txt\n",
            "spark-3.0.0-bin-hadoop2.7/licenses/LICENSE-JTransforms.txt\n",
            "spark-3.0.0-bin-hadoop2.7/licenses/LICENSE-JLargeArrays.txt\n",
            "spark-3.0.0-bin-hadoop2.7/licenses/LICENSE-bootstrap.txt\n",
            "spark-3.0.0-bin-hadoop2.7/licenses/LICENSE-reflectasm.txt\n",
            "spark-3.0.0-bin-hadoop2.7/licenses/LICENSE-javassist.html\n",
            "spark-3.0.0-bin-hadoop2.7/licenses/LICENSE-zstd.txt\n",
            "spark-3.0.0-bin-hadoop2.7/licenses/LICENSE-json-formatter.txt\n",
            "spark-3.0.0-bin-hadoop2.7/licenses/LICENSE-matchMedia-polyfill.txt\n",
            "spark-3.0.0-bin-hadoop2.7/licenses/LICENSE-scala.txt\n",
            "spark-3.0.0-bin-hadoop2.7/licenses/LICENSE-jakarta.activation-api.txt\n",
            "spark-3.0.0-bin-hadoop2.7/licenses/LICENSE-automaton.txt\n",
            "spark-3.0.0-bin-hadoop2.7/licenses/LICENSE-javax-transaction-transaction-api.txt\n",
            "spark-3.0.0-bin-hadoop2.7/licenses/LICENSE-jaxb-runtime.txt\n",
            "spark-3.0.0-bin-hadoop2.7/licenses/LICENSE-minlog.txt\n",
            "spark-3.0.0-bin-hadoop2.7/licenses/LICENSE-mustache.txt\n",
            "spark-3.0.0-bin-hadoop2.7/licenses/LICENSE-xmlenc.txt\n",
            "spark-3.0.0-bin-hadoop2.7/licenses/LICENSE-jline.txt\n",
            "spark-3.0.0-bin-hadoop2.7/licenses/LICENSE-istack-commons-runtime.txt\n",
            "spark-3.0.0-bin-hadoop2.7/licenses/LICENSE-py4j.txt\n",
            "spark-3.0.0-bin-hadoop2.7/licenses/LICENSE-vis-timeline.txt\n",
            "spark-3.0.0-bin-hadoop2.7/licenses/LICENSE-re2j.txt\n",
            "spark-3.0.0-bin-hadoop2.7/licenses/LICENSE-kryo.txt\n",
            "spark-3.0.0-bin-hadoop2.7/licenses/LICENSE-cloudpickle.txt\n",
            "Requirement already satisfied: findspark in /usr/local/lib/python3.10/dist-packages (2.0.1)\n"
          ]
        }
      ],
      "source": [
        "#install Apache Spark 3.0.1 with Hadoop 2.7 from here.\n",
        "!wget https://archive.apache.org/dist/spark/spark-3.0.0/spark-3.0.0-bin-hadoop2.7.tgz\n",
        "\n",
        "# Now, we just need to unzip that folder.\n",
        "!tar -xvzf spark-3.0.0-bin-hadoop2.7.tgz\n",
        "!pip install findspark\n",
        "\n",
        "\n",
        "import os\n",
        "os.environ[\"SPARK_HOME\"] = \"/content/spark-3.0.0-bin-hadoop2.7\"\n",
        "import findspark\n",
        "findspark.init()"
      ]
    },
    {
      "cell_type": "markdown",
      "source": [
        "# New Section"
      ],
      "metadata": {
        "id": "9QWPicBFYVZz"
      }
    },
    {
      "cell_type": "markdown",
      "source": [
        "Customers Sqlite Reading in datafram"
      ],
      "metadata": {
        "id": "I9vKgM1HSihc"
      }
    },
    {
      "cell_type": "code",
      "source": [
        "import sqlite3\n",
        "\n",
        "# Replace 'your_database.db' with the actual name of your SQLite database file\n",
        "db_path = '/Customers'\n",
        "\n",
        "# Connect to SQLite database\n",
        "conn = sqlite3.connect(db_path)\n",
        "\n",
        "# Create a cursor to execute SQL commands\n",
        "cursor = conn.cursor()\n",
        "\n",
        "# Example: Execute a query\n",
        "cursor.execute(\"SELECT * FROM customers\")\n",
        "rows = cursor.fetchall()\n",
        "\n",
        "# Display the results\n",
        "for row in rows:\n",
        "    print(row)\n",
        "\n",
        "# Close the cursor and connection\n"
      ],
      "metadata": {
        "colab": {
          "base_uri": "https://localhost:8080/"
        },
        "id": "d5cC0mmcSdoM",
        "outputId": "f21ede46-cb85-438a-c0ea-b86ba39c9199"
      },
      "execution_count": null,
      "outputs": [
        {
          "output_type": "stream",
          "name": "stdout",
          "text": [
            "(1, 'John', 'Doe', '1980-05-15')\n",
            "(2, 'Jane', 'Smith', '1992-08-21')\n",
            "(3, 'Alice', 'Johnson', '1975-02-10')\n",
            "(4, 'Sarah', 'Jones', '1988-12-03')\n",
            "(5, 'David', 'Brown', '1995-04-18')\n",
            "(6, 'Emma', 'Miller', '1982-07-25')\n"
          ]
        }
      ]
    },
    {
      "cell_type": "code",
      "source": [
        "import pandas as pd\n",
        "\n",
        "# Example: Read a table into a DataFrame\n",
        "df = pd.read_sql_query(\"SELECT * FROM customers\", conn)\n",
        "\n",
        "# Display the DataFrame\n",
        "# print(df)\n",
        "\n",
        "spark_df = spark.createDataFrame(df)\n",
        "\n",
        "spark_df.show()\n"
      ],
      "metadata": {
        "colab": {
          "base_uri": "https://localhost:8080/"
        },
        "id": "nVIL66P2TG6Q",
        "outputId": "795b07bf-aca8-4989-aab4-24cbc400ebe8"
      },
      "execution_count": 217,
      "outputs": [
        {
          "output_type": "stream",
          "name": "stderr",
          "text": [
            "/content/spark-3.0.0-bin-hadoop2.7/python/pyspark/sql/pandas/conversion.py:327: FutureWarning: iteritems is deprecated and will be removed in a future version. Use .items instead.\n",
            "  for column, series in pdf.iteritems():\n"
          ]
        },
        {
          "output_type": "stream",
          "name": "stdout",
          "text": [
            "+-----------+----------+---------+-------------+\n",
            "|customer_id|first_name|last_name|date_of_birth|\n",
            "+-----------+----------+---------+-------------+\n",
            "|          1|      John|      Doe|   1980-05-15|\n",
            "|          2|      Jane|    Smith|   1992-08-21|\n",
            "|          3|     Alice|  Johnson|   1975-02-10|\n",
            "|          4|     Sarah|    Jones|   1988-12-03|\n",
            "|          5|     David|    Brown|   1995-04-18|\n",
            "|          6|      Emma|   Miller|   1982-07-25|\n",
            "+-----------+----------+---------+-------------+\n",
            "\n"
          ]
        }
      ]
    },
    {
      "cell_type": "markdown",
      "source": [
        "**Write a spark dataframe to show the balance amount for an account_id = 1:**\n"
      ],
      "metadata": {
        "id": "CLRE2UG7Spq1"
      }
    },
    {
      "cell_type": "code",
      "source": [
        "import json\n",
        "import findspark\n",
        "findspark.init()\n",
        "from pyspark.sql import SparkSession\n",
        "\n",
        "json_file_path = '/content/accounts.json'\n",
        "\n",
        "# Parse JSON data from file to Python dictionary\n",
        "with open(json_file_path, 'r') as file:\n",
        "    parsed_data = json.load(file)\n",
        "\n",
        "lst = []\n",
        "for i in parsed_data['accounts']:\n",
        "    lst.append(i)\n",
        "\n",
        "# print(lst)\n",
        "\n",
        "spark = SparkSession.builder.appName(\"accounts\").getOrCreate()\n",
        "accounts_df = spark.createDataFrame(lst)\n",
        "\n",
        "\n",
        "accounts_df.select(\"balance\").filter(col(\"account_id\")==1).show()\n"
      ],
      "metadata": {
        "id": "5rajvyQ7TQQm",
        "colab": {
          "base_uri": "https://localhost:8080/"
        },
        "outputId": "39dde706-8d79-4ba4-ac1b-b2897c6182c2"
      },
      "execution_count": null,
      "outputs": [
        {
          "output_type": "stream",
          "name": "stderr",
          "text": [
            "/content/spark-3.0.0-bin-hadoop2.7/python/pyspark/sql/session.py:378: UserWarning: inferring schema from dict is deprecated,please use pyspark.sql.Row instead\n",
            "  warnings.warn(\"inferring schema from dict is deprecated,\"\n"
          ]
        },
        {
          "output_type": "stream",
          "name": "stdout",
          "text": [
            "+-------+\n",
            "|balance|\n",
            "+-------+\n",
            "|   5000|\n",
            "+-------+\n",
            "\n"
          ]
        }
      ]
    },
    {
      "cell_type": "markdown",
      "source": [
        "**`Reading transactions in dataframe`**"
      ],
      "metadata": {
        "id": "ALSrEuUDSySw"
      }
    },
    {
      "cell_type": "code",
      "source": [
        "df_transactions = spark.read.csv(\"/content/transactions.csv\",inferSchema=True,header=True)\n",
        "df_transactions.show()"
      ],
      "metadata": {
        "id": "DpRCFfnIfEHL",
        "colab": {
          "base_uri": "https://localhost:8080/"
        },
        "outputId": "7a21e3de-c425-4da1-96e4-d2fac25a98e0"
      },
      "execution_count": 220,
      "outputs": [
        {
          "output_type": "stream",
          "name": "stdout",
          "text": [
            "+--------------+----------+----------------+------+-------------------+\n",
            "|transaction_id|account_id|transaction_type|amount|   transaction_date|\n",
            "+--------------+----------+----------------+------+-------------------+\n",
            "|             1|         1|         Deposit|  1000|2023-01-15 08:30:00|\n",
            "|             2|         1|      Withdrawal|   500|2023-02-02 12:45:00|\n",
            "|             3|         2|         Deposit|  2000|2023-03-10 15:20:00|\n",
            "|             4|         3|      Withdrawal|  1000|2023-04-05 10:10:00|\n",
            "|             5|         4|         Deposit|  1500|2023-05-20 09:00:00|\n",
            "|             6|         5|         Deposit|  2000|2023-06-12 11:30:00|\n",
            "|             7|         3|      Withdrawal|   800|2023-07-08 14:15:00|\n",
            "|             8|         2|         Deposit|  3000|2023-08-22 16:45:00|\n",
            "|             9|         4|      Withdrawal|  1500|2023-09-14 09:30:00|\n",
            "|            10|         1|         Deposit|  1200|2023-10-01 10:00:00|\n",
            "+--------------+----------+----------------+------+-------------------+\n",
            "\n"
          ]
        }
      ]
    },
    {
      "cell_type": "markdown",
      "source": [
        "**List Transactions for an account_id = 1:**"
      ],
      "metadata": {
        "id": "Eqg-wzsES35J"
      }
    },
    {
      "cell_type": "code",
      "source": [
        "df.filter(col(\"account_id\")==1).show()"
      ],
      "metadata": {
        "colab": {
          "base_uri": "https://localhost:8080/"
        },
        "id": "QrwrF8_w5lA9",
        "outputId": "f54001bd-cde3-4019-edeb-ec843a658eaa"
      },
      "execution_count": null,
      "outputs": [
        {
          "output_type": "stream",
          "name": "stdout",
          "text": [
            "+--------------+----------+----------------+------+-------------------+\n",
            "|transaction_id|account_id|transaction_type|amount|   transaction_date|\n",
            "+--------------+----------+----------------+------+-------------------+\n",
            "|             1|         1|         Deposit|  1000|2023-01-15 08:30:00|\n",
            "|             2|         1|      Withdrawal|   500|2023-02-02 12:45:00|\n",
            "|            10|         1|         Deposit|  1200|2023-10-01 10:00:00|\n",
            "+--------------+----------+----------------+------+-------------------+\n",
            "\n"
          ]
        }
      ]
    },
    {
      "cell_type": "markdown",
      "source": [
        "List Accounts with a zero balance:\n"
      ],
      "metadata": {
        "id": "c4yDrmbpTKx7"
      }
    },
    {
      "cell_type": "code",
      "source": [
        "accounts_df.select(\"*\").filter(col(\"balance\")==0).show()\n"
      ],
      "metadata": {
        "colab": {
          "base_uri": "https://localhost:8080/"
        },
        "id": "bccr6Kux5l7V",
        "outputId": "2e0e203c-18ec-49c9-c84c-f6a7f60543cb"
      },
      "execution_count": null,
      "outputs": [
        {
          "output_type": "stream",
          "name": "stdout",
          "text": [
            "+----------+------------+-------+-----------+-----------+\n",
            "|account_id|account_type|balance|customer_id|employee_id|\n",
            "+----------+------------+-------+-----------+-----------+\n",
            "+----------+------------+-------+-----------+-----------+\n",
            "\n"
          ]
        }
      ]
    },
    {
      "cell_type": "markdown",
      "source": [
        "**Find the Oldest Customer:**"
      ],
      "metadata": {
        "id": "WpgDWDrrTRTB"
      }
    },
    {
      "cell_type": "code",
      "source": [
        "oldest_customer = spark_df.orderBy(col(\"date_of_birth\")).first()\n",
        "\n",
        "# Show the oldest customer\n",
        "print(\"\\nOldest Customer:\")\n",
        "print(oldest_customer)"
      ],
      "metadata": {
        "colab": {
          "base_uri": "https://localhost:8080/"
        },
        "id": "JHJ2HnUW899n",
        "outputId": "566817da-a71d-4803-f6f7-44594715d9d2"
      },
      "execution_count": null,
      "outputs": [
        {
          "output_type": "stream",
          "name": "stdout",
          "text": [
            "\n",
            "Oldest Customer:\n",
            "Row(customer_id=3, first_name='Alice', last_name='Johnson', date_of_birth='1975-02-10')\n"
          ]
        }
      ]
    },
    {
      "cell_type": "markdown",
      "source": [
        "Calculate the Total Interest Earned Across All Accounts:\n"
      ],
      "metadata": {
        "id": "0Z_mNiKoTVm3"
      }
    },
    {
      "cell_type": "code",
      "source": [
        "interest_rate = 0.00\n",
        "\n",
        "# Calculate interest for each account\n",
        "interest_df = accounts_df.withColumn(\"interest_earned\", col(\"balance\") * interest_rate)\n",
        "\n",
        "# Show the DataFrame with interest earned\n",
        "print(\"DataFrame with Interest Earned:\")\n",
        "interest_df.show()\n",
        "\n",
        "# Calculate the total interest earned across all accounts\n",
        "total_interest_earned = interest_df.select(\"interest_earned\").agg({\"interest_earned\": \"sum\"}).collect()[0][0]\n",
        "\n",
        "# Show the total interest earned\n",
        "print(\"\\nTotal Interest Earned Across All Accounts:\", total_interest_earned)"
      ],
      "metadata": {
        "colab": {
          "base_uri": "https://localhost:8080/"
        },
        "id": "GLAsYyzBRmeO",
        "outputId": "b5e51c95-7f74-4435-9561-d18d4e72a362"
      },
      "execution_count": null,
      "outputs": [
        {
          "output_type": "stream",
          "name": "stdout",
          "text": [
            "DataFrame with Interest Earned:\n",
            "+----------+------------+-------+-----------+-----------+---------------+\n",
            "|account_id|account_type|balance|customer_id|employee_id|interest_earned|\n",
            "+----------+------------+-------+-----------+-----------+---------------+\n",
            "|         1|     Savings|   5000|          1|          2|            0.0|\n",
            "|         2|    Checking|   1000|          1|          3|            0.0|\n",
            "|         3|     Savings|   8000|          2|          4|            0.0|\n",
            "|         4|    Checking|   3000|          3|          1|            0.0|\n",
            "|         5|    Checking|   2500|          2|          2|            0.0|\n",
            "|         6|     Savings|   6000|          3|          3|            0.0|\n",
            "|         7|    Checking|  12000|          4|          4|            0.0|\n",
            "|         8|     Savings|   3000|          5|          2|            0.0|\n",
            "+----------+------------+-------+-----------+-----------+---------------+\n",
            "\n",
            "\n",
            "Total Interest Earned Across All Accounts: 0.0\n"
          ]
        }
      ]
    },
    {
      "cell_type": "markdown",
      "source": [
        "**List All Accounts with Customer Information:**"
      ],
      "metadata": {
        "id": "_zKG_zn-TfxH"
      }
    },
    {
      "cell_type": "code",
      "source": [
        "\n",
        "\n",
        "all_accounts_info = accounts_df.join(spark_df,'customer_id')\n",
        "selected_columns = all_accounts_info.select(\"customer_id\", \"first_name\", \"last_name\", \"account_id\", \"account_type\", \"balance\").orderBy(\"account_id\")\n"
      ],
      "metadata": {
        "id": "oBJpT9PrUEOx"
      },
      "execution_count": null,
      "outputs": []
    },
    {
      "cell_type": "code",
      "source": [
        "selected_columns.show()"
      ],
      "metadata": {
        "colab": {
          "base_uri": "https://localhost:8080/"
        },
        "id": "nQId_-1kW8Xf",
        "outputId": "2375c898-ada4-441e-ae6d-69546db37829"
      },
      "execution_count": null,
      "outputs": [
        {
          "output_type": "stream",
          "name": "stdout",
          "text": [
            "+-----------+----------+---------+----------+------------+-------+\n",
            "|customer_id|first_name|last_name|account_id|account_type|balance|\n",
            "+-----------+----------+---------+----------+------------+-------+\n",
            "|          1|      John|      Doe|         1|     Savings|   5000|\n",
            "|          1|      John|      Doe|         2|    Checking|   1000|\n",
            "|          2|      Jane|    Smith|         3|     Savings|   8000|\n",
            "|          3|     Alice|  Johnson|         4|    Checking|   3000|\n",
            "|          2|      Jane|    Smith|         5|    Checking|   2500|\n",
            "|          3|     Alice|  Johnson|         6|     Savings|   6000|\n",
            "|          4|     Sarah|    Jones|         7|    Checking|  12000|\n",
            "|          5|     David|    Brown|         8|     Savings|   3000|\n",
            "+-----------+----------+---------+----------+------------+-------+\n",
            "\n"
          ]
        }
      ]
    },
    {
      "cell_type": "code",
      "source": [
        "all_accounts_info = accounts_df.join(spark_df,'customer_id')\n",
        "selected_columns = all_accounts_info.select(\"customer_id\", \"first_name\", \"last_name\", \"account_id\", \"account_type\", \"balance\").groupBy(\"account_id\")"
      ],
      "metadata": {
        "id": "m_2x8NXRYtFY"
      },
      "execution_count": null,
      "outputs": []
    },
    {
      "cell_type": "markdown",
      "source": [
        "Calculate Total Balance for Each Customer:\n"
      ],
      "metadata": {
        "id": "VtAoD7LBaur_"
      }
    },
    {
      "cell_type": "code",
      "source": [
        "from pyspark.sql.functions import sum, col\n",
        "\n",
        "# Calculate Total Balance for Each Customer\n",
        "\n",
        "# Ensure the \"balance\" column is cast to integer\n",
        "all_accounts_info = all_accounts_info.withColumn(\"balance\", col(\"balance\").cast(\"int\"))\n",
        "\n",
        "total_balance_per_customer = (\n",
        "    all_accounts_info\n",
        "    .groupBy(\"customer_id\", \"first_name\", \"last_name\")\n",
        "    .agg(sum(col(\"balance\")).alias(\"total_balance\"))\n",
        ")\n",
        "\n"
      ],
      "metadata": {
        "id": "T_0A0sdBaNRq"
      },
      "execution_count": null,
      "outputs": []
    },
    {
      "cell_type": "code",
      "source": [
        "total_balance_per_customer.show()"
      ],
      "metadata": {
        "colab": {
          "base_uri": "https://localhost:8080/"
        },
        "id": "9hr216jXanhO",
        "outputId": "08c10677-bf28-43fe-abca-b610f85d5061"
      },
      "execution_count": null,
      "outputs": [
        {
          "output_type": "stream",
          "name": "stdout",
          "text": [
            "+-----------+----------+---------+-------------+\n",
            "|customer_id|first_name|last_name|total_balance|\n",
            "+-----------+----------+---------+-------------+\n",
            "|          5|     David|    Brown|         3000|\n",
            "|          1|      John|      Doe|         6000|\n",
            "|          3|     Alice|  Johnson|         9000|\n",
            "|          2|      Jane|    Smith|        10500|\n",
            "|          4|     Sarah|    Jones|        12000|\n",
            "+-----------+----------+---------+-------------+\n",
            "\n"
          ]
        }
      ]
    },
    {
      "cell_type": "markdown",
      "source": [
        "**Find Customers with Multiple Accounts:**"
      ],
      "metadata": {
        "id": "bR0lX8JUT-En"
      }
    },
    {
      "cell_type": "code",
      "source": [
        "from pyspark.sql.functions import countDistinct, col\n",
        "\n",
        "# Ensure the \"balance\" column is cast to integer\n",
        "all_accounts_info = all_accounts_info.withColumn(\"balance\", col(\"balance\").cast(\"int\"))\n",
        "\n",
        "# Count the number of accounts for each customer\n",
        "customer_account_count = (\n",
        "    all_accounts_info\n",
        "    .groupBy(\"customer_id\",)\n",
        "    .agg(countDistinct(\"account_id\").alias(\"account_count\"))\n",
        ")\n"
      ],
      "metadata": {
        "id": "jBAeKhSmfySf"
      },
      "execution_count": null,
      "outputs": []
    },
    {
      "cell_type": "code",
      "source": [
        "accounts_df.show()"
      ],
      "metadata": {
        "colab": {
          "base_uri": "https://localhost:8080/"
        },
        "id": "q1JM__MTu0p2",
        "outputId": "de346fd9-2439-48d7-f0ac-c372fcc6c8a2"
      },
      "execution_count": null,
      "outputs": [
        {
          "output_type": "stream",
          "name": "stdout",
          "text": [
            "+----------+------------+-------+-----------+-----------+\n",
            "|account_id|account_type|balance|customer_id|employee_id|\n",
            "+----------+------------+-------+-----------+-----------+\n",
            "|         1|     Savings|   5000|          1|          2|\n",
            "|         2|    Checking|   1000|          1|          3|\n",
            "|         3|     Savings|   8000|          2|          4|\n",
            "|         4|    Checking|   3000|          3|          1|\n",
            "|         5|    Checking|   2500|          2|          2|\n",
            "|         6|     Savings|   6000|          3|          3|\n",
            "|         7|    Checking|  12000|          4|          4|\n",
            "|         8|     Savings|   3000|          5|          2|\n",
            "+----------+------------+-------+-----------+-----------+\n",
            "\n"
          ]
        }
      ]
    },
    {
      "cell_type": "code",
      "source": [
        "customer_account_count.show()"
      ],
      "metadata": {
        "colab": {
          "base_uri": "https://localhost:8080/"
        },
        "id": "AI6LYCypnkFo",
        "outputId": "e2381245-332c-4ba4-dc78-6e875379bd25"
      },
      "execution_count": null,
      "outputs": [
        {
          "output_type": "stream",
          "name": "stdout",
          "text": [
            "+-----------+-------------+\n",
            "|customer_id|account_count|\n",
            "+-----------+-------------+\n",
            "|          5|            1|\n",
            "|          1|            2|\n",
            "|          3|            2|\n",
            "|          2|            2|\n",
            "|          4|            1|\n",
            "+-----------+-------------+\n",
            "\n"
          ]
        }
      ]
    },
    {
      "cell_type": "code",
      "source": [
        "new_cus= spark_df.select(\"customer_id\",\"first_name\",\"last_name\").join(accounts_df.select(\"account_id\",\"customer_id\",\"account_type\",\"balance\"),on = \"customer_id\")\n",
        "new_cus.show()"
      ],
      "metadata": {
        "colab": {
          "base_uri": "https://localhost:8080/"
        },
        "id": "1-hERSQX8o91",
        "outputId": "333fd90d-225e-4f31-d47c-276afb270c64"
      },
      "execution_count": 224,
      "outputs": [
        {
          "output_type": "stream",
          "name": "stdout",
          "text": [
            "+-----------+----------+---------+----------+------------+-------+\n",
            "|customer_id|first_name|last_name|account_id|account_type|balance|\n",
            "+-----------+----------+---------+----------+------------+-------+\n",
            "|          5|     David|    Brown|         8|     Savings|   3000|\n",
            "|          1|      John|      Doe|         1|     Savings|   5000|\n",
            "|          1|      John|      Doe|         2|    Checking|   1000|\n",
            "|          3|     Alice|  Johnson|         4|    Checking|   3000|\n",
            "|          3|     Alice|  Johnson|         6|     Savings|   6000|\n",
            "|          2|      Jane|    Smith|         3|     Savings|   8000|\n",
            "|          2|      Jane|    Smith|         5|    Checking|   2500|\n",
            "|          4|     Sarah|    Jones|         7|    Checking|  12000|\n",
            "+-----------+----------+---------+----------+------------+-------+\n",
            "\n"
          ]
        }
      ]
    },
    {
      "cell_type": "markdown",
      "source": [
        "List Transction with account and customer Inforamation"
      ],
      "metadata": {
        "id": "K9COPqR0-JPP"
      }
    },
    {
      "cell_type": "code",
      "source": [
        "customer_transction = df_transactions.select(\"transaction_id\",\"transaction_type\",\"amount\",\"transaction_date\",\"account_id\").\\\n",
        "join(new_cus.select(\"customer_id\",\"first_name\",\"last_name\",\"account_id\",\"account_type\"), on = \"account_id\")\n",
        "customer_transction.show()"
      ],
      "metadata": {
        "id": "5ELc0OLUnntH",
        "colab": {
          "base_uri": "https://localhost:8080/"
        },
        "outputId": "ad2a20d8-b337-4a11-9364-0fd4b4b524e5"
      },
      "execution_count": 226,
      "outputs": [
        {
          "output_type": "stream",
          "name": "stdout",
          "text": [
            "+----------+--------------+----------------+------+-------------------+-----------+----------+---------+------------+\n",
            "|account_id|transaction_id|transaction_type|amount|   transaction_date|customer_id|first_name|last_name|account_type|\n",
            "+----------+--------------+----------------+------+-------------------+-----------+----------+---------+------------+\n",
            "|         1|            10|         Deposit|  1200|2023-10-01 10:00:00|          1|      John|      Doe|     Savings|\n",
            "|         1|             2|      Withdrawal|   500|2023-02-02 12:45:00|          1|      John|      Doe|     Savings|\n",
            "|         1|             1|         Deposit|  1000|2023-01-15 08:30:00|          1|      John|      Doe|     Savings|\n",
            "|         2|             8|         Deposit|  3000|2023-08-22 16:45:00|          1|      John|      Doe|    Checking|\n",
            "|         2|             3|         Deposit|  2000|2023-03-10 15:20:00|          1|      John|      Doe|    Checking|\n",
            "|         4|             9|      Withdrawal|  1500|2023-09-14 09:30:00|          3|     Alice|  Johnson|    Checking|\n",
            "|         4|             5|         Deposit|  1500|2023-05-20 09:00:00|          3|     Alice|  Johnson|    Checking|\n",
            "|         3|             7|      Withdrawal|   800|2023-07-08 14:15:00|          2|      Jane|    Smith|     Savings|\n",
            "|         3|             4|      Withdrawal|  1000|2023-04-05 10:10:00|          2|      Jane|    Smith|     Savings|\n",
            "|         5|             6|         Deposit|  2000|2023-06-12 11:30:00|          2|      Jane|    Smith|    Checking|\n",
            "+----------+--------------+----------------+------+-------------------+-----------+----------+---------+------------+\n",
            "\n"
          ]
        }
      ]
    },
    {
      "cell_type": "markdown",
      "source": [
        "**Calculate Average Transaction Amount:**"
      ],
      "metadata": {
        "id": "8pWYhkeyUM_A"
      }
    },
    {
      "cell_type": "code",
      "source": [
        "from pyspark.sql.functions import col, avg\n",
        "avg_tranasction = customer_transction.agg(avg(\"amount\").alias(\"Avg_transction_amount\"))\n",
        "avg_tranasction.show()"
      ],
      "metadata": {
        "colab": {
          "base_uri": "https://localhost:8080/"
        },
        "id": "Gg6weqUX8Aog",
        "outputId": "0e4ab04d-f3b7-45ed-fbed-6b24c562643e"
      },
      "execution_count": 231,
      "outputs": [
        {
          "output_type": "stream",
          "name": "stdout",
          "text": [
            "+---------------------+\n",
            "|Avg_transction_amount|\n",
            "+---------------------+\n",
            "|               1450.0|\n",
            "+---------------------+\n",
            "\n"
          ]
        }
      ]
    },
    {
      "cell_type": "markdown",
      "source": [
        "**Identify High-Value Customers with Total Balance:**"
      ],
      "metadata": {
        "id": "IQ_wbJQoUO2x"
      }
    },
    {
      "cell_type": "code",
      "source": [
        "high_value_cust = total_balance_per_customer.filter(col(\"total_balance\")>10000)\n",
        "high_value_cust.show()"
      ],
      "metadata": {
        "colab": {
          "base_uri": "https://localhost:8080/"
        },
        "id": "nFaak-li-oNr",
        "outputId": "3a91ee8e-0e69-46bd-907b-9b8b1897e757"
      },
      "execution_count": 232,
      "outputs": [
        {
          "output_type": "stream",
          "name": "stdout",
          "text": [
            "+-----------+----------+---------+-------------+\n",
            "|customer_id|first_name|last_name|total_balance|\n",
            "+-----------+----------+---------+-------------+\n",
            "|          2|      Jane|    Smith|        10500|\n",
            "|          4|     Sarah|    Jones|        12000|\n",
            "+-----------+----------+---------+-------------+\n",
            "\n"
          ]
        }
      ]
    },
    {
      "cell_type": "markdown",
      "source": [
        "**List Employees and Their Assigned Customers:**"
      ],
      "metadata": {
        "id": "DcyfUNwOUSIQ"
      }
    },
    {
      "cell_type": "code",
      "source": [
        "from pyspark.sql import SparkSession\n",
        "from lxml import etree\n",
        "\n",
        "\n",
        "# Define the path to the XML file\n",
        "xml_file_path = \"/content/employees.xml\"\n",
        "\n",
        "# Parse XML data using lxml\n",
        "xml_parser = etree.XMLParser(recover=True)\n",
        "tree = etree.parse(xml_file_path, parser=xml_parser)\n",
        "\n",
        "# Extract data from XML and create a list of dictionaries\n",
        "data = []\n",
        "for data_record in tree.xpath(\"//DATA_RECORD\"):\n",
        "    record_data = {}\n",
        "    for element in data_record.iterchildren():\n",
        "        record_data[element.tag] = element.text\n",
        "    data.append(record_data)\n",
        "\n",
        "# Create PySpark DataFrame from the list of dictionaries\n",
        "df_emp = spark.createDataFrame(data)\n",
        "\n",
        "# Show the DataFrame\n",
        "df_emp.show()\n",
        "\n",
        "\n",
        "\n"
      ],
      "metadata": {
        "colab": {
          "base_uri": "https://localhost:8080/"
        },
        "id": "48GJa3ETIrXr",
        "outputId": "72d74212-2033-47dd-81d9-2e7beb0f0273"
      },
      "execution_count": 250,
      "outputs": [
        {
          "output_type": "stream",
          "name": "stderr",
          "text": [
            "/content/spark-3.0.0-bin-hadoop2.7/python/pyspark/sql/session.py:378: UserWarning: inferring schema from dict is deprecated,please use pyspark.sql.Row instead\n",
            "  warnings.warn(\"inferring schema from dict is deprecated,\"\n"
          ]
        },
        {
          "output_type": "stream",
          "name": "stdout",
          "text": [
            "+---------+-----------+----------+---------+--------+\n",
            "|branch_id|employee_id|first_name|last_name|position|\n",
            "+---------+-----------+----------+---------+--------+\n",
            "|        2|          1|      Mike|  Johnson| Manager|\n",
            "|        3|          2|     Emily| Williams|  Teller|\n",
            "|        2|          3|    Robert|    Davis|  Teller|\n",
            "|        3|          4|    Olivia|   Wilson|  Teller|\n",
            "|        2|          5|    Daniel|  Johnson| Analyst|\n",
            "|        3|          6|    Sophia|    Clark| Manager|\n",
            "|        2|          7|      Mike|  Johnson| Manager|\n",
            "|        3|          8|     Emily| Williams|  Teller|\n",
            "|        2|          9|    Robert|    Davis|  Teller|\n",
            "|        3|         10|    Olivia|   Wilson|  Teller|\n",
            "|        2|         11|    Daniel|  Johnson| Analyst|\n",
            "|        3|         12|    Sophia|    Clark| Manager|\n",
            "+---------+-----------+----------+---------+--------+\n",
            "\n"
          ]
        }
      ]
    },
    {
      "cell_type": "code",
      "source": [
        "assign_customer = df_emp.select(\"employee_id\",\"first_name\",\"last_name\",\"position\").\\\n",
        "join(accounts_df.select(\"customer_id\", \"employee_id\"),\"employee_id\",\"left\").\\\n",
        "join(spark_df.select(\"customer_id\",col(\"first_name\").alias(\"customer_first_name\"),col(\"last_name\").\\\n",
        "                     alias(\"customer_first_name\")),\"customer_id\",\"left\")\n",
        "\n",
        "assign_customer.show()"
      ],
      "metadata": {
        "colab": {
          "base_uri": "https://localhost:8080/"
        },
        "id": "S71DuT5xJI7z",
        "outputId": "c96b1d75-ff5d-48ad-9aa0-4e0285c07783"
      },
      "execution_count": 252,
      "outputs": [
        {
          "output_type": "stream",
          "name": "stdout",
          "text": [
            "+-----------+-----------+----------+---------+--------+-------------------+-------------------+\n",
            "|customer_id|employee_id|first_name|last_name|position|customer_first_name|customer_first_name|\n",
            "+-----------+-----------+----------+---------+--------+-------------------+-------------------+\n",
            "|       null|          7|      Mike|  Johnson| Manager|               null|               null|\n",
            "|       null|          6|    Sophia|    Clark| Manager|               null|               null|\n",
            "|       null|          9|    Robert|    Davis|  Teller|               null|               null|\n",
            "|       null|          5|    Daniel|  Johnson| Analyst|               null|               null|\n",
            "|       null|         10|    Olivia|   Wilson|  Teller|               null|               null|\n",
            "|       null|         12|    Sophia|    Clark| Manager|               null|               null|\n",
            "|       null|          8|     Emily| Williams|  Teller|               null|               null|\n",
            "|       null|         11|    Daniel|  Johnson| Analyst|               null|               null|\n",
            "|          5|          2|     Emily| Williams|  Teller|              David|              Brown|\n",
            "|          1|          3|    Robert|    Davis|  Teller|               John|                Doe|\n",
            "|          1|          2|     Emily| Williams|  Teller|               John|                Doe|\n",
            "|          3|          1|      Mike|  Johnson| Manager|              Alice|            Johnson|\n",
            "|          3|          3|    Robert|    Davis|  Teller|              Alice|            Johnson|\n",
            "|          2|          2|     Emily| Williams|  Teller|               Jane|              Smith|\n",
            "|          2|          4|    Olivia|   Wilson|  Teller|               Jane|              Smith|\n",
            "|          4|          4|    Olivia|   Wilson|  Teller|              Sarah|              Jones|\n",
            "+-----------+-----------+----------+---------+--------+-------------------+-------------------+\n",
            "\n"
          ]
        }
      ]
    },
    {
      "cell_type": "markdown",
      "source": [
        "**5.\tCalculate the Total Number of Transactions for Each Account Type:**"
      ],
      "metadata": {
        "id": "dabuR-clLIIO"
      }
    },
    {
      "cell_type": "code",
      "source": [
        "from pyspark.sql.functions import count\n",
        "\n",
        "transction_count = customer_transction.groupBy(\"account_type\").agg(count(\"*\").alias(\"num_trnasction\"))\n",
        "transction_count.show()"
      ],
      "metadata": {
        "colab": {
          "base_uri": "https://localhost:8080/"
        },
        "id": "SR38nJcrJ-IJ",
        "outputId": "d72b74ea-f665-4718-bfc5-994b1a29a4ae"
      },
      "execution_count": 255,
      "outputs": [
        {
          "output_type": "stream",
          "name": "stdout",
          "text": [
            "+------------+--------------+\n",
            "|account_type|num_trnasction|\n",
            "+------------+--------------+\n",
            "|     Savings|             5|\n",
            "|    Checking|             5|\n",
            "+------------+--------------+\n",
            "\n"
          ]
        }
      ]
    },
    {
      "cell_type": "markdown",
      "source": [
        "** 6. Find Customers with No Accounts:\n",
        "Note Que 6 and 7 are same **"
      ],
      "metadata": {
        "id": "2ZzYMONSL7ZZ"
      }
    },
    {
      "cell_type": "code",
      "source": [
        "from pyspark.sql import functions as F\n",
        "from pyspark.sql.window import Window\n",
        "\n",
        "latest_transction  ="
      ],
      "metadata": {
        "id": "T1PPlgr4LucR"
      },
      "execution_count": null,
      "outputs": []
    },
    {
      "cell_type": "markdown",
      "source": [
        "7.\tFind Customers with No Accounts"
      ],
      "metadata": {
        "id": "aT7s-z-DM70u"
      }
    },
    {
      "cell_type": "code",
      "source": [
        "customer_with_no_account = spark_df.join(accounts_df,\"customer_id\",\"left_anti\").show()"
      ],
      "metadata": {
        "colab": {
          "base_uri": "https://localhost:8080/"
        },
        "id": "_Ska4IasM8mK",
        "outputId": "a57df359-b3fc-48a6-e70e-0f8883cf628d"
      },
      "execution_count": 258,
      "outputs": [
        {
          "output_type": "stream",
          "name": "stdout",
          "text": [
            "+-----------+----------+---------+-------------+\n",
            "|customer_id|first_name|last_name|date_of_birth|\n",
            "+-----------+----------+---------+-------------+\n",
            "|          6|      Emma|   Miller|   1982-07-25|\n",
            "+-----------+----------+---------+-------------+\n",
            "\n"
          ]
        }
      ]
    },
    {
      "cell_type": "markdown",
      "source": [
        "**9.\tCalculate the Total Withdrawals for Each Customer:**"
      ],
      "metadata": {
        "id": "b8nyshzqNe8V"
      }
    },
    {
      "cell_type": "code",
      "source": [
        "from pyspark.sql import functions as F\n",
        "Withdrawals = df_transactions.filter(df_transactions[\"transaction_type\"]==\"Withdrawal\")\n",
        "\n",
        "total_Withdrawals  = Withdrawals.groupBy(\"account_id\").agg(F.sum(\"amount\").alias(\"total_widrwal\")).show()"
      ],
      "metadata": {
        "colab": {
          "base_uri": "https://localhost:8080/"
        },
        "id": "nt4bFPTbNTJp",
        "outputId": "41f14611-447d-452d-af23-f4375c22ff2c"
      },
      "execution_count": 269,
      "outputs": [
        {
          "output_type": "stream",
          "name": "stdout",
          "text": [
            "+----------+-------------+\n",
            "|account_id|total_widrwal|\n",
            "+----------+-------------+\n",
            "|         1|          500|\n",
            "|         3|         1800|\n",
            "|         4|         1500|\n",
            "+----------+-------------+\n",
            "\n"
          ]
        }
      ]
    },
    {
      "cell_type": "markdown",
      "source": [
        "**10.\tFind Duplicate Transactions:**"
      ],
      "metadata": {
        "id": "6nYtJXMePnDh"
      }
    },
    {
      "cell_type": "code",
      "source": [
        "from pyspark.sql.window import Window\n",
        "\n",
        "data_partition = Window.partitionBy(\"customer_id\",\"amount\",\"transaction_type\",\"transaction_date\")\n",
        "transactions_count = customer_transction.withColumn(\"transaction_count\",F.count(\"*\").over(data_partition))\n",
        "\n",
        "duplicate_transction  =transactions_count.filter(\"transaction_count\">1)\n",
        "result = duplicate_transction.select(\"transction_id\",\"transaction_count\")"
      ],
      "metadata": {
        "colab": {
          "base_uri": "https://localhost:8080/",
          "height": 227
        },
        "id": "45N3H1n7OO-E",
        "outputId": "c4c94a6d-013b-4612-d58e-8bb6bed4f54b"
      },
      "execution_count": 275,
      "outputs": [
        {
          "output_type": "error",
          "ename": "TypeError",
          "evalue": "ignored",
          "traceback": [
            "\u001b[0;31m---------------------------------------------------------------------------\u001b[0m",
            "\u001b[0;31mTypeError\u001b[0m                                 Traceback (most recent call last)",
            "\u001b[0;32m<ipython-input-275-7e3ae743b54e>\u001b[0m in \u001b[0;36m<cell line: 6>\u001b[0;34m()\u001b[0m\n\u001b[1;32m      4\u001b[0m \u001b[0mtransactions_count\u001b[0m \u001b[0;34m=\u001b[0m \u001b[0mcustomer_transction\u001b[0m\u001b[0;34m.\u001b[0m\u001b[0mwithColumn\u001b[0m\u001b[0;34m(\u001b[0m\u001b[0;34m\"transaction_count\"\u001b[0m\u001b[0;34m,\u001b[0m\u001b[0mF\u001b[0m\u001b[0;34m.\u001b[0m\u001b[0mcount\u001b[0m\u001b[0;34m(\u001b[0m\u001b[0;34m\"*\"\u001b[0m\u001b[0;34m)\u001b[0m\u001b[0;34m.\u001b[0m\u001b[0mover\u001b[0m\u001b[0;34m(\u001b[0m\u001b[0mdata_partition\u001b[0m\u001b[0;34m)\u001b[0m\u001b[0;34m)\u001b[0m\u001b[0;34m\u001b[0m\u001b[0;34m\u001b[0m\u001b[0m\n\u001b[1;32m      5\u001b[0m \u001b[0;34m\u001b[0m\u001b[0m\n\u001b[0;32m----> 6\u001b[0;31m \u001b[0mduplicate_transction\u001b[0m  \u001b[0;34m=\u001b[0m\u001b[0mtransactions_count\u001b[0m\u001b[0;34m.\u001b[0m\u001b[0mfilter\u001b[0m\u001b[0;34m(\u001b[0m\u001b[0;34m\"transaction_count\"\u001b[0m\u001b[0;34m>\u001b[0m\u001b[0;36m1\u001b[0m\u001b[0;34m)\u001b[0m\u001b[0;34m\u001b[0m\u001b[0;34m\u001b[0m\u001b[0m\n\u001b[0m\u001b[1;32m      7\u001b[0m \u001b[0mresult\u001b[0m \u001b[0;34m=\u001b[0m \u001b[0mduplicate_transction\u001b[0m\u001b[0;34m.\u001b[0m\u001b[0mselect\u001b[0m\u001b[0;34m(\u001b[0m\u001b[0;34m\"transction_id\"\u001b[0m\u001b[0;34m,\u001b[0m\u001b[0;34m\"transaction_count\"\u001b[0m\u001b[0;34m)\u001b[0m\u001b[0;34m\u001b[0m\u001b[0;34m\u001b[0m\u001b[0m\n",
            "\u001b[0;31mTypeError\u001b[0m: '>' not supported between instances of 'str' and 'int'"
          ]
        }
      ]
    },
    {
      "cell_type": "code",
      "source": [],
      "metadata": {
        "id": "0A1j2BJaRtoU"
      },
      "execution_count": null,
      "outputs": []
    }
  ]
}