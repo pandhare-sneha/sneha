{
  "nbformat": 4,
  "nbformat_minor": 0,
  "metadata": {
    "colab": {
      "provenance": [],
      "authorship_tag": "ABX9TyMoIJNJnzB1SKD7XAaRmO8F",
      "include_colab_link": true
    },
    "kernelspec": {
      "name": "python3",
      "display_name": "Python 3"
    },
    "language_info": {
      "name": "python"
    }
  },
  "cells": [
    {
      "cell_type": "markdown",
      "metadata": {
        "id": "view-in-github",
        "colab_type": "text"
      },
      "source": [
        "<a href=\"https://colab.research.google.com/github/pandhare-sneha/sneha/blob/master/solution_4.ipynb\" target=\"_parent\"><img src=\"https://colab.research.google.com/assets/colab-badge.svg\" alt=\"Open In Colab\"/></a>"
      ]
    },
    {
      "cell_type": "markdown",
      "source": [
        "Write a Python program to reverse a string.\n",
        "\n",
        "\n",
        "\n",
        "﻿Sample String : \"1234abcd\"\n",
        "\n",
        "Expected Output : \"dcba4321\""
      ],
      "metadata": {
        "id": "ipxlOLGwZ1-l"
      }
    },
    {
      "cell_type": "code",
      "source": [
        "def reverse_string(input_str):\n",
        "    reversed_str = input_str[::-1]\n",
        "    return reversed_str\n",
        "\n",
        "# Sample String\n",
        "sample_string = \"1234abcd\"\n",
        "\n",
        "# Reverse the string\n",
        "output = reverse_string(sample_string)\n",
        "\n",
        "# Print the result\n",
        "print(\"Original String:\", sample_string)\n",
        "print(\"Reversed String:\", output)\n"
      ],
      "metadata": {
        "colab": {
          "base_uri": "https://localhost:8080/"
        },
        "id": "mnmdVtjTZ34t",
        "outputId": "ed51ede9-31b3-4070-9833-54ed1432c9cd"
      },
      "execution_count": 2,
      "outputs": [
        {
          "output_type": "stream",
          "name": "stdout",
          "text": [
            "Original String: 1234abcd\n",
            "Reversed String: dcba4321\n"
          ]
        }
      ]
    }
  ]
}