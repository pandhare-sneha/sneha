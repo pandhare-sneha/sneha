{
  "nbformat": 4,
  "nbformat_minor": 0,
  "metadata": {
    "colab": {
      "provenance": [],
      "authorship_tag": "ABX9TyN03Vk5v9N5x9NRYw9OlAah",
      "include_colab_link": true
    },
    "kernelspec": {
      "name": "python3",
      "display_name": "Python 3"
    },
    "language_info": {
      "name": "python"
    }
  },
  "cells": [
    {
      "cell_type": "markdown",
      "metadata": {
        "id": "view-in-github",
        "colab_type": "text"
      },
      "source": [
        "<a href=\"https://colab.research.google.com/github/pandhare-sneha/sneha/blob/master/Solution_3.ipynb\" target=\"_parent\"><img src=\"https://colab.research.google.com/assets/colab-badge.svg\" alt=\"Open In Colab\"/></a>"
      ]
    },
    {
      "cell_type": "markdown",
      "source": [
        "Write a Python function to sum all the numbers in a list.\n",
        "Sample List : [8, 2, 3, 0, 7]\n",
        "\n",
        "Expected Output : 20\n",
        "\n",
        "Explanation:\n",
        "\n",
        "Summation should like 8+2+3+0+7 = 20"
      ],
      "metadata": {
        "id": "vrS3ERwVY6vo"
      }
    },
    {
      "cell_type": "code",
      "source": [
        "my_list = [8, 2, 3, 0, 7]\n",
        "\n",
        "sum_result = sum(my_list)\n",
        "\n",
        "# Print the result\n",
        "print(\"Sum of the items in the list:\", sum_result)\n",
        "\n"
      ],
      "metadata": {
        "colab": {
          "base_uri": "https://localhost:8080/"
        },
        "id": "qTB-D45RY9LK",
        "outputId": "89641ebf-f25d-4c58-8488-1aa5079a6a99"
      },
      "execution_count": 1,
      "outputs": [
        {
          "output_type": "stream",
          "name": "stdout",
          "text": [
            "Sum of the items in the list: 20\n"
          ]
        }
      ]
    }
  ]
}